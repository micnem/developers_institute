{
 "metadata": {
  "language_info": {
   "codemirror_mode": {
    "name": "ipython",
    "version": 3
   },
   "file_extension": ".py",
   "mimetype": "text/x-python",
   "name": "python",
   "nbconvert_exporter": "python",
   "pygments_lexer": "ipython3",
   "version": "3.8.3-final"
  },
  "orig_nbformat": 2,
  "kernelspec": {
   "name": "python3",
   "display_name": "Python 3"
  }
 },
 "nbformat": 4,
 "nbformat_minor": 2,
 "cells": [
  {
   "cell_type": "code",
   "execution_count": 22,
   "metadata": {},
   "outputs": [],
   "source": [
    "import numpy as np\n",
    "import pandas as pd"
   ]
  },
  {
   "cell_type": "code",
   "execution_count": 6,
   "metadata": {},
   "outputs": [],
   "source": [
    "lst = [2,3,4,5]"
   ]
  },
  {
   "cell_type": "code",
   "execution_count": 12,
   "metadata": {},
   "outputs": [],
   "source": [
    "numpy_arr = np.array(lst)"
   ]
  },
  {
   "cell_type": "code",
   "execution_count": 13,
   "metadata": {},
   "outputs": [
    {
     "output_type": "execute_result",
     "data": {
      "text/plain": [
       "array([2, 3, 4, 5])"
      ]
     },
     "metadata": {},
     "execution_count": 13
    }
   ],
   "source": [
    "numpy_arr"
   ]
  },
  {
   "cell_type": "code",
   "execution_count": 14,
   "metadata": {},
   "outputs": [],
   "source": [
    "numpy_arr = np.array(lst)"
   ]
  },
  {
   "cell_type": "code",
   "execution_count": 15,
   "metadata": {},
   "outputs": [
    {
     "output_type": "execute_result",
     "data": {
      "text/plain": [
       "5"
      ]
     },
     "metadata": {},
     "execution_count": 15
    }
   ],
   "source": [
    "numpy_arr.max()"
   ]
  },
  {
   "cell_type": "code",
   "execution_count": 17,
   "metadata": {},
   "outputs": [
    {
     "output_type": "execute_result",
     "data": {
      "text/plain": [
       "120"
      ]
     },
     "metadata": {},
     "execution_count": 17
    }
   ],
   "source": [
    "numpy_arr.prod()"
   ]
  },
  {
   "cell_type": "code",
   "execution_count": 18,
   "metadata": {},
   "outputs": [
    {
     "output_type": "execute_result",
     "data": {
      "text/plain": [
       "1.118033988749895"
      ]
     },
     "metadata": {},
     "execution_count": 18
    }
   ],
   "source": [
    "numpy_arr.std()"
   ]
  },
  {
   "cell_type": "code",
   "execution_count": 20,
   "metadata": {},
   "outputs": [
    {
     "output_type": "execute_result",
     "data": {
      "text/plain": [
       "array([-2, -1,  0,  1])"
      ]
     },
     "metadata": {},
     "execution_count": 20
    }
   ],
   "source": [
    "numpy_arr - 4"
   ]
  },
  {
   "cell_type": "code",
   "execution_count": 21,
   "metadata": {},
   "outputs": [],
   "source": [
    "users = [{\"name\": \"Bob\", \"age\": 24, \"favorite_food\": \"ice cream\"},\n",
    "         {\"name\": \"John\", \"age\": 22, \"favorite_food\": \"hummus\"},\n",
    "         {\"name\": \"Mary\", \"age\": None, \"favorite_food\": \"chocolate\"},\n",
    "         {\"name\": \"Michelle\", \"age\": 27, \"favorite_food\": \"pasta\"},\n",
    "         {\"name\": \"Woody\", \"age\": 47, \"favorite_food\": \"nachos\"},\n",
    "         {\"name\": \"Jorje\", \"age\": 30, \"favorite_food\": \"pita\"},\n",
    "         {\"name\": \"John\", \"age\": 12, \"favorite_food\": None}\n",
    "        ]"
   ]
  },
  {
   "cell_type": "code",
   "execution_count": 26,
   "metadata": {},
   "outputs": [],
   "source": [
    "df = pd.DataFrame(users)"
   ]
  },
  {
   "cell_type": "code",
   "execution_count": 27,
   "metadata": {},
   "outputs": [
    {
     "output_type": "execute_result",
     "data": {
      "text/plain": [
       "       name   age favorite_food\n",
       "0       Bob  24.0     ice cream\n",
       "1      John  22.0        hummus\n",
       "2      Mary   NaN     chocolate\n",
       "3  Michelle  27.0         pasta\n",
       "4     Woody  47.0        nachos\n",
       "5     Jorje  30.0          pita\n",
       "6      John  12.0          None"
      ],
      "text/html": "<div>\n<style scoped>\n    .dataframe tbody tr th:only-of-type {\n        vertical-align: middle;\n    }\n\n    .dataframe tbody tr th {\n        vertical-align: top;\n    }\n\n    .dataframe thead th {\n        text-align: right;\n    }\n</style>\n<table border=\"1\" class=\"dataframe\">\n  <thead>\n    <tr style=\"text-align: right;\">\n      <th></th>\n      <th>name</th>\n      <th>age</th>\n      <th>favorite_food</th>\n    </tr>\n  </thead>\n  <tbody>\n    <tr>\n      <th>0</th>\n      <td>Bob</td>\n      <td>24.0</td>\n      <td>ice cream</td>\n    </tr>\n    <tr>\n      <th>1</th>\n      <td>John</td>\n      <td>22.0</td>\n      <td>hummus</td>\n    </tr>\n    <tr>\n      <th>2</th>\n      <td>Mary</td>\n      <td>NaN</td>\n      <td>chocolate</td>\n    </tr>\n    <tr>\n      <th>3</th>\n      <td>Michelle</td>\n      <td>27.0</td>\n      <td>pasta</td>\n    </tr>\n    <tr>\n      <th>4</th>\n      <td>Woody</td>\n      <td>47.0</td>\n      <td>nachos</td>\n    </tr>\n    <tr>\n      <th>5</th>\n      <td>Jorje</td>\n      <td>30.0</td>\n      <td>pita</td>\n    </tr>\n    <tr>\n      <th>6</th>\n      <td>John</td>\n      <td>12.0</td>\n      <td>None</td>\n    </tr>\n  </tbody>\n</table>\n</div>"
     },
     "metadata": {},
     "execution_count": 27
    }
   ],
   "source": [
    "df"
   ]
  },
  {
   "cell_type": "code",
   "execution_count": 29,
   "metadata": {},
   "outputs": [
    {
     "output_type": "execute_result",
     "data": {
      "text/plain": [
       "   name   age favorite_food\n",
       "0   Bob  24.0     ice cream\n",
       "1  John  22.0        hummus"
      ],
      "text/html": "<div>\n<style scoped>\n    .dataframe tbody tr th:only-of-type {\n        vertical-align: middle;\n    }\n\n    .dataframe tbody tr th {\n        vertical-align: top;\n    }\n\n    .dataframe thead th {\n        text-align: right;\n    }\n</style>\n<table border=\"1\" class=\"dataframe\">\n  <thead>\n    <tr style=\"text-align: right;\">\n      <th></th>\n      <th>name</th>\n      <th>age</th>\n      <th>favorite_food</th>\n    </tr>\n  </thead>\n  <tbody>\n    <tr>\n      <th>0</th>\n      <td>Bob</td>\n      <td>24.0</td>\n      <td>ice cream</td>\n    </tr>\n    <tr>\n      <th>1</th>\n      <td>John</td>\n      <td>22.0</td>\n      <td>hummus</td>\n    </tr>\n  </tbody>\n</table>\n</div>"
     },
     "metadata": {},
     "execution_count": 29
    }
   ],
   "source": [
    "df.head(2)"
   ]
  },
  {
   "cell_type": "code",
   "execution_count": 31,
   "metadata": {},
   "outputs": [
    {
     "output_type": "execute_result",
     "data": {
      "text/plain": [
       "(7, 3)"
      ]
     },
     "metadata": {},
     "execution_count": 31
    }
   ],
   "source": [
    "df.shape"
   ]
  },
  {
   "cell_type": "code",
   "execution_count": 34,
   "metadata": {},
   "outputs": [
    {
     "output_type": "stream",
     "name": "stdout",
     "text": [
      "<class 'pandas.core.frame.DataFrame'>\nRangeIndex: 7 entries, 0 to 6\nData columns (total 3 columns):\n #   Column         Non-Null Count  Dtype  \n---  ------         --------------  -----  \n 0   name           7 non-null      object \n 1   age            6 non-null      float64\n 2   favorite_food  6 non-null      object \ndtypes: float64(1), object(2)\nmemory usage: 296.0+ bytes\n"
     ]
    }
   ],
   "source": [
    "df.info()"
   ]
  },
  {
   "cell_type": "code",
   "execution_count": 35,
   "metadata": {},
   "outputs": [
    {
     "output_type": "execute_result",
     "data": {
      "text/plain": [
       "             age\n",
       "count   6.000000\n",
       "mean   27.000000\n",
       "std    11.558547\n",
       "min    12.000000\n",
       "25%    22.500000\n",
       "50%    25.500000\n",
       "75%    29.250000\n",
       "max    47.000000"
      ],
      "text/html": "<div>\n<style scoped>\n    .dataframe tbody tr th:only-of-type {\n        vertical-align: middle;\n    }\n\n    .dataframe tbody tr th {\n        vertical-align: top;\n    }\n\n    .dataframe thead th {\n        text-align: right;\n    }\n</style>\n<table border=\"1\" class=\"dataframe\">\n  <thead>\n    <tr style=\"text-align: right;\">\n      <th></th>\n      <th>age</th>\n    </tr>\n  </thead>\n  <tbody>\n    <tr>\n      <th>count</th>\n      <td>6.000000</td>\n    </tr>\n    <tr>\n      <th>mean</th>\n      <td>27.000000</td>\n    </tr>\n    <tr>\n      <th>std</th>\n      <td>11.558547</td>\n    </tr>\n    <tr>\n      <th>min</th>\n      <td>12.000000</td>\n    </tr>\n    <tr>\n      <th>25%</th>\n      <td>22.500000</td>\n    </tr>\n    <tr>\n      <th>50%</th>\n      <td>25.500000</td>\n    </tr>\n    <tr>\n      <th>75%</th>\n      <td>29.250000</td>\n    </tr>\n    <tr>\n      <th>max</th>\n      <td>47.000000</td>\n    </tr>\n  </tbody>\n</table>\n</div>"
     },
     "metadata": {},
     "execution_count": 35
    }
   ],
   "source": [
    "df.describe()"
   ]
  },
  {
   "cell_type": "code",
   "execution_count": 36,
   "metadata": {},
   "outputs": [
    {
     "output_type": "execute_result",
     "data": {
      "text/plain": [
       "       name   age favorite_food\n",
       "0       Bob  24.0     ice cream\n",
       "1      John  22.0        hummus\n",
       "2      Mary   NaN     chocolate\n",
       "3  Michelle  27.0         pasta\n",
       "4     Woody  47.0        nachos\n",
       "5     Jorje  30.0          pita\n",
       "6      John  12.0          None"
      ],
      "text/html": "<div>\n<style scoped>\n    .dataframe tbody tr th:only-of-type {\n        vertical-align: middle;\n    }\n\n    .dataframe tbody tr th {\n        vertical-align: top;\n    }\n\n    .dataframe thead th {\n        text-align: right;\n    }\n</style>\n<table border=\"1\" class=\"dataframe\">\n  <thead>\n    <tr style=\"text-align: right;\">\n      <th></th>\n      <th>name</th>\n      <th>age</th>\n      <th>favorite_food</th>\n    </tr>\n  </thead>\n  <tbody>\n    <tr>\n      <th>0</th>\n      <td>Bob</td>\n      <td>24.0</td>\n      <td>ice cream</td>\n    </tr>\n    <tr>\n      <th>1</th>\n      <td>John</td>\n      <td>22.0</td>\n      <td>hummus</td>\n    </tr>\n    <tr>\n      <th>2</th>\n      <td>Mary</td>\n      <td>NaN</td>\n      <td>chocolate</td>\n    </tr>\n    <tr>\n      <th>3</th>\n      <td>Michelle</td>\n      <td>27.0</td>\n      <td>pasta</td>\n    </tr>\n    <tr>\n      <th>4</th>\n      <td>Woody</td>\n      <td>47.0</td>\n      <td>nachos</td>\n    </tr>\n    <tr>\n      <th>5</th>\n      <td>Jorje</td>\n      <td>30.0</td>\n      <td>pita</td>\n    </tr>\n    <tr>\n      <th>6</th>\n      <td>John</td>\n      <td>12.0</td>\n      <td>None</td>\n    </tr>\n  </tbody>\n</table>\n</div>"
     },
     "metadata": {},
     "execution_count": 36
    }
   ],
   "source": [
    "df"
   ]
  },
  {
   "cell_type": "code",
   "execution_count": 39,
   "metadata": {},
   "outputs": [
    {
     "output_type": "execute_result",
     "data": {
      "text/plain": [
       "0    ice cream\n",
       "1       hummus\n",
       "2    chocolate\n",
       "3        pasta\n",
       "4       nachos\n",
       "5         pita\n",
       "6         None\n",
       "Name: favorite_food, dtype: object"
      ]
     },
     "metadata": {},
     "execution_count": 39
    }
   ],
   "source": [
    "df['favorite_food']"
   ]
  },
  {
   "cell_type": "code",
   "execution_count": null,
   "metadata": {},
   "outputs": [],
   "source": []
  }
 ]
}