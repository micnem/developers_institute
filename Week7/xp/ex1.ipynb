{
 "metadata": {
  "language_info": {
   "codemirror_mode": {
    "name": "ipython",
    "version": 3
   },
   "file_extension": ".py",
   "mimetype": "text/x-python",
   "name": "python",
   "nbconvert_exporter": "python",
   "pygments_lexer": "ipython3",
   "version": "3.8.3-final"
  },
  "orig_nbformat": 2,
  "kernelspec": {
   "name": "python3",
   "display_name": "Python 3"
  }
 },
 "nbformat": 4,
 "nbformat_minor": 2,
 "cells": [
  {
   "cell_type": "code",
   "execution_count": 137,
   "metadata": {},
   "outputs": [],
   "source": [
    "import numpy as np\n",
    "import pandas as pd\n",
    "from dateutil.parser import parse\n",
    "import re\n",
    "import matplotlib.pyplot as plt"
   ]
  },
  {
   "cell_type": "code",
   "execution_count": 69,
   "metadata": {},
   "outputs": [],
   "source": [
    "x = np.arange(6,406,4)"
   ]
  },
  {
   "cell_type": "code",
   "execution_count": 70,
   "metadata": {},
   "outputs": [
    {
     "output_type": "execute_result",
     "data": {
      "text/plain": [
       "(100,)"
      ]
     },
     "metadata": {},
     "execution_count": 70
    }
   ],
   "source": [
    "x.shape"
   ]
  },
  {
   "cell_type": "code",
   "execution_count": 71,
   "metadata": {},
   "outputs": [],
   "source": [
    "a = np.array([1,2,3,np.nan,5,6,7,np.nan])"
   ]
  },
  {
   "cell_type": "code",
   "execution_count": 72,
   "metadata": {},
   "outputs": [],
   "source": [
    "result = a[np.logical_not(np.isnan(a))]"
   ]
  },
  {
   "cell_type": "code",
   "execution_count": 73,
   "metadata": {},
   "outputs": [
    {
     "output_type": "execute_result",
     "data": {
      "text/plain": [
       "array([1., 2., 3., 5., 6., 7.])"
      ]
     },
     "metadata": {},
     "execution_count": 73
    }
   ],
   "source": [
    "result"
   ]
  },
  {
   "cell_type": "code",
   "execution_count": 74,
   "metadata": {},
   "outputs": [],
   "source": [
    "x= np.random.randint(100, size=(3, 5))"
   ]
  },
  {
   "cell_type": "code",
   "execution_count": 75,
   "metadata": {},
   "outputs": [
    {
     "output_type": "execute_result",
     "data": {
      "text/plain": [
       "array([[39, 64, 58, 90, 59],\n",
       "       [17,  3, 48, 44,  1],\n",
       "       [20, 61, 23, 98, 68]])"
      ]
     },
     "metadata": {},
     "execution_count": 75
    }
   ],
   "source": [
    "x"
   ]
  },
  {
   "cell_type": "code",
   "execution_count": 76,
   "metadata": {},
   "outputs": [
    {
     "output_type": "execute_result",
     "data": {
      "text/plain": [
       "array([39, 64, 58, 98, 68])"
      ]
     },
     "metadata": {},
     "execution_count": 76
    }
   ],
   "source": [
    "x.max(axis = 0)"
   ]
  },
  {
   "cell_type": "code",
   "execution_count": 77,
   "metadata": {},
   "outputs": [],
   "source": [
    "series = pd.Series(np.take(list('abcdefghijklmnop'), np.random.randint(16, size=500)))\n"
   ]
  },
  {
   "cell_type": "code",
   "execution_count": 49,
   "metadata": {},
   "outputs": [
    {
     "output_type": "execute_result",
     "data": {
      "text/plain": [
       "0      p\n",
       "1      c\n",
       "2      k\n",
       "3      g\n",
       "4      n\n",
       "      ..\n",
       "495    l\n",
       "496    e\n",
       "497    d\n",
       "498    d\n",
       "499    n\n",
       "Length: 500, dtype: object"
      ]
     },
     "metadata": {},
     "execution_count": 49
    }
   ],
   "source": [
    "series"
   ]
  },
  {
   "cell_type": "code",
   "execution_count": 78,
   "metadata": {},
   "outputs": [
    {
     "output_type": "execute_result",
     "data": {
      "text/plain": [
       "(array(['a', 'b', 'c', 'd', 'e', 'f', 'g', 'h', 'i', 'j', 'k', 'l', 'm',\n",
       "        'n', 'o', 'p'], dtype=object),\n",
       " array([37, 39, 28, 29, 32, 38, 17, 40, 20, 31, 27, 34, 24, 39, 36, 29]))"
      ]
     },
     "metadata": {},
     "execution_count": 78
    }
   ],
   "source": [
    "np.unique(series, return_counts=True)"
   ]
  },
  {
   "cell_type": "code",
   "execution_count": 79,
   "metadata": {},
   "outputs": [],
   "source": [
    "date_series = pd.Series(['01 Jan 2020', '10-19-2020', '20150303', '2013/04/04', '2012-05-05', '2013-06-06T12:20'])"
   ]
  },
  {
   "cell_type": "code",
   "execution_count": 64,
   "metadata": {},
   "outputs": [
    {
     "output_type": "error",
     "ename": "TypeError",
     "evalue": "Parser must be a string or character stream, not Timestamp",
     "traceback": [
      "\u001b[0;31m---------------------------------------------------------------------------\u001b[0m",
      "\u001b[0;31mTypeError\u001b[0m                                 Traceback (most recent call last)",
      "\u001b[0;32m<ipython-input-64-16038c46228d>\u001b[0m in \u001b[0;36m<module>\u001b[0;34m\u001b[0m\n\u001b[0;32m----> 1\u001b[0;31m \u001b[0mdate_series\u001b[0m \u001b[0;34m=\u001b[0m \u001b[0mdate_series\u001b[0m\u001b[0;34m.\u001b[0m\u001b[0mmap\u001b[0m\u001b[0;34m(\u001b[0m\u001b[0;32mlambda\u001b[0m \u001b[0mx\u001b[0m\u001b[0;34m:\u001b[0m \u001b[0mparse\u001b[0m\u001b[0;34m(\u001b[0m\u001b[0mx\u001b[0m\u001b[0;34m)\u001b[0m\u001b[0;34m)\u001b[0m\u001b[0;34m\u001b[0m\u001b[0;34m\u001b[0m\u001b[0m\n\u001b[0m",
      "\u001b[0;32m~/opt/anaconda3/lib/python3.8/site-packages/pandas/core/series.py\u001b[0m in \u001b[0;36mmap\u001b[0;34m(self, arg, na_action)\u001b[0m\n\u001b[1;32m   3628\u001b[0m         \u001b[0mdtype\u001b[0m\u001b[0;34m:\u001b[0m \u001b[0mobject\u001b[0m\u001b[0;34m\u001b[0m\u001b[0;34m\u001b[0m\u001b[0m\n\u001b[1;32m   3629\u001b[0m         \"\"\"\n\u001b[0;32m-> 3630\u001b[0;31m         \u001b[0mnew_values\u001b[0m \u001b[0;34m=\u001b[0m \u001b[0msuper\u001b[0m\u001b[0;34m(\u001b[0m\u001b[0;34m)\u001b[0m\u001b[0;34m.\u001b[0m\u001b[0m_map_values\u001b[0m\u001b[0;34m(\u001b[0m\u001b[0marg\u001b[0m\u001b[0;34m,\u001b[0m \u001b[0mna_action\u001b[0m\u001b[0;34m=\u001b[0m\u001b[0mna_action\u001b[0m\u001b[0;34m)\u001b[0m\u001b[0;34m\u001b[0m\u001b[0;34m\u001b[0m\u001b[0m\n\u001b[0m\u001b[1;32m   3631\u001b[0m         \u001b[0;32mreturn\u001b[0m \u001b[0mself\u001b[0m\u001b[0;34m.\u001b[0m\u001b[0m_constructor\u001b[0m\u001b[0;34m(\u001b[0m\u001b[0mnew_values\u001b[0m\u001b[0;34m,\u001b[0m \u001b[0mindex\u001b[0m\u001b[0;34m=\u001b[0m\u001b[0mself\u001b[0m\u001b[0;34m.\u001b[0m\u001b[0mindex\u001b[0m\u001b[0;34m)\u001b[0m\u001b[0;34m.\u001b[0m\u001b[0m__finalize__\u001b[0m\u001b[0;34m(\u001b[0m\u001b[0mself\u001b[0m\u001b[0;34m)\u001b[0m\u001b[0;34m\u001b[0m\u001b[0;34m\u001b[0m\u001b[0m\n\u001b[1;32m   3632\u001b[0m \u001b[0;34m\u001b[0m\u001b[0m\n",
      "\u001b[0;32m~/opt/anaconda3/lib/python3.8/site-packages/pandas/core/base.py\u001b[0m in \u001b[0;36m_map_values\u001b[0;34m(self, mapper, na_action)\u001b[0m\n\u001b[1;32m   1143\u001b[0m \u001b[0;34m\u001b[0m\u001b[0m\n\u001b[1;32m   1144\u001b[0m         \u001b[0;31m# mapper is a function\u001b[0m\u001b[0;34m\u001b[0m\u001b[0;34m\u001b[0m\u001b[0;34m\u001b[0m\u001b[0m\n\u001b[0;32m-> 1145\u001b[0;31m         \u001b[0mnew_values\u001b[0m \u001b[0;34m=\u001b[0m \u001b[0mmap_f\u001b[0m\u001b[0;34m(\u001b[0m\u001b[0mvalues\u001b[0m\u001b[0;34m,\u001b[0m \u001b[0mmapper\u001b[0m\u001b[0;34m)\u001b[0m\u001b[0;34m\u001b[0m\u001b[0;34m\u001b[0m\u001b[0m\n\u001b[0m\u001b[1;32m   1146\u001b[0m \u001b[0;34m\u001b[0m\u001b[0m\n\u001b[1;32m   1147\u001b[0m         \u001b[0;32mreturn\u001b[0m \u001b[0mnew_values\u001b[0m\u001b[0;34m\u001b[0m\u001b[0;34m\u001b[0m\u001b[0m\n",
      "\u001b[0;32mpandas/_libs/lib.pyx\u001b[0m in \u001b[0;36mpandas._libs.lib.map_infer\u001b[0;34m()\u001b[0m\n",
      "\u001b[0;32m<ipython-input-64-16038c46228d>\u001b[0m in \u001b[0;36m<lambda>\u001b[0;34m(x)\u001b[0m\n\u001b[0;32m----> 1\u001b[0;31m \u001b[0mdate_series\u001b[0m \u001b[0;34m=\u001b[0m \u001b[0mdate_series\u001b[0m\u001b[0;34m.\u001b[0m\u001b[0mmap\u001b[0m\u001b[0;34m(\u001b[0m\u001b[0;32mlambda\u001b[0m \u001b[0mx\u001b[0m\u001b[0;34m:\u001b[0m \u001b[0mparse\u001b[0m\u001b[0;34m(\u001b[0m\u001b[0mx\u001b[0m\u001b[0;34m)\u001b[0m\u001b[0;34m)\u001b[0m\u001b[0;34m\u001b[0m\u001b[0;34m\u001b[0m\u001b[0m\n\u001b[0m",
      "\u001b[0;32m~/opt/anaconda3/lib/python3.8/site-packages/dateutil/parser/_parser.py\u001b[0m in \u001b[0;36mparse\u001b[0;34m(timestr, parserinfo, **kwargs)\u001b[0m\n\u001b[1;32m   1356\u001b[0m         \u001b[0;32mreturn\u001b[0m \u001b[0mparser\u001b[0m\u001b[0;34m(\u001b[0m\u001b[0mparserinfo\u001b[0m\u001b[0;34m)\u001b[0m\u001b[0;34m.\u001b[0m\u001b[0mparse\u001b[0m\u001b[0;34m(\u001b[0m\u001b[0mtimestr\u001b[0m\u001b[0;34m,\u001b[0m \u001b[0;34m**\u001b[0m\u001b[0mkwargs\u001b[0m\u001b[0;34m)\u001b[0m\u001b[0;34m\u001b[0m\u001b[0;34m\u001b[0m\u001b[0m\n\u001b[1;32m   1357\u001b[0m     \u001b[0;32melse\u001b[0m\u001b[0;34m:\u001b[0m\u001b[0;34m\u001b[0m\u001b[0;34m\u001b[0m\u001b[0m\n\u001b[0;32m-> 1358\u001b[0;31m         \u001b[0;32mreturn\u001b[0m \u001b[0mDEFAULTPARSER\u001b[0m\u001b[0;34m.\u001b[0m\u001b[0mparse\u001b[0m\u001b[0;34m(\u001b[0m\u001b[0mtimestr\u001b[0m\u001b[0;34m,\u001b[0m \u001b[0;34m**\u001b[0m\u001b[0mkwargs\u001b[0m\u001b[0;34m)\u001b[0m\u001b[0;34m\u001b[0m\u001b[0;34m\u001b[0m\u001b[0m\n\u001b[0m\u001b[1;32m   1359\u001b[0m \u001b[0;34m\u001b[0m\u001b[0m\n\u001b[1;32m   1360\u001b[0m \u001b[0;34m\u001b[0m\u001b[0m\n",
      "\u001b[0;32m~/opt/anaconda3/lib/python3.8/site-packages/dateutil/parser/_parser.py\u001b[0m in \u001b[0;36mparse\u001b[0;34m(self, timestr, default, ignoretz, tzinfos, **kwargs)\u001b[0m\n\u001b[1;32m    644\u001b[0m                                                       second=0, microsecond=0)\n\u001b[1;32m    645\u001b[0m \u001b[0;34m\u001b[0m\u001b[0m\n\u001b[0;32m--> 646\u001b[0;31m         \u001b[0mres\u001b[0m\u001b[0;34m,\u001b[0m \u001b[0mskipped_tokens\u001b[0m \u001b[0;34m=\u001b[0m \u001b[0mself\u001b[0m\u001b[0;34m.\u001b[0m\u001b[0m_parse\u001b[0m\u001b[0;34m(\u001b[0m\u001b[0mtimestr\u001b[0m\u001b[0;34m,\u001b[0m \u001b[0;34m**\u001b[0m\u001b[0mkwargs\u001b[0m\u001b[0;34m)\u001b[0m\u001b[0;34m\u001b[0m\u001b[0;34m\u001b[0m\u001b[0m\n\u001b[0m\u001b[1;32m    647\u001b[0m \u001b[0;34m\u001b[0m\u001b[0m\n\u001b[1;32m    648\u001b[0m         \u001b[0;32mif\u001b[0m \u001b[0mres\u001b[0m \u001b[0;32mis\u001b[0m \u001b[0;32mNone\u001b[0m\u001b[0;34m:\u001b[0m\u001b[0;34m\u001b[0m\u001b[0;34m\u001b[0m\u001b[0m\n",
      "\u001b[0;32m~/opt/anaconda3/lib/python3.8/site-packages/dateutil/parser/_parser.py\u001b[0m in \u001b[0;36m_parse\u001b[0;34m(self, timestr, dayfirst, yearfirst, fuzzy, fuzzy_with_tokens)\u001b[0m\n\u001b[1;32m    720\u001b[0m \u001b[0;34m\u001b[0m\u001b[0m\n\u001b[1;32m    721\u001b[0m         \u001b[0mres\u001b[0m \u001b[0;34m=\u001b[0m \u001b[0mself\u001b[0m\u001b[0;34m.\u001b[0m\u001b[0m_result\u001b[0m\u001b[0;34m(\u001b[0m\u001b[0;34m)\u001b[0m\u001b[0;34m\u001b[0m\u001b[0;34m\u001b[0m\u001b[0m\n\u001b[0;32m--> 722\u001b[0;31m         \u001b[0ml\u001b[0m \u001b[0;34m=\u001b[0m \u001b[0m_timelex\u001b[0m\u001b[0;34m.\u001b[0m\u001b[0msplit\u001b[0m\u001b[0;34m(\u001b[0m\u001b[0mtimestr\u001b[0m\u001b[0;34m)\u001b[0m         \u001b[0;31m# Splits the timestr into tokens\u001b[0m\u001b[0;34m\u001b[0m\u001b[0;34m\u001b[0m\u001b[0m\n\u001b[0m\u001b[1;32m    723\u001b[0m \u001b[0;34m\u001b[0m\u001b[0m\n\u001b[1;32m    724\u001b[0m         \u001b[0mskipped_idxs\u001b[0m \u001b[0;34m=\u001b[0m \u001b[0;34m[\u001b[0m\u001b[0;34m]\u001b[0m\u001b[0;34m\u001b[0m\u001b[0;34m\u001b[0m\u001b[0m\n",
      "\u001b[0;32m~/opt/anaconda3/lib/python3.8/site-packages/dateutil/parser/_parser.py\u001b[0m in \u001b[0;36msplit\u001b[0;34m(cls, s)\u001b[0m\n\u001b[1;32m    205\u001b[0m     \u001b[0;34m@\u001b[0m\u001b[0mclassmethod\u001b[0m\u001b[0;34m\u001b[0m\u001b[0;34m\u001b[0m\u001b[0m\n\u001b[1;32m    206\u001b[0m     \u001b[0;32mdef\u001b[0m \u001b[0msplit\u001b[0m\u001b[0;34m(\u001b[0m\u001b[0mcls\u001b[0m\u001b[0;34m,\u001b[0m \u001b[0ms\u001b[0m\u001b[0;34m)\u001b[0m\u001b[0;34m:\u001b[0m\u001b[0;34m\u001b[0m\u001b[0;34m\u001b[0m\u001b[0m\n\u001b[0;32m--> 207\u001b[0;31m         \u001b[0;32mreturn\u001b[0m \u001b[0mlist\u001b[0m\u001b[0;34m(\u001b[0m\u001b[0mcls\u001b[0m\u001b[0;34m(\u001b[0m\u001b[0ms\u001b[0m\u001b[0;34m)\u001b[0m\u001b[0;34m)\u001b[0m\u001b[0;34m\u001b[0m\u001b[0;34m\u001b[0m\u001b[0m\n\u001b[0m\u001b[1;32m    208\u001b[0m \u001b[0;34m\u001b[0m\u001b[0m\n\u001b[1;32m    209\u001b[0m     \u001b[0;34m@\u001b[0m\u001b[0mclassmethod\u001b[0m\u001b[0;34m\u001b[0m\u001b[0;34m\u001b[0m\u001b[0m\n",
      "\u001b[0;32m~/opt/anaconda3/lib/python3.8/site-packages/dateutil/parser/_parser.py\u001b[0m in \u001b[0;36m__init__\u001b[0;34m(self, instream)\u001b[0m\n\u001b[1;32m     73\u001b[0m             \u001b[0minstream\u001b[0m \u001b[0;34m=\u001b[0m \u001b[0mStringIO\u001b[0m\u001b[0;34m(\u001b[0m\u001b[0minstream\u001b[0m\u001b[0;34m)\u001b[0m\u001b[0;34m\u001b[0m\u001b[0;34m\u001b[0m\u001b[0m\n\u001b[1;32m     74\u001b[0m         \u001b[0;32melif\u001b[0m \u001b[0mgetattr\u001b[0m\u001b[0;34m(\u001b[0m\u001b[0minstream\u001b[0m\u001b[0;34m,\u001b[0m \u001b[0;34m'read'\u001b[0m\u001b[0;34m,\u001b[0m \u001b[0;32mNone\u001b[0m\u001b[0;34m)\u001b[0m \u001b[0;32mis\u001b[0m \u001b[0;32mNone\u001b[0m\u001b[0;34m:\u001b[0m\u001b[0;34m\u001b[0m\u001b[0;34m\u001b[0m\u001b[0m\n\u001b[0;32m---> 75\u001b[0;31m             raise TypeError('Parser must be a string or character stream, not '\n\u001b[0m\u001b[1;32m     76\u001b[0m                             '{itype}'.format(itype=instream.__class__.__name__))\n\u001b[1;32m     77\u001b[0m \u001b[0;34m\u001b[0m\u001b[0m\n",
      "\u001b[0;31mTypeError\u001b[0m: Parser must be a string or character stream, not Timestamp"
     ]
    }
   ],
   "source": [
    "date_series = date_series.map(lambda x: parse(x))\n"
   ]
  },
  {
   "cell_type": "code",
   "execution_count": 62,
   "metadata": {},
   "outputs": [
    {
     "output_type": "execute_result",
     "data": {
      "text/plain": [
       "0   2020-01-01 00:00:00\n",
       "1   2020-10-19 00:00:00\n",
       "2   2015-03-03 00:00:00\n",
       "3   2013-04-04 00:00:00\n",
       "4   2012-05-05 00:00:00\n",
       "5   2013-06-06 12:20:00\n",
       "dtype: datetime64[ns]"
      ]
     },
     "metadata": {},
     "execution_count": 62
    }
   ],
   "source": [
    "date_series"
   ]
  },
  {
   "cell_type": "code",
   "execution_count": 58,
   "metadata": {},
   "outputs": [
    {
     "output_type": "execute_result",
     "data": {
      "text/plain": [
       "[1, 19, 3, 4, 5, 6]"
      ]
     },
     "metadata": {},
     "execution_count": 58
    }
   ],
   "source": [
    "date_series.dt.day.tolist()"
   ]
  },
  {
   "cell_type": "code",
   "execution_count": 59,
   "metadata": {},
   "outputs": [
    {
     "output_type": "execute_result",
     "data": {
      "text/plain": [
       "[1, 293, 62, 94, 126, 157]"
      ]
     },
     "metadata": {},
     "execution_count": 59
    }
   ],
   "source": [
    "date_series.dt.dayofyear.tolist()"
   ]
  },
  {
   "cell_type": "code",
   "execution_count": 61,
   "metadata": {},
   "outputs": [
    {
     "output_type": "error",
     "ename": "AttributeError",
     "evalue": "'DatetimeProperties' object has no attribute 'weekday_name'",
     "traceback": [
      "\u001b[0;31m---------------------------------------------------------------------------\u001b[0m",
      "\u001b[0;31mAttributeError\u001b[0m                            Traceback (most recent call last)",
      "\u001b[0;32m<ipython-input-61-60c4407166c6>\u001b[0m in \u001b[0;36m<module>\u001b[0;34m\u001b[0m\n\u001b[0;32m----> 1\u001b[0;31m \u001b[0mdate_series\u001b[0m\u001b[0;34m.\u001b[0m\u001b[0mdt\u001b[0m\u001b[0;34m.\u001b[0m\u001b[0mweekday_name\u001b[0m\u001b[0;34m.\u001b[0m\u001b[0mtolist\u001b[0m\u001b[0;34m(\u001b[0m\u001b[0;34m)\u001b[0m\u001b[0;34m\u001b[0m\u001b[0;34m\u001b[0m\u001b[0m\n\u001b[0m",
      "\u001b[0;31mAttributeError\u001b[0m: 'DatetimeProperties' object has no attribute 'weekday_name'"
     ]
    }
   ],
   "source": [
    "date_series.dt.weekday_name.tolist()"
   ]
  },
  {
   "cell_type": "code",
   "execution_count": 82,
   "metadata": {},
   "outputs": [],
   "source": [
    "df = pd.read_csv('https://raw.githubusercontent.com/selva86/datasets/master/Cars93_miss.csv')"
   ]
  },
  {
   "cell_type": "code",
   "execution_count": 83,
   "metadata": {},
   "outputs": [
    {
     "output_type": "stream",
     "name": "stdout",
     "text": [
      "<class 'pandas.core.frame.DataFrame'>\nRangeIndex: 93 entries, 0 to 92\nData columns (total 27 columns):\n #   Column              Non-Null Count  Dtype  \n---  ------              --------------  -----  \n 0   Manufacturer        89 non-null     object \n 1   Model               92 non-null     object \n 2   Type                90 non-null     object \n 3   Min.Price           86 non-null     float64\n 4   Price               91 non-null     float64\n 5   Max.Price           88 non-null     float64\n 6   MPG.city            84 non-null     float64\n 7   MPG.highway         91 non-null     float64\n 8   AirBags             87 non-null     object \n 9   DriveTrain          86 non-null     object \n 10  Cylinders           88 non-null     object \n 11  EngineSize          91 non-null     float64\n 12  Horsepower          86 non-null     float64\n 13  RPM                 90 non-null     float64\n 14  Rev.per.mile        87 non-null     float64\n 15  Man.trans.avail     88 non-null     object \n 16  Fuel.tank.capacity  85 non-null     float64\n 17  Passengers          91 non-null     float64\n 18  Length              89 non-null     float64\n 19  Wheelbase           92 non-null     float64\n 20  Width               87 non-null     float64\n 21  Turn.circle         88 non-null     float64\n 22  Rear.seat.room      89 non-null     float64\n 23  Luggage.room        74 non-null     float64\n 24  Weight              86 non-null     float64\n 25  Origin              88 non-null     object \n 26  Make                90 non-null     object \ndtypes: float64(18), object(9)\nmemory usage: 19.7+ KB\n"
     ]
    }
   ],
   "source": [
    "df.info()"
   ]
  },
  {
   "cell_type": "code",
   "execution_count": 84,
   "metadata": {},
   "outputs": [
    {
     "output_type": "execute_result",
     "data": {
      "text/plain": [
       "  Manufacturer    Model     Type  Min.Price  Price  Max.Price  MPG.city  \\\n",
       "0        Acura  Integra    Small       12.9   15.9       18.8      25.0   \n",
       "1          NaN   Legend  Midsize       29.2   33.9       38.7      18.0   \n",
       "2         Audi       90  Compact       25.9   29.1       32.3      20.0   \n",
       "3         Audi      100  Midsize        NaN   37.7       44.6      19.0   \n",
       "4          BMW     535i  Midsize        NaN   30.0        NaN      22.0   \n",
       "\n",
       "   MPG.highway             AirBags DriveTrain  ... Passengers  Length  \\\n",
       "0         31.0                None      Front  ...        5.0   177.0   \n",
       "1         25.0  Driver & Passenger      Front  ...        5.0   195.0   \n",
       "2         26.0         Driver only      Front  ...        5.0   180.0   \n",
       "3         26.0  Driver & Passenger        NaN  ...        6.0   193.0   \n",
       "4         30.0                 NaN       Rear  ...        4.0   186.0   \n",
       "\n",
       "   Wheelbase  Width  Turn.circle Rear.seat.room  Luggage.room  Weight  \\\n",
       "0      102.0   68.0         37.0           26.5           NaN  2705.0   \n",
       "1      115.0   71.0         38.0           30.0          15.0  3560.0   \n",
       "2      102.0   67.0         37.0           28.0          14.0  3375.0   \n",
       "3      106.0    NaN         37.0           31.0          17.0  3405.0   \n",
       "4      109.0   69.0         39.0           27.0          13.0  3640.0   \n",
       "\n",
       "    Origin           Make  \n",
       "0  non-USA  Acura Integra  \n",
       "1  non-USA   Acura Legend  \n",
       "2  non-USA        Audi 90  \n",
       "3  non-USA       Audi 100  \n",
       "4  non-USA       BMW 535i  \n",
       "\n",
       "[5 rows x 27 columns]"
      ],
      "text/html": "<div>\n<style scoped>\n    .dataframe tbody tr th:only-of-type {\n        vertical-align: middle;\n    }\n\n    .dataframe tbody tr th {\n        vertical-align: top;\n    }\n\n    .dataframe thead th {\n        text-align: right;\n    }\n</style>\n<table border=\"1\" class=\"dataframe\">\n  <thead>\n    <tr style=\"text-align: right;\">\n      <th></th>\n      <th>Manufacturer</th>\n      <th>Model</th>\n      <th>Type</th>\n      <th>Min.Price</th>\n      <th>Price</th>\n      <th>Max.Price</th>\n      <th>MPG.city</th>\n      <th>MPG.highway</th>\n      <th>AirBags</th>\n      <th>DriveTrain</th>\n      <th>...</th>\n      <th>Passengers</th>\n      <th>Length</th>\n      <th>Wheelbase</th>\n      <th>Width</th>\n      <th>Turn.circle</th>\n      <th>Rear.seat.room</th>\n      <th>Luggage.room</th>\n      <th>Weight</th>\n      <th>Origin</th>\n      <th>Make</th>\n    </tr>\n  </thead>\n  <tbody>\n    <tr>\n      <th>0</th>\n      <td>Acura</td>\n      <td>Integra</td>\n      <td>Small</td>\n      <td>12.9</td>\n      <td>15.9</td>\n      <td>18.8</td>\n      <td>25.0</td>\n      <td>31.0</td>\n      <td>None</td>\n      <td>Front</td>\n      <td>...</td>\n      <td>5.0</td>\n      <td>177.0</td>\n      <td>102.0</td>\n      <td>68.0</td>\n      <td>37.0</td>\n      <td>26.5</td>\n      <td>NaN</td>\n      <td>2705.0</td>\n      <td>non-USA</td>\n      <td>Acura Integra</td>\n    </tr>\n    <tr>\n      <th>1</th>\n      <td>NaN</td>\n      <td>Legend</td>\n      <td>Midsize</td>\n      <td>29.2</td>\n      <td>33.9</td>\n      <td>38.7</td>\n      <td>18.0</td>\n      <td>25.0</td>\n      <td>Driver &amp; Passenger</td>\n      <td>Front</td>\n      <td>...</td>\n      <td>5.0</td>\n      <td>195.0</td>\n      <td>115.0</td>\n      <td>71.0</td>\n      <td>38.0</td>\n      <td>30.0</td>\n      <td>15.0</td>\n      <td>3560.0</td>\n      <td>non-USA</td>\n      <td>Acura Legend</td>\n    </tr>\n    <tr>\n      <th>2</th>\n      <td>Audi</td>\n      <td>90</td>\n      <td>Compact</td>\n      <td>25.9</td>\n      <td>29.1</td>\n      <td>32.3</td>\n      <td>20.0</td>\n      <td>26.0</td>\n      <td>Driver only</td>\n      <td>Front</td>\n      <td>...</td>\n      <td>5.0</td>\n      <td>180.0</td>\n      <td>102.0</td>\n      <td>67.0</td>\n      <td>37.0</td>\n      <td>28.0</td>\n      <td>14.0</td>\n      <td>3375.0</td>\n      <td>non-USA</td>\n      <td>Audi 90</td>\n    </tr>\n    <tr>\n      <th>3</th>\n      <td>Audi</td>\n      <td>100</td>\n      <td>Midsize</td>\n      <td>NaN</td>\n      <td>37.7</td>\n      <td>44.6</td>\n      <td>19.0</td>\n      <td>26.0</td>\n      <td>Driver &amp; Passenger</td>\n      <td>NaN</td>\n      <td>...</td>\n      <td>6.0</td>\n      <td>193.0</td>\n      <td>106.0</td>\n      <td>NaN</td>\n      <td>37.0</td>\n      <td>31.0</td>\n      <td>17.0</td>\n      <td>3405.0</td>\n      <td>non-USA</td>\n      <td>Audi 100</td>\n    </tr>\n    <tr>\n      <th>4</th>\n      <td>BMW</td>\n      <td>535i</td>\n      <td>Midsize</td>\n      <td>NaN</td>\n      <td>30.0</td>\n      <td>NaN</td>\n      <td>22.0</td>\n      <td>30.0</td>\n      <td>NaN</td>\n      <td>Rear</td>\n      <td>...</td>\n      <td>4.0</td>\n      <td>186.0</td>\n      <td>109.0</td>\n      <td>69.0</td>\n      <td>39.0</td>\n      <td>27.0</td>\n      <td>13.0</td>\n      <td>3640.0</td>\n      <td>non-USA</td>\n      <td>BMW 535i</td>\n    </tr>\n  </tbody>\n</table>\n<p>5 rows × 27 columns</p>\n</div>"
     },
     "metadata": {},
     "execution_count": 84
    }
   ],
   "source": [
    "df.head()"
   ]
  },
  {
   "cell_type": "code",
   "execution_count": 85,
   "metadata": {},
   "outputs": [
    {
     "output_type": "execute_result",
     "data": {
      "text/plain": [
       "   Manufacturer    Model TypeOfCar  Min.Price  Price  Max.Price  MPG.city  \\\n",
       "0         Acura  Integra     Small       12.9   15.9       18.8      25.0   \n",
       "1           NaN   Legend   Midsize       29.2   33.9       38.7      18.0   \n",
       "2          Audi       90   Compact       25.9   29.1       32.3      20.0   \n",
       "3          Audi      100   Midsize        NaN   37.7       44.6      19.0   \n",
       "4           BMW     535i   Midsize        NaN   30.0        NaN      22.0   \n",
       "..          ...      ...       ...        ...    ...        ...       ...   \n",
       "88   Volkswagen  Eurovan       Van       16.6   19.7       22.7      17.0   \n",
       "89   Volkswagen   Passat   Compact       17.6   20.0       22.4      21.0   \n",
       "90   Volkswagen  Corrado    Sporty       22.9   23.3       23.7      18.0   \n",
       "91        Volvo      240   Compact       21.8   22.7       23.5      21.0   \n",
       "92          NaN      850   Midsize       24.8   26.7       28.5      20.0   \n",
       "\n",
       "    MPG.highway             AirBags DriveTrain  ... Passengers  Length  \\\n",
       "0          31.0                None      Front  ...        5.0   177.0   \n",
       "1          25.0  Driver & Passenger      Front  ...        5.0   195.0   \n",
       "2          26.0         Driver only      Front  ...        5.0   180.0   \n",
       "3          26.0  Driver & Passenger        NaN  ...        6.0   193.0   \n",
       "4          30.0                 NaN       Rear  ...        4.0   186.0   \n",
       "..          ...                 ...        ...  ...        ...     ...   \n",
       "88         21.0                None      Front  ...        7.0   187.0   \n",
       "89         30.0                None      Front  ...        5.0   180.0   \n",
       "90         25.0                None      Front  ...        4.0   159.0   \n",
       "91         28.0         Driver only       Rear  ...        5.0   190.0   \n",
       "92         28.0  Driver & Passenger      Front  ...        5.0   184.0   \n",
       "\n",
       "    Wheelbase  Width  Turn.circle Rear.seat.room  Luggage.room  Weight  \\\n",
       "0       102.0   68.0         37.0           26.5           NaN  2705.0   \n",
       "1       115.0   71.0         38.0           30.0          15.0  3560.0   \n",
       "2       102.0   67.0         37.0           28.0          14.0  3375.0   \n",
       "3       106.0    NaN         37.0           31.0          17.0  3405.0   \n",
       "4       109.0   69.0         39.0           27.0          13.0  3640.0   \n",
       "..        ...    ...          ...            ...           ...     ...   \n",
       "88      115.0   72.0         38.0           34.0           NaN  3960.0   \n",
       "89      103.0   67.0         35.0           31.5          14.0  2985.0   \n",
       "90       97.0   66.0         36.0           26.0          15.0  2810.0   \n",
       "91      104.0   67.0         37.0           29.5          14.0  2985.0   \n",
       "92      105.0   69.0         38.0           30.0          15.0  3245.0   \n",
       "\n",
       "     Origin                Make  \n",
       "0   non-USA       Acura Integra  \n",
       "1   non-USA        Acura Legend  \n",
       "2   non-USA             Audi 90  \n",
       "3   non-USA            Audi 100  \n",
       "4   non-USA            BMW 535i  \n",
       "..      ...                 ...  \n",
       "88      NaN  Volkswagen Eurovan  \n",
       "89  non-USA   Volkswagen Passat  \n",
       "90  non-USA  Volkswagen Corrado  \n",
       "91  non-USA           Volvo 240  \n",
       "92  non-USA           Volvo 850  \n",
       "\n",
       "[93 rows x 27 columns]"
      ],
      "text/html": "<div>\n<style scoped>\n    .dataframe tbody tr th:only-of-type {\n        vertical-align: middle;\n    }\n\n    .dataframe tbody tr th {\n        vertical-align: top;\n    }\n\n    .dataframe thead th {\n        text-align: right;\n    }\n</style>\n<table border=\"1\" class=\"dataframe\">\n  <thead>\n    <tr style=\"text-align: right;\">\n      <th></th>\n      <th>Manufacturer</th>\n      <th>Model</th>\n      <th>TypeOfCar</th>\n      <th>Min.Price</th>\n      <th>Price</th>\n      <th>Max.Price</th>\n      <th>MPG.city</th>\n      <th>MPG.highway</th>\n      <th>AirBags</th>\n      <th>DriveTrain</th>\n      <th>...</th>\n      <th>Passengers</th>\n      <th>Length</th>\n      <th>Wheelbase</th>\n      <th>Width</th>\n      <th>Turn.circle</th>\n      <th>Rear.seat.room</th>\n      <th>Luggage.room</th>\n      <th>Weight</th>\n      <th>Origin</th>\n      <th>Make</th>\n    </tr>\n  </thead>\n  <tbody>\n    <tr>\n      <th>0</th>\n      <td>Acura</td>\n      <td>Integra</td>\n      <td>Small</td>\n      <td>12.9</td>\n      <td>15.9</td>\n      <td>18.8</td>\n      <td>25.0</td>\n      <td>31.0</td>\n      <td>None</td>\n      <td>Front</td>\n      <td>...</td>\n      <td>5.0</td>\n      <td>177.0</td>\n      <td>102.0</td>\n      <td>68.0</td>\n      <td>37.0</td>\n      <td>26.5</td>\n      <td>NaN</td>\n      <td>2705.0</td>\n      <td>non-USA</td>\n      <td>Acura Integra</td>\n    </tr>\n    <tr>\n      <th>1</th>\n      <td>NaN</td>\n      <td>Legend</td>\n      <td>Midsize</td>\n      <td>29.2</td>\n      <td>33.9</td>\n      <td>38.7</td>\n      <td>18.0</td>\n      <td>25.0</td>\n      <td>Driver &amp; Passenger</td>\n      <td>Front</td>\n      <td>...</td>\n      <td>5.0</td>\n      <td>195.0</td>\n      <td>115.0</td>\n      <td>71.0</td>\n      <td>38.0</td>\n      <td>30.0</td>\n      <td>15.0</td>\n      <td>3560.0</td>\n      <td>non-USA</td>\n      <td>Acura Legend</td>\n    </tr>\n    <tr>\n      <th>2</th>\n      <td>Audi</td>\n      <td>90</td>\n      <td>Compact</td>\n      <td>25.9</td>\n      <td>29.1</td>\n      <td>32.3</td>\n      <td>20.0</td>\n      <td>26.0</td>\n      <td>Driver only</td>\n      <td>Front</td>\n      <td>...</td>\n      <td>5.0</td>\n      <td>180.0</td>\n      <td>102.0</td>\n      <td>67.0</td>\n      <td>37.0</td>\n      <td>28.0</td>\n      <td>14.0</td>\n      <td>3375.0</td>\n      <td>non-USA</td>\n      <td>Audi 90</td>\n    </tr>\n    <tr>\n      <th>3</th>\n      <td>Audi</td>\n      <td>100</td>\n      <td>Midsize</td>\n      <td>NaN</td>\n      <td>37.7</td>\n      <td>44.6</td>\n      <td>19.0</td>\n      <td>26.0</td>\n      <td>Driver &amp; Passenger</td>\n      <td>NaN</td>\n      <td>...</td>\n      <td>6.0</td>\n      <td>193.0</td>\n      <td>106.0</td>\n      <td>NaN</td>\n      <td>37.0</td>\n      <td>31.0</td>\n      <td>17.0</td>\n      <td>3405.0</td>\n      <td>non-USA</td>\n      <td>Audi 100</td>\n    </tr>\n    <tr>\n      <th>4</th>\n      <td>BMW</td>\n      <td>535i</td>\n      <td>Midsize</td>\n      <td>NaN</td>\n      <td>30.0</td>\n      <td>NaN</td>\n      <td>22.0</td>\n      <td>30.0</td>\n      <td>NaN</td>\n      <td>Rear</td>\n      <td>...</td>\n      <td>4.0</td>\n      <td>186.0</td>\n      <td>109.0</td>\n      <td>69.0</td>\n      <td>39.0</td>\n      <td>27.0</td>\n      <td>13.0</td>\n      <td>3640.0</td>\n      <td>non-USA</td>\n      <td>BMW 535i</td>\n    </tr>\n    <tr>\n      <th>...</th>\n      <td>...</td>\n      <td>...</td>\n      <td>...</td>\n      <td>...</td>\n      <td>...</td>\n      <td>...</td>\n      <td>...</td>\n      <td>...</td>\n      <td>...</td>\n      <td>...</td>\n      <td>...</td>\n      <td>...</td>\n      <td>...</td>\n      <td>...</td>\n      <td>...</td>\n      <td>...</td>\n      <td>...</td>\n      <td>...</td>\n      <td>...</td>\n      <td>...</td>\n      <td>...</td>\n    </tr>\n    <tr>\n      <th>88</th>\n      <td>Volkswagen</td>\n      <td>Eurovan</td>\n      <td>Van</td>\n      <td>16.6</td>\n      <td>19.7</td>\n      <td>22.7</td>\n      <td>17.0</td>\n      <td>21.0</td>\n      <td>None</td>\n      <td>Front</td>\n      <td>...</td>\n      <td>7.0</td>\n      <td>187.0</td>\n      <td>115.0</td>\n      <td>72.0</td>\n      <td>38.0</td>\n      <td>34.0</td>\n      <td>NaN</td>\n      <td>3960.0</td>\n      <td>NaN</td>\n      <td>Volkswagen Eurovan</td>\n    </tr>\n    <tr>\n      <th>89</th>\n      <td>Volkswagen</td>\n      <td>Passat</td>\n      <td>Compact</td>\n      <td>17.6</td>\n      <td>20.0</td>\n      <td>22.4</td>\n      <td>21.0</td>\n      <td>30.0</td>\n      <td>None</td>\n      <td>Front</td>\n      <td>...</td>\n      <td>5.0</td>\n      <td>180.0</td>\n      <td>103.0</td>\n      <td>67.0</td>\n      <td>35.0</td>\n      <td>31.5</td>\n      <td>14.0</td>\n      <td>2985.0</td>\n      <td>non-USA</td>\n      <td>Volkswagen Passat</td>\n    </tr>\n    <tr>\n      <th>90</th>\n      <td>Volkswagen</td>\n      <td>Corrado</td>\n      <td>Sporty</td>\n      <td>22.9</td>\n      <td>23.3</td>\n      <td>23.7</td>\n      <td>18.0</td>\n      <td>25.0</td>\n      <td>None</td>\n      <td>Front</td>\n      <td>...</td>\n      <td>4.0</td>\n      <td>159.0</td>\n      <td>97.0</td>\n      <td>66.0</td>\n      <td>36.0</td>\n      <td>26.0</td>\n      <td>15.0</td>\n      <td>2810.0</td>\n      <td>non-USA</td>\n      <td>Volkswagen Corrado</td>\n    </tr>\n    <tr>\n      <th>91</th>\n      <td>Volvo</td>\n      <td>240</td>\n      <td>Compact</td>\n      <td>21.8</td>\n      <td>22.7</td>\n      <td>23.5</td>\n      <td>21.0</td>\n      <td>28.0</td>\n      <td>Driver only</td>\n      <td>Rear</td>\n      <td>...</td>\n      <td>5.0</td>\n      <td>190.0</td>\n      <td>104.0</td>\n      <td>67.0</td>\n      <td>37.0</td>\n      <td>29.5</td>\n      <td>14.0</td>\n      <td>2985.0</td>\n      <td>non-USA</td>\n      <td>Volvo 240</td>\n    </tr>\n    <tr>\n      <th>92</th>\n      <td>NaN</td>\n      <td>850</td>\n      <td>Midsize</td>\n      <td>24.8</td>\n      <td>26.7</td>\n      <td>28.5</td>\n      <td>20.0</td>\n      <td>28.0</td>\n      <td>Driver &amp; Passenger</td>\n      <td>Front</td>\n      <td>...</td>\n      <td>5.0</td>\n      <td>184.0</td>\n      <td>105.0</td>\n      <td>69.0</td>\n      <td>38.0</td>\n      <td>30.0</td>\n      <td>15.0</td>\n      <td>3245.0</td>\n      <td>non-USA</td>\n      <td>Volvo 850</td>\n    </tr>\n  </tbody>\n</table>\n<p>93 rows × 27 columns</p>\n</div>"
     },
     "metadata": {},
     "execution_count": 85
    }
   ],
   "source": [
    "df.rename(columns={\"Type\":\"TypeOfCar\"})"
   ]
  },
  {
   "cell_type": "code",
   "execution_count": 88,
   "metadata": {},
   "outputs": [
    {
     "output_type": "execute_result",
     "data": {
      "text/plain": [
       "Manufacturer           4\n",
       "Model                  1\n",
       "Type                   3\n",
       "Min.Price              7\n",
       "Price                  2\n",
       "Max.Price              5\n",
       "MPG.city               9\n",
       "MPG.highway            2\n",
       "AirBags                6\n",
       "DriveTrain             7\n",
       "Cylinders              5\n",
       "EngineSize             2\n",
       "Horsepower             7\n",
       "RPM                    3\n",
       "Rev.per.mile           6\n",
       "Man.trans.avail        5\n",
       "Fuel.tank.capacity     8\n",
       "Passengers             2\n",
       "Length                 4\n",
       "Wheelbase              1\n",
       "Width                  6\n",
       "Turn.circle            5\n",
       "Rear.seat.room         4\n",
       "Luggage.room          19\n",
       "Weight                 7\n",
       "Origin                 5\n",
       "Make                   3\n",
       "dtype: int64"
      ]
     },
     "metadata": {},
     "execution_count": 88
    }
   ],
   "source": [
    "df.isnull().sum()"
   ]
  },
  {
   "cell_type": "code",
   "execution_count": 90,
   "metadata": {},
   "outputs": [
    {
     "output_type": "execute_result",
     "data": {
      "text/plain": [
       "'Luggage.room'"
      ]
     },
     "metadata": {},
     "execution_count": 90
    }
   ],
   "source": [
    "df.isnull().sum().idxmax()"
   ]
  },
  {
   "cell_type": "code",
   "execution_count": 94,
   "metadata": {},
   "outputs": [
    {
     "output_type": "execute_result",
     "data": {
      "text/plain": [
       "   Manufacturer    Model     Type  Min.Price  Price  Max.Price  MPG.city  \\\n",
       "0         Acura  Integra    Small       12.9   15.9       18.8      25.0   \n",
       "1           NaN   Legend  Midsize       29.2   33.9       38.7      18.0   \n",
       "2          Audi       90  Compact       25.9   29.1       32.3      20.0   \n",
       "3          Audi      100  Midsize        NaN   37.7       44.6      19.0   \n",
       "4           BMW     535i  Midsize        NaN   30.0        NaN      22.0   \n",
       "..          ...      ...      ...        ...    ...        ...       ...   \n",
       "88   Volkswagen  Eurovan      Van       16.6   19.7       22.7      17.0   \n",
       "89   Volkswagen   Passat  Compact       17.6   20.0       22.4      21.0   \n",
       "90   Volkswagen  Corrado   Sporty       22.9   23.3       23.7      18.0   \n",
       "91        Volvo      240  Compact       21.8   22.7       23.5      21.0   \n",
       "92          NaN      850  Midsize       24.8   26.7       28.5      20.0   \n",
       "\n",
       "    MPG.highway             AirBags DriveTrain  ... Fuel.tank.capacity  \\\n",
       "0          31.0                None      Front  ...               13.2   \n",
       "1          25.0  Driver & Passenger      Front  ...               18.0   \n",
       "2          26.0         Driver only      Front  ...               16.9   \n",
       "3          26.0  Driver & Passenger        NaN  ...               21.1   \n",
       "4          30.0                 NaN       Rear  ...               21.1   \n",
       "..          ...                 ...        ...  ...                ...   \n",
       "88         21.0                None      Front  ...               21.1   \n",
       "89         30.0                None      Front  ...               18.5   \n",
       "90         25.0                None      Front  ...               18.5   \n",
       "91         28.0         Driver only       Rear  ...               15.8   \n",
       "92         28.0  Driver & Passenger      Front  ...               19.3   \n",
       "\n",
       "    Passengers  Length  Wheelbase  Width Turn.circle  Rear.seat.room  Weight  \\\n",
       "0          5.0   177.0      102.0   68.0        37.0            26.5  2705.0   \n",
       "1          5.0   195.0      115.0   71.0        38.0            30.0  3560.0   \n",
       "2          5.0   180.0      102.0   67.0        37.0            28.0  3375.0   \n",
       "3          6.0   193.0      106.0    NaN        37.0            31.0  3405.0   \n",
       "4          4.0   186.0      109.0   69.0        39.0            27.0  3640.0   \n",
       "..         ...     ...        ...    ...         ...             ...     ...   \n",
       "88         7.0   187.0      115.0   72.0        38.0            34.0  3960.0   \n",
       "89         5.0   180.0      103.0   67.0        35.0            31.5  2985.0   \n",
       "90         4.0   159.0       97.0   66.0        36.0            26.0  2810.0   \n",
       "91         5.0   190.0      104.0   67.0        37.0            29.5  2985.0   \n",
       "92         5.0   184.0      105.0   69.0        38.0            30.0  3245.0   \n",
       "\n",
       "     Origin                Make  \n",
       "0   non-USA       Acura Integra  \n",
       "1   non-USA        Acura Legend  \n",
       "2   non-USA             Audi 90  \n",
       "3   non-USA            Audi 100  \n",
       "4   non-USA            BMW 535i  \n",
       "..      ...                 ...  \n",
       "88      NaN  Volkswagen Eurovan  \n",
       "89  non-USA   Volkswagen Passat  \n",
       "90  non-USA  Volkswagen Corrado  \n",
       "91  non-USA           Volvo 240  \n",
       "92  non-USA           Volvo 850  \n",
       "\n",
       "[93 rows x 26 columns]"
      ],
      "text/html": "<div>\n<style scoped>\n    .dataframe tbody tr th:only-of-type {\n        vertical-align: middle;\n    }\n\n    .dataframe tbody tr th {\n        vertical-align: top;\n    }\n\n    .dataframe thead th {\n        text-align: right;\n    }\n</style>\n<table border=\"1\" class=\"dataframe\">\n  <thead>\n    <tr style=\"text-align: right;\">\n      <th></th>\n      <th>Manufacturer</th>\n      <th>Model</th>\n      <th>Type</th>\n      <th>Min.Price</th>\n      <th>Price</th>\n      <th>Max.Price</th>\n      <th>MPG.city</th>\n      <th>MPG.highway</th>\n      <th>AirBags</th>\n      <th>DriveTrain</th>\n      <th>...</th>\n      <th>Fuel.tank.capacity</th>\n      <th>Passengers</th>\n      <th>Length</th>\n      <th>Wheelbase</th>\n      <th>Width</th>\n      <th>Turn.circle</th>\n      <th>Rear.seat.room</th>\n      <th>Weight</th>\n      <th>Origin</th>\n      <th>Make</th>\n    </tr>\n  </thead>\n  <tbody>\n    <tr>\n      <th>0</th>\n      <td>Acura</td>\n      <td>Integra</td>\n      <td>Small</td>\n      <td>12.9</td>\n      <td>15.9</td>\n      <td>18.8</td>\n      <td>25.0</td>\n      <td>31.0</td>\n      <td>None</td>\n      <td>Front</td>\n      <td>...</td>\n      <td>13.2</td>\n      <td>5.0</td>\n      <td>177.0</td>\n      <td>102.0</td>\n      <td>68.0</td>\n      <td>37.0</td>\n      <td>26.5</td>\n      <td>2705.0</td>\n      <td>non-USA</td>\n      <td>Acura Integra</td>\n    </tr>\n    <tr>\n      <th>1</th>\n      <td>NaN</td>\n      <td>Legend</td>\n      <td>Midsize</td>\n      <td>29.2</td>\n      <td>33.9</td>\n      <td>38.7</td>\n      <td>18.0</td>\n      <td>25.0</td>\n      <td>Driver &amp; Passenger</td>\n      <td>Front</td>\n      <td>...</td>\n      <td>18.0</td>\n      <td>5.0</td>\n      <td>195.0</td>\n      <td>115.0</td>\n      <td>71.0</td>\n      <td>38.0</td>\n      <td>30.0</td>\n      <td>3560.0</td>\n      <td>non-USA</td>\n      <td>Acura Legend</td>\n    </tr>\n    <tr>\n      <th>2</th>\n      <td>Audi</td>\n      <td>90</td>\n      <td>Compact</td>\n      <td>25.9</td>\n      <td>29.1</td>\n      <td>32.3</td>\n      <td>20.0</td>\n      <td>26.0</td>\n      <td>Driver only</td>\n      <td>Front</td>\n      <td>...</td>\n      <td>16.9</td>\n      <td>5.0</td>\n      <td>180.0</td>\n      <td>102.0</td>\n      <td>67.0</td>\n      <td>37.0</td>\n      <td>28.0</td>\n      <td>3375.0</td>\n      <td>non-USA</td>\n      <td>Audi 90</td>\n    </tr>\n    <tr>\n      <th>3</th>\n      <td>Audi</td>\n      <td>100</td>\n      <td>Midsize</td>\n      <td>NaN</td>\n      <td>37.7</td>\n      <td>44.6</td>\n      <td>19.0</td>\n      <td>26.0</td>\n      <td>Driver &amp; Passenger</td>\n      <td>NaN</td>\n      <td>...</td>\n      <td>21.1</td>\n      <td>6.0</td>\n      <td>193.0</td>\n      <td>106.0</td>\n      <td>NaN</td>\n      <td>37.0</td>\n      <td>31.0</td>\n      <td>3405.0</td>\n      <td>non-USA</td>\n      <td>Audi 100</td>\n    </tr>\n    <tr>\n      <th>4</th>\n      <td>BMW</td>\n      <td>535i</td>\n      <td>Midsize</td>\n      <td>NaN</td>\n      <td>30.0</td>\n      <td>NaN</td>\n      <td>22.0</td>\n      <td>30.0</td>\n      <td>NaN</td>\n      <td>Rear</td>\n      <td>...</td>\n      <td>21.1</td>\n      <td>4.0</td>\n      <td>186.0</td>\n      <td>109.0</td>\n      <td>69.0</td>\n      <td>39.0</td>\n      <td>27.0</td>\n      <td>3640.0</td>\n      <td>non-USA</td>\n      <td>BMW 535i</td>\n    </tr>\n    <tr>\n      <th>...</th>\n      <td>...</td>\n      <td>...</td>\n      <td>...</td>\n      <td>...</td>\n      <td>...</td>\n      <td>...</td>\n      <td>...</td>\n      <td>...</td>\n      <td>...</td>\n      <td>...</td>\n      <td>...</td>\n      <td>...</td>\n      <td>...</td>\n      <td>...</td>\n      <td>...</td>\n      <td>...</td>\n      <td>...</td>\n      <td>...</td>\n      <td>...</td>\n      <td>...</td>\n      <td>...</td>\n    </tr>\n    <tr>\n      <th>88</th>\n      <td>Volkswagen</td>\n      <td>Eurovan</td>\n      <td>Van</td>\n      <td>16.6</td>\n      <td>19.7</td>\n      <td>22.7</td>\n      <td>17.0</td>\n      <td>21.0</td>\n      <td>None</td>\n      <td>Front</td>\n      <td>...</td>\n      <td>21.1</td>\n      <td>7.0</td>\n      <td>187.0</td>\n      <td>115.0</td>\n      <td>72.0</td>\n      <td>38.0</td>\n      <td>34.0</td>\n      <td>3960.0</td>\n      <td>NaN</td>\n      <td>Volkswagen Eurovan</td>\n    </tr>\n    <tr>\n      <th>89</th>\n      <td>Volkswagen</td>\n      <td>Passat</td>\n      <td>Compact</td>\n      <td>17.6</td>\n      <td>20.0</td>\n      <td>22.4</td>\n      <td>21.0</td>\n      <td>30.0</td>\n      <td>None</td>\n      <td>Front</td>\n      <td>...</td>\n      <td>18.5</td>\n      <td>5.0</td>\n      <td>180.0</td>\n      <td>103.0</td>\n      <td>67.0</td>\n      <td>35.0</td>\n      <td>31.5</td>\n      <td>2985.0</td>\n      <td>non-USA</td>\n      <td>Volkswagen Passat</td>\n    </tr>\n    <tr>\n      <th>90</th>\n      <td>Volkswagen</td>\n      <td>Corrado</td>\n      <td>Sporty</td>\n      <td>22.9</td>\n      <td>23.3</td>\n      <td>23.7</td>\n      <td>18.0</td>\n      <td>25.0</td>\n      <td>None</td>\n      <td>Front</td>\n      <td>...</td>\n      <td>18.5</td>\n      <td>4.0</td>\n      <td>159.0</td>\n      <td>97.0</td>\n      <td>66.0</td>\n      <td>36.0</td>\n      <td>26.0</td>\n      <td>2810.0</td>\n      <td>non-USA</td>\n      <td>Volkswagen Corrado</td>\n    </tr>\n    <tr>\n      <th>91</th>\n      <td>Volvo</td>\n      <td>240</td>\n      <td>Compact</td>\n      <td>21.8</td>\n      <td>22.7</td>\n      <td>23.5</td>\n      <td>21.0</td>\n      <td>28.0</td>\n      <td>Driver only</td>\n      <td>Rear</td>\n      <td>...</td>\n      <td>15.8</td>\n      <td>5.0</td>\n      <td>190.0</td>\n      <td>104.0</td>\n      <td>67.0</td>\n      <td>37.0</td>\n      <td>29.5</td>\n      <td>2985.0</td>\n      <td>non-USA</td>\n      <td>Volvo 240</td>\n    </tr>\n    <tr>\n      <th>92</th>\n      <td>NaN</td>\n      <td>850</td>\n      <td>Midsize</td>\n      <td>24.8</td>\n      <td>26.7</td>\n      <td>28.5</td>\n      <td>20.0</td>\n      <td>28.0</td>\n      <td>Driver &amp; Passenger</td>\n      <td>Front</td>\n      <td>...</td>\n      <td>19.3</td>\n      <td>5.0</td>\n      <td>184.0</td>\n      <td>105.0</td>\n      <td>69.0</td>\n      <td>38.0</td>\n      <td>30.0</td>\n      <td>3245.0</td>\n      <td>non-USA</td>\n      <td>Volvo 850</td>\n    </tr>\n  </tbody>\n</table>\n<p>93 rows × 26 columns</p>\n</div>"
     },
     "metadata": {},
     "execution_count": 94
    }
   ],
   "source": [
    "df.drop(['Luggage.room'], axis=1)"
   ]
  },
  {
   "cell_type": "code",
   "execution_count": 95,
   "metadata": {},
   "outputs": [
    {
     "output_type": "execute_result",
     "data": {
      "text/plain": [
       "0     12.9\n",
       "1     29.2\n",
       "2     25.9\n",
       "3      NaN\n",
       "4      NaN\n",
       "      ... \n",
       "88    16.6\n",
       "89    17.6\n",
       "90    22.9\n",
       "91    21.8\n",
       "92    24.8\n",
       "Name: Min.Price, Length: 93, dtype: float64"
      ]
     },
     "metadata": {},
     "execution_count": 95
    }
   ],
   "source": [
    "df.pop('Min.Price')"
   ]
  },
  {
   "cell_type": "code",
   "execution_count": 98,
   "metadata": {},
   "outputs": [
    {
     "output_type": "stream",
     "name": "stdout",
     "text": [
      "<class 'pandas.core.frame.DataFrame'>\nRangeIndex: 93 entries, 0 to 92\nData columns (total 26 columns):\n #   Column              Non-Null Count  Dtype  \n---  ------              --------------  -----  \n 0   Manufacturer        89 non-null     object \n 1   Model               92 non-null     object \n 2   Type                90 non-null     object \n 3   Price               91 non-null     float64\n 4   Max.Price           88 non-null     float64\n 5   MPG.city            84 non-null     float64\n 6   MPG.highway         91 non-null     float64\n 7   AirBags             87 non-null     object \n 8   DriveTrain          86 non-null     object \n 9   Cylinders           88 non-null     object \n 10  EngineSize          91 non-null     float64\n 11  Horsepower          86 non-null     float64\n 12  RPM                 90 non-null     float64\n 13  Rev.per.mile        87 non-null     float64\n 14  Man.trans.avail     88 non-null     object \n 15  Fuel.tank.capacity  85 non-null     float64\n 16  Passengers          91 non-null     float64\n 17  Length              89 non-null     float64\n 18  Wheelbase           92 non-null     float64\n 19  Width               87 non-null     float64\n 20  Turn.circle         88 non-null     float64\n 21  Rear.seat.room      89 non-null     float64\n 22  Luggage.room        74 non-null     float64\n 23  Weight              86 non-null     float64\n 24  Origin              88 non-null     object \n 25  Make                90 non-null     object \ndtypes: float64(17), object(9)\nmemory usage: 19.0+ KB\n"
     ]
    }
   ],
   "source": [
    "df.info()"
   ]
  },
  {
   "cell_type": "code",
   "execution_count": 99,
   "metadata": {},
   "outputs": [],
   "source": [
    "df1 = pd.DataFrame({'fruit': ['apple', 'banana', 'orange'] * 3,\n",
    "                    'weight': ['high', 'medium', 'low'] * 3,\n",
    "                    'price': np.random.randint(0, 15, 9)})"
   ]
  },
  {
   "cell_type": "code",
   "execution_count": 100,
   "metadata": {},
   "outputs": [],
   "source": [
    "df2 = pd.DataFrame({'pazham': ['apple', 'orange', 'pine'] * 2,\n",
    "                    'kilo': ['high', 'low'] * 3,\n",
    "                    'price': np.random.randint(0, 15, 6)})"
   ]
  },
  {
   "cell_type": "code",
   "execution_count": 101,
   "metadata": {},
   "outputs": [
    {
     "output_type": "execute_result",
     "data": {
      "text/plain": [
       "    fruit  weight  price\n",
       "0   apple    high      3\n",
       "1  banana  medium      8\n",
       "2  orange     low      2\n",
       "3   apple    high      3\n",
       "4  banana  medium     10"
      ],
      "text/html": "<div>\n<style scoped>\n    .dataframe tbody tr th:only-of-type {\n        vertical-align: middle;\n    }\n\n    .dataframe tbody tr th {\n        vertical-align: top;\n    }\n\n    .dataframe thead th {\n        text-align: right;\n    }\n</style>\n<table border=\"1\" class=\"dataframe\">\n  <thead>\n    <tr style=\"text-align: right;\">\n      <th></th>\n      <th>fruit</th>\n      <th>weight</th>\n      <th>price</th>\n    </tr>\n  </thead>\n  <tbody>\n    <tr>\n      <th>0</th>\n      <td>apple</td>\n      <td>high</td>\n      <td>3</td>\n    </tr>\n    <tr>\n      <th>1</th>\n      <td>banana</td>\n      <td>medium</td>\n      <td>8</td>\n    </tr>\n    <tr>\n      <th>2</th>\n      <td>orange</td>\n      <td>low</td>\n      <td>2</td>\n    </tr>\n    <tr>\n      <th>3</th>\n      <td>apple</td>\n      <td>high</td>\n      <td>3</td>\n    </tr>\n    <tr>\n      <th>4</th>\n      <td>banana</td>\n      <td>medium</td>\n      <td>10</td>\n    </tr>\n  </tbody>\n</table>\n</div>"
     },
     "metadata": {},
     "execution_count": 101
    }
   ],
   "source": [
    "df1.head()"
   ]
  },
  {
   "cell_type": "code",
   "execution_count": 102,
   "metadata": {},
   "outputs": [
    {
     "output_type": "execute_result",
     "data": {
      "text/plain": [
       "   pazham  kilo  price\n",
       "0   apple  high     14\n",
       "1  orange   low      0\n",
       "2    pine  high     14\n",
       "3   apple   low      4\n",
       "4  orange  high      3"
      ],
      "text/html": "<div>\n<style scoped>\n    .dataframe tbody tr th:only-of-type {\n        vertical-align: middle;\n    }\n\n    .dataframe tbody tr th {\n        vertical-align: top;\n    }\n\n    .dataframe thead th {\n        text-align: right;\n    }\n</style>\n<table border=\"1\" class=\"dataframe\">\n  <thead>\n    <tr style=\"text-align: right;\">\n      <th></th>\n      <th>pazham</th>\n      <th>kilo</th>\n      <th>price</th>\n    </tr>\n  </thead>\n  <tbody>\n    <tr>\n      <th>0</th>\n      <td>apple</td>\n      <td>high</td>\n      <td>14</td>\n    </tr>\n    <tr>\n      <th>1</th>\n      <td>orange</td>\n      <td>low</td>\n      <td>0</td>\n    </tr>\n    <tr>\n      <th>2</th>\n      <td>pine</td>\n      <td>high</td>\n      <td>14</td>\n    </tr>\n    <tr>\n      <th>3</th>\n      <td>apple</td>\n      <td>low</td>\n      <td>4</td>\n    </tr>\n    <tr>\n      <th>4</th>\n      <td>orange</td>\n      <td>high</td>\n      <td>3</td>\n    </tr>\n  </tbody>\n</table>\n</div>"
     },
     "metadata": {},
     "execution_count": 102
    }
   ],
   "source": [
    "df2.head()"
   ]
  },
  {
   "cell_type": "code",
   "execution_count": 107,
   "metadata": {},
   "outputs": [],
   "source": [
    "df3 = df1.merge(df2)"
   ]
  },
  {
   "cell_type": "code",
   "execution_count": 114,
   "metadata": {},
   "outputs": [
    {
     "output_type": "stream",
     "name": "stdout",
     "text": [
      "<pandas.core.groupby.generic.DataFrameGroupBy object at 0x7fb5f6444e80>\n"
     ]
    }
   ],
   "source": [
    "print(df3.groupby('fruit'))"
   ]
  },
  {
   "cell_type": "code",
   "execution_count": 111,
   "metadata": {},
   "outputs": [
    {
     "output_type": "execute_result",
     "data": {
      "text/plain": [
       "    fruit weight  price  pazham  kilo\n",
       "0   apple   high      3  orange  high\n",
       "1   apple   high      3  orange  high\n",
       "2  orange    low     14   apple  high\n",
       "3  orange    low     14    pine  high\n",
       "4   apple   high      0  orange   low"
      ],
      "text/html": "<div>\n<style scoped>\n    .dataframe tbody tr th:only-of-type {\n        vertical-align: middle;\n    }\n\n    .dataframe tbody tr th {\n        vertical-align: top;\n    }\n\n    .dataframe thead th {\n        text-align: right;\n    }\n</style>\n<table border=\"1\" class=\"dataframe\">\n  <thead>\n    <tr style=\"text-align: right;\">\n      <th></th>\n      <th>fruit</th>\n      <th>weight</th>\n      <th>price</th>\n      <th>pazham</th>\n      <th>kilo</th>\n    </tr>\n  </thead>\n  <tbody>\n    <tr>\n      <th>0</th>\n      <td>apple</td>\n      <td>high</td>\n      <td>3</td>\n      <td>orange</td>\n      <td>high</td>\n    </tr>\n    <tr>\n      <th>1</th>\n      <td>apple</td>\n      <td>high</td>\n      <td>3</td>\n      <td>orange</td>\n      <td>high</td>\n    </tr>\n    <tr>\n      <th>2</th>\n      <td>orange</td>\n      <td>low</td>\n      <td>14</td>\n      <td>apple</td>\n      <td>high</td>\n    </tr>\n    <tr>\n      <th>3</th>\n      <td>orange</td>\n      <td>low</td>\n      <td>14</td>\n      <td>pine</td>\n      <td>high</td>\n    </tr>\n    <tr>\n      <th>4</th>\n      <td>apple</td>\n      <td>high</td>\n      <td>0</td>\n      <td>orange</td>\n      <td>low</td>\n    </tr>\n  </tbody>\n</table>\n</div>"
     },
     "metadata": {},
     "execution_count": 111
    }
   ],
   "source": [
    "df3"
   ]
  },
  {
   "cell_type": "code",
   "execution_count": 115,
   "metadata": {},
   "outputs": [],
   "source": [
    "city_df = pd.DataFrame([\"STD,City\\tState\",\n",
    "\"33,Kolkata\\tWest Bengal\",\n",
    "\"44,Chennai\\tTamil Nadu\",\n",
    "\"40,Hyderabad\\tTelengana\",\n",
    "\"80,Bangalore\\tKarnataka\"], columns=['row'])\n"
   ]
  },
  {
   "cell_type": "code",
   "execution_count": 126,
   "metadata": {},
   "outputs": [
    {
     "output_type": "execute_result",
     "data": {
      "text/plain": [
       "                       row\n",
       "0          STD,City\\tState\n",
       "1  33,Kolkata\\tWest Bengal\n",
       "2   44,Chennai\\tTamil Nadu\n",
       "3  40,Hyderabad\\tTelengana\n",
       "4  80,Bangalore\\tKarnataka"
      ],
      "text/html": "<div>\n<style scoped>\n    .dataframe tbody tr th:only-of-type {\n        vertical-align: middle;\n    }\n\n    .dataframe tbody tr th {\n        vertical-align: top;\n    }\n\n    .dataframe thead th {\n        text-align: right;\n    }\n</style>\n<table border=\"1\" class=\"dataframe\">\n  <thead>\n    <tr style=\"text-align: right;\">\n      <th></th>\n      <th>row</th>\n    </tr>\n  </thead>\n  <tbody>\n    <tr>\n      <th>0</th>\n      <td>STD,City\\tState</td>\n    </tr>\n    <tr>\n      <th>1</th>\n      <td>33,Kolkata\\tWest Bengal</td>\n    </tr>\n    <tr>\n      <th>2</th>\n      <td>44,Chennai\\tTamil Nadu</td>\n    </tr>\n    <tr>\n      <th>3</th>\n      <td>40,Hyderabad\\tTelengana</td>\n    </tr>\n    <tr>\n      <th>4</th>\n      <td>80,Bangalore\\tKarnataka</td>\n    </tr>\n  </tbody>\n</table>\n</div>"
     },
     "metadata": {},
     "execution_count": 126
    }
   ],
   "source": [
    "city_df"
   ]
  },
  {
   "cell_type": "code",
   "execution_count": 148,
   "metadata": {},
   "outputs": [],
   "source": [
    "city_table = city_df.row.str.split(r',|\\t', expand=True)\n"
   ]
  },
  {
   "cell_type": "code",
   "execution_count": 150,
   "metadata": {},
   "outputs": [
    {
     "output_type": "execute_result",
     "data": {
      "text/plain": [
       "   STD       City        State\n",
       "0  STD       City        State\n",
       "1   33    Kolkata  West Bengal\n",
       "2   44    Chennai   Tamil Nadu\n",
       "3   40  Hyderabad    Telengana\n",
       "4   80  Bangalore    Karnataka"
      ],
      "text/html": "<div>\n<style scoped>\n    .dataframe tbody tr th:only-of-type {\n        vertical-align: middle;\n    }\n\n    .dataframe tbody tr th {\n        vertical-align: top;\n    }\n\n    .dataframe thead th {\n        text-align: right;\n    }\n</style>\n<table border=\"1\" class=\"dataframe\">\n  <thead>\n    <tr style=\"text-align: right;\">\n      <th></th>\n      <th>STD</th>\n      <th>City</th>\n      <th>State</th>\n    </tr>\n  </thead>\n  <tbody>\n    <tr>\n      <th>0</th>\n      <td>STD</td>\n      <td>City</td>\n      <td>State</td>\n    </tr>\n    <tr>\n      <th>1</th>\n      <td>33</td>\n      <td>Kolkata</td>\n      <td>West Bengal</td>\n    </tr>\n    <tr>\n      <th>2</th>\n      <td>44</td>\n      <td>Chennai</td>\n      <td>Tamil Nadu</td>\n    </tr>\n    <tr>\n      <th>3</th>\n      <td>40</td>\n      <td>Hyderabad</td>\n      <td>Telengana</td>\n    </tr>\n    <tr>\n      <th>4</th>\n      <td>80</td>\n      <td>Bangalore</td>\n      <td>Karnataka</td>\n    </tr>\n  </tbody>\n</table>\n</div>"
     },
     "metadata": {},
     "execution_count": 150
    }
   ],
   "source": [
    "city_table.rename(columns=city_table.iloc[0])"
   ]
  },
  {
   "cell_type": "code",
   "execution_count": 187,
   "metadata": {},
   "outputs": [],
   "source": [
    "names = [\"mpg\", \"cylinders\", \"displacement\", \"horsepower\", \"weight\", \"acceleration\", \"model_year\", \"origin\", \"car_name\"]\n",
    "df_mpg = pd.read_csv(\"auto-mpg.data\", header=None, names=names, delim_whitespace=True)\n"
   ]
  },
  {
   "cell_type": "code",
   "execution_count": 188,
   "metadata": {},
   "outputs": [
    {
     "output_type": "execute_result",
     "data": {
      "text/plain": [
       "      mpg  cylinders  displacement horsepower  weight  acceleration  \\\n",
       "0    18.0          8         307.0      130.0  3504.0          12.0   \n",
       "1    15.0          8         350.0      165.0  3693.0          11.5   \n",
       "2    18.0          8         318.0      150.0  3436.0          11.0   \n",
       "3    16.0          8         304.0      150.0  3433.0          12.0   \n",
       "4    17.0          8         302.0      140.0  3449.0          10.5   \n",
       "..    ...        ...           ...        ...     ...           ...   \n",
       "393  27.0          4         140.0      86.00  2790.0          15.6   \n",
       "394  44.0          4          97.0      52.00  2130.0          24.6   \n",
       "395  32.0          4         135.0      84.00  2295.0          11.6   \n",
       "396  28.0          4         120.0      79.00  2625.0          18.6   \n",
       "397  31.0          4         119.0      82.00  2720.0          19.4   \n",
       "\n",
       "     model_year  origin                   car_name  \n",
       "0            70       1  chevrolet chevelle malibu  \n",
       "1            70       1          buick skylark 320  \n",
       "2            70       1         plymouth satellite  \n",
       "3            70       1              amc rebel sst  \n",
       "4            70       1                ford torino  \n",
       "..          ...     ...                        ...  \n",
       "393          82       1            ford mustang gl  \n",
       "394          82       2                  vw pickup  \n",
       "395          82       1              dodge rampage  \n",
       "396          82       1                ford ranger  \n",
       "397          82       1                 chevy s-10  \n",
       "\n",
       "[398 rows x 9 columns]"
      ],
      "text/html": "<div>\n<style scoped>\n    .dataframe tbody tr th:only-of-type {\n        vertical-align: middle;\n    }\n\n    .dataframe tbody tr th {\n        vertical-align: top;\n    }\n\n    .dataframe thead th {\n        text-align: right;\n    }\n</style>\n<table border=\"1\" class=\"dataframe\">\n  <thead>\n    <tr style=\"text-align: right;\">\n      <th></th>\n      <th>mpg</th>\n      <th>cylinders</th>\n      <th>displacement</th>\n      <th>horsepower</th>\n      <th>weight</th>\n      <th>acceleration</th>\n      <th>model_year</th>\n      <th>origin</th>\n      <th>car_name</th>\n    </tr>\n  </thead>\n  <tbody>\n    <tr>\n      <th>0</th>\n      <td>18.0</td>\n      <td>8</td>\n      <td>307.0</td>\n      <td>130.0</td>\n      <td>3504.0</td>\n      <td>12.0</td>\n      <td>70</td>\n      <td>1</td>\n      <td>chevrolet chevelle malibu</td>\n    </tr>\n    <tr>\n      <th>1</th>\n      <td>15.0</td>\n      <td>8</td>\n      <td>350.0</td>\n      <td>165.0</td>\n      <td>3693.0</td>\n      <td>11.5</td>\n      <td>70</td>\n      <td>1</td>\n      <td>buick skylark 320</td>\n    </tr>\n    <tr>\n      <th>2</th>\n      <td>18.0</td>\n      <td>8</td>\n      <td>318.0</td>\n      <td>150.0</td>\n      <td>3436.0</td>\n      <td>11.0</td>\n      <td>70</td>\n      <td>1</td>\n      <td>plymouth satellite</td>\n    </tr>\n    <tr>\n      <th>3</th>\n      <td>16.0</td>\n      <td>8</td>\n      <td>304.0</td>\n      <td>150.0</td>\n      <td>3433.0</td>\n      <td>12.0</td>\n      <td>70</td>\n      <td>1</td>\n      <td>amc rebel sst</td>\n    </tr>\n    <tr>\n      <th>4</th>\n      <td>17.0</td>\n      <td>8</td>\n      <td>302.0</td>\n      <td>140.0</td>\n      <td>3449.0</td>\n      <td>10.5</td>\n      <td>70</td>\n      <td>1</td>\n      <td>ford torino</td>\n    </tr>\n    <tr>\n      <th>...</th>\n      <td>...</td>\n      <td>...</td>\n      <td>...</td>\n      <td>...</td>\n      <td>...</td>\n      <td>...</td>\n      <td>...</td>\n      <td>...</td>\n      <td>...</td>\n    </tr>\n    <tr>\n      <th>393</th>\n      <td>27.0</td>\n      <td>4</td>\n      <td>140.0</td>\n      <td>86.00</td>\n      <td>2790.0</td>\n      <td>15.6</td>\n      <td>82</td>\n      <td>1</td>\n      <td>ford mustang gl</td>\n    </tr>\n    <tr>\n      <th>394</th>\n      <td>44.0</td>\n      <td>4</td>\n      <td>97.0</td>\n      <td>52.00</td>\n      <td>2130.0</td>\n      <td>24.6</td>\n      <td>82</td>\n      <td>2</td>\n      <td>vw pickup</td>\n    </tr>\n    <tr>\n      <th>395</th>\n      <td>32.0</td>\n      <td>4</td>\n      <td>135.0</td>\n      <td>84.00</td>\n      <td>2295.0</td>\n      <td>11.6</td>\n      <td>82</td>\n      <td>1</td>\n      <td>dodge rampage</td>\n    </tr>\n    <tr>\n      <th>396</th>\n      <td>28.0</td>\n      <td>4</td>\n      <td>120.0</td>\n      <td>79.00</td>\n      <td>2625.0</td>\n      <td>18.6</td>\n      <td>82</td>\n      <td>1</td>\n      <td>ford ranger</td>\n    </tr>\n    <tr>\n      <th>397</th>\n      <td>31.0</td>\n      <td>4</td>\n      <td>119.0</td>\n      <td>82.00</td>\n      <td>2720.0</td>\n      <td>19.4</td>\n      <td>82</td>\n      <td>1</td>\n      <td>chevy s-10</td>\n    </tr>\n  </tbody>\n</table>\n<p>398 rows × 9 columns</p>\n</div>"
     },
     "metadata": {},
     "execution_count": 188
    }
   ],
   "source": [
    "df_mpg"
   ]
  },
  {
   "cell_type": "code",
   "execution_count": 158,
   "metadata": {},
   "outputs": [],
   "source": [
    "x = df_mpg['displacement']\n",
    "y = df_mpg['acceleration']"
   ]
  },
  {
   "cell_type": "code",
   "execution_count": 160,
   "metadata": {},
   "outputs": [
    {
     "output_type": "execute_result",
     "data": {
      "text/plain": [
       "<matplotlib.collections.PathCollection at 0x7fb5f666b790>"
      ]
     },
     "metadata": {},
     "execution_count": 160
    },
    {
     "output_type": "display_data",
     "data": {
      "text/plain": "<Figure size 432x288 with 1 Axes>",
      "image/svg+xml": "<?xml version=\"1.0\" encoding=\"utf-8\" standalone=\"no\"?>\n<!DOCTYPE svg PUBLIC \"-//W3C//DTD SVG 1.1//EN\"\n  \"http://www.w3.org/Graphics/SVG/1.1/DTD/svg11.dtd\">\n<!-- Created with matplotlib (https://matplotlib.org/) -->\n<svg height=\"248.518125pt\" version=\"1.1\" viewBox=\"0 0 378.465625 248.518125\" width=\"378.465625pt\" xmlns=\"http://www.w3.org/2000/svg\" xmlns:xlink=\"http://www.w3.org/1999/xlink\">\n <defs>\n  <style type=\"text/css\">\n*{stroke-linecap:butt;stroke-linejoin:round;}\n  </style>\n </defs>\n <g id=\"figure_1\">\n  <g id=\"patch_1\">\n   <path d=\"M 0 248.518125 \nL 378.465625 248.518125 \nL 378.465625 0 \nL 0 0 \nz\n\" style=\"fill:none;\"/>\n  </g>\n  <g id=\"axes_1\">\n   <g id=\"patch_2\">\n    <path d=\"M 36.465625 224.64 \nL 371.265625 224.64 \nL 371.265625 7.2 \nL 36.465625 7.2 \nz\n\" style=\"fill:#ffffff;\"/>\n   </g>\n   <g id=\"PathCollection_1\">\n    <defs>\n     <path d=\"M 0 3 \nC 0.795609 3 1.55874 2.683901 2.12132 2.12132 \nC 2.683901 1.55874 3 0.795609 3 0 \nC 3 -0.795609 2.683901 -1.55874 2.12132 -2.12132 \nC 1.55874 -2.683901 0.795609 -3 0 -3 \nC -0.795609 -3 -1.55874 -2.683901 -2.12132 -2.12132 \nC -2.683901 -1.55874 -3 -0.795609 -3 0 \nC -3 0.795609 -2.683901 1.55874 -2.12132 2.12132 \nC -1.55874 2.683901 -0.795609 3 0 3 \nz\n\" id=\"m1d56f1a869\" style=\"stroke:#1f77b4;\"/>\n    </defs>\n    <g clip-path=\"url(#pefc97a09fa)\">\n     <use style=\"fill:#1f77b4;stroke:#1f77b4;\" x=\"239.64998\" xlink:href=\"#m1d56f1a869\" y=\"167.691429\"/>\n     <use style=\"fill:#1f77b4;stroke:#1f77b4;\" x=\"273.468162\" xlink:href=\"#m1d56f1a869\" y=\"173.574545\"/>\n     <use style=\"fill:#1f77b4;stroke:#1f77b4;\" x=\"248.301143\" xlink:href=\"#m1d56f1a869\" y=\"179.457662\"/>\n     <use style=\"fill:#1f77b4;stroke:#1f77b4;\" x=\"237.290572\" xlink:href=\"#m1d56f1a869\" y=\"167.691429\"/>\n     <use style=\"fill:#1f77b4;stroke:#1f77b4;\" x=\"235.717633\" xlink:href=\"#m1d56f1a869\" y=\"185.340779\"/>\n     <use style=\"fill:#1f77b4;stroke:#1f77b4;\" x=\"335.59924\" xlink:href=\"#m1d56f1a869\" y=\"191.223896\"/>\n     <use style=\"fill:#1f77b4;stroke:#1f77b4;\" x=\"355.260974\" xlink:href=\"#m1d56f1a869\" y=\"202.99013\"/>\n     <use style=\"fill:#1f77b4;stroke:#1f77b4;\" x=\"344.250403\" xlink:href=\"#m1d56f1a869\" y=\"208.873247\"/>\n     <use style=\"fill:#1f77b4;stroke:#1f77b4;\" x=\"356.047443\" xlink:href=\"#m1d56f1a869\" y=\"191.223896\"/>\n     <use style=\"fill:#1f77b4;stroke:#1f77b4;\" x=\"304.926936\" xlink:href=\"#m1d56f1a869\" y=\"208.873247\"/>\n     <use style=\"fill:#1f77b4;stroke:#1f77b4;\" x=\"299.42165\" xlink:href=\"#m1d56f1a869\" y=\"191.223896\"/>\n     <use style=\"fill:#1f77b4;stroke:#1f77b4;\" x=\"265.603469\" xlink:href=\"#m1d56f1a869\" y=\"214.756364\"/>\n     <use style=\"fill:#1f77b4;stroke:#1f77b4;\" x=\"312.791629\" xlink:href=\"#m1d56f1a869\" y=\"197.107013\"/>\n     <use style=\"fill:#1f77b4;stroke:#1f77b4;\" x=\"356.047443\" xlink:href=\"#m1d56f1a869\" y=\"191.223896\"/>\n     <use style=\"fill:#1f77b4;stroke:#1f77b4;\" x=\"87.074927\" xlink:href=\"#m1d56f1a869\" y=\"132.392727\"/>\n     <use style=\"fill:#1f77b4;stroke:#1f77b4;\" x=\"153.924822\" xlink:href=\"#m1d56f1a869\" y=\"126.50961\"/>\n     <use style=\"fill:#1f77b4;stroke:#1f77b4;\" x=\"154.711291\" xlink:href=\"#m1d56f1a869\" y=\"126.50961\"/>\n     <use style=\"fill:#1f77b4;stroke:#1f77b4;\" x=\"155.49776\" xlink:href=\"#m1d56f1a869\" y=\"120.626494\"/>\n     <use style=\"fill:#1f77b4;stroke:#1f77b4;\" x=\"74.491418\" xlink:href=\"#m1d56f1a869\" y=\"138.275844\"/>\n     <use style=\"fill:#1f77b4;stroke:#1f77b4;\" x=\"74.491418\" xlink:href=\"#m1d56f1a869\" y=\"67.678442\"/>\n     <use style=\"fill:#1f77b4;stroke:#1f77b4;\" x=\"84.715519\" xlink:href=\"#m1d56f1a869\" y=\"102.977143\"/>\n     <use style=\"fill:#1f77b4;stroke:#1f77b4;\" x=\"82.356111\" xlink:href=\"#m1d56f1a869\" y=\"138.275844\"/>\n     <use style=\"fill:#1f77b4;stroke:#1f77b4;\" x=\"79.996703\" xlink:href=\"#m1d56f1a869\" y=\"102.977143\"/>\n     <use style=\"fill:#1f77b4;stroke:#1f77b4;\" x=\"93.366682\" xlink:href=\"#m1d56f1a869\" y=\"161.808312\"/>\n     <use style=\"fill:#1f77b4;stroke:#1f77b4;\" x=\"154.711291\" xlink:href=\"#m1d56f1a869\" y=\"132.392727\"/>\n     <use style=\"fill:#1f77b4;stroke:#1f77b4;\" x=\"281.332855\" xlink:href=\"#m1d56f1a869\" y=\"144.158961\"/>\n     <use style=\"fill:#1f77b4;stroke:#1f77b4;\" x=\"239.64998\" xlink:href=\"#m1d56f1a869\" y=\"132.392727\"/>\n     <use style=\"fill:#1f77b4;stroke:#1f77b4;\" x=\"248.301143\" xlink:href=\"#m1d56f1a869\" y=\"150.042078\"/>\n     <use style=\"fill:#1f77b4;stroke:#1f77b4;\" x=\"237.290572\" xlink:href=\"#m1d56f1a869\" y=\"91.210909\"/>\n     <use style=\"fill:#1f77b4;stroke:#1f77b4;\" x=\"74.491418\" xlink:href=\"#m1d56f1a869\" y=\"138.275844\"/>\n     <use style=\"fill:#1f77b4;stroke:#1f77b4;\" x=\"108.3096\" xlink:href=\"#m1d56f1a869\" y=\"126.50961\"/>\n     <use style=\"fill:#1f77b4;stroke:#1f77b4;\" x=\"87.074927\" xlink:href=\"#m1d56f1a869\" y=\"144.158961\"/>\n     <use style=\"fill:#1f77b4;stroke:#1f77b4;\" x=\"75.277887\" xlink:href=\"#m1d56f1a869\" y=\"85.327792\"/>\n     <use style=\"fill:#1f77b4;stroke:#1f77b4;\" x=\"180.664779\" xlink:href=\"#m1d56f1a869\" y=\"155.925195\"/>\n     <use style=\"fill:#1f77b4;stroke:#1f77b4;\" x=\"175.159494\" xlink:href=\"#m1d56f1a869\" y=\"126.50961\"/>\n     <use style=\"fill:#1f77b4;stroke:#1f77b4;\" x=\"194.821228\" xlink:href=\"#m1d56f1a869\" y=\"126.50961\"/>\n     <use style=\"fill:#1f77b4;stroke:#1f77b4;\" x=\"194.821228\" xlink:href=\"#m1d56f1a869\" y=\"126.50961\"/>\n     <use style=\"fill:#1f77b4;stroke:#1f77b4;\" x=\"180.664779\" xlink:href=\"#m1d56f1a869\" y=\"126.50961\"/>\n     <use style=\"fill:#1f77b4;stroke:#1f77b4;\" x=\"273.468162\" xlink:href=\"#m1d56f1a869\" y=\"167.691429\"/>\n     <use style=\"fill:#1f77b4;stroke:#1f77b4;\" x=\"312.791629\" xlink:href=\"#m1d56f1a869\" y=\"173.574545\"/>\n     <use style=\"fill:#1f77b4;stroke:#1f77b4;\" x=\"274.254631\" xlink:href=\"#m1d56f1a869\" y=\"150.042078\"/>\n     <use style=\"fill:#1f77b4;stroke:#1f77b4;\" x=\"248.301143\" xlink:href=\"#m1d56f1a869\" y=\"155.925195\"/>\n     <use style=\"fill:#1f77b4;stroke:#1f77b4;\" x=\"299.42165\" xlink:href=\"#m1d56f1a869\" y=\"173.574545\"/>\n     <use style=\"fill:#1f77b4;stroke:#1f77b4;\" x=\"312.791629\" xlink:href=\"#m1d56f1a869\" y=\"167.691429\"/>\n     <use style=\"fill:#1f77b4;stroke:#1f77b4;\" x=\"312.791629\" xlink:href=\"#m1d56f1a869\" y=\"167.691429\"/>\n     <use style=\"fill:#1f77b4;stroke:#1f77b4;\" x=\"201.112982\" xlink:href=\"#m1d56f1a869\" y=\"150.042078\"/>\n     <use style=\"fill:#1f77b4;stroke:#1f77b4;\" x=\"108.3096\" xlink:href=\"#m1d56f1a869\" y=\"85.327792\"/>\n     <use style=\"fill:#1f77b4;stroke:#1f77b4;\" x=\"194.821228\" xlink:href=\"#m1d56f1a869\" y=\"132.392727\"/>\n     <use style=\"fill:#1f77b4;stroke:#1f77b4;\" x=\"194.821228\" xlink:href=\"#m1d56f1a869\" y=\"138.275844\"/>\n     <use style=\"fill:#1f77b4;stroke:#1f77b4;\" x=\"94.153151\" xlink:href=\"#m1d56f1a869\" y=\"144.158961\"/>\n     <use style=\"fill:#1f77b4;stroke:#1f77b4;\" x=\"89.434335\" xlink:href=\"#m1d56f1a869\" y=\"144.158961\"/>\n     <use style=\"fill:#1f77b4;stroke:#1f77b4;\" x=\"60.33497\" xlink:href=\"#m1d56f1a869\" y=\"79.444675\"/>\n     <use style=\"fill:#1f77b4;stroke:#1f77b4;\" x=\"67.413194\" xlink:href=\"#m1d56f1a869\" y=\"138.275844\"/>\n     <use style=\"fill:#1f77b4;stroke:#1f77b4;\" x=\"54.043215\" xlink:href=\"#m1d56f1a869\" y=\"85.327792\"/>\n     <use style=\"fill:#1f77b4;stroke:#1f77b4;\" x=\"54.829684\" xlink:href=\"#m1d56f1a869\" y=\"97.094026\"/>\n     <use style=\"fill:#1f77b4;stroke:#1f77b4;\" x=\"74.491418\" xlink:href=\"#m1d56f1a869\" y=\"85.327792\"/>\n     <use style=\"fill:#1f77b4;stroke:#1f77b4;\" x=\"69.772602\" xlink:href=\"#m1d56f1a869\" y=\"67.678442\"/>\n     <use style=\"fill:#1f77b4;stroke:#1f77b4;\" x=\"87.074927\" xlink:href=\"#m1d56f1a869\" y=\"126.50961\"/>\n     <use style=\"fill:#1f77b4;stroke:#1f77b4;\" x=\"74.884652\" xlink:href=\"#m1d56f1a869\" y=\"108.86026\"/>\n     <use style=\"fill:#1f77b4;stroke:#1f77b4;\" x=\"74.491418\" xlink:href=\"#m1d56f1a869\" y=\"32.37974\"/>\n     <use style=\"fill:#1f77b4;stroke:#1f77b4;\" x=\"108.3096\" xlink:href=\"#m1d56f1a869\" y=\"79.444675\"/>\n     <use style=\"fill:#1f77b4;stroke:#1f77b4;\" x=\"94.153151\" xlink:href=\"#m1d56f1a869\" y=\"114.743377\"/>\n     <use style=\"fill:#1f77b4;stroke:#1f77b4;\" x=\"273.468162\" xlink:href=\"#m1d56f1a869\" y=\"167.691429\"/>\n     <use style=\"fill:#1f77b4;stroke:#1f77b4;\" x=\"312.791629\" xlink:href=\"#m1d56f1a869\" y=\"167.691429\"/>\n     <use style=\"fill:#1f77b4;stroke:#1f77b4;\" x=\"248.301143\" xlink:href=\"#m1d56f1a869\" y=\"150.042078\"/>\n     <use style=\"fill:#1f77b4;stroke:#1f77b4;\" x=\"274.254631\" xlink:href=\"#m1d56f1a869\" y=\"155.925195\"/>\n     <use style=\"fill:#1f77b4;stroke:#1f77b4;\" x=\"237.290572\" xlink:href=\"#m1d56f1a869\" y=\"173.574545\"/>\n     <use style=\"fill:#1f77b4;stroke:#1f77b4;\" x=\"335.59924\" xlink:href=\"#m1d56f1a869\" y=\"179.457662\"/>\n     <use style=\"fill:#1f77b4;stroke:#1f77b4;\" x=\"273.468162\" xlink:href=\"#m1d56f1a869\" y=\"150.042078\"/>\n     <use style=\"fill:#1f77b4;stroke:#1f77b4;\" x=\"273.468162\" xlink:href=\"#m1d56f1a869\" y=\"150.042078\"/>\n     <use style=\"fill:#1f77b4;stroke:#1f77b4;\" x=\"312.791629\" xlink:href=\"#m1d56f1a869\" y=\"161.808312\"/>\n     <use style=\"fill:#1f77b4;stroke:#1f77b4;\" x=\"53.256746\" xlink:href=\"#m1d56f1a869\" y=\"150.042078\"/>\n     <use style=\"fill:#1f77b4;stroke:#1f77b4;\" x=\"237.290572\" xlink:href=\"#m1d56f1a869\" y=\"161.808312\"/>\n     <use style=\"fill:#1f77b4;stroke:#1f77b4;\" x=\"239.64998\" xlink:href=\"#m1d56f1a869\" y=\"144.158961\"/>\n     <use style=\"fill:#1f77b4;stroke:#1f77b4;\" x=\"235.717633\" xlink:href=\"#m1d56f1a869\" y=\"120.626494\"/>\n     <use style=\"fill:#1f77b4;stroke:#1f77b4;\" x=\"248.301143\" xlink:href=\"#m1d56f1a869\" y=\"144.158961\"/>\n     <use style=\"fill:#1f77b4;stroke:#1f77b4;\" x=\"93.366682\" xlink:href=\"#m1d56f1a869\" y=\"138.275844\"/>\n     <use style=\"fill:#1f77b4;stroke:#1f77b4;\" x=\"93.366682\" xlink:href=\"#m1d56f1a869\" y=\"97.094026\"/>\n     <use style=\"fill:#1f77b4;stroke:#1f77b4;\" x=\"92.580213\" xlink:href=\"#m1d56f1a869\" y=\"79.444675\"/>\n     <use style=\"fill:#1f77b4;stroke:#1f77b4;\" x=\"73.704948\" xlink:href=\"#m1d56f1a869\" y=\"97.094026\"/>\n     <use style=\"fill:#1f77b4;stroke:#1f77b4;\" x=\"94.153151\" xlink:href=\"#m1d56f1a869\" y=\"120.626494\"/>\n     <use style=\"fill:#1f77b4;stroke:#1f77b4;\" x=\"74.491418\" xlink:href=\"#m1d56f1a869\" y=\"108.86026\"/>\n     <use style=\"fill:#1f77b4;stroke:#1f77b4;\" x=\"92.580213\" xlink:href=\"#m1d56f1a869\" y=\"138.275844\"/>\n     <use style=\"fill:#1f77b4;stroke:#1f77b4;\" x=\"75.277887\" xlink:href=\"#m1d56f1a869\" y=\"132.392727\"/>\n     <use style=\"fill:#1f77b4;stroke:#1f77b4;\" x=\"74.491418\" xlink:href=\"#m1d56f1a869\" y=\"114.743377\"/>\n     <use style=\"fill:#1f77b4;stroke:#1f77b4;\" x=\"273.468162\" xlink:href=\"#m1d56f1a869\" y=\"155.925195\"/>\n     <use style=\"fill:#1f77b4;stroke:#1f77b4;\" x=\"237.290572\" xlink:href=\"#m1d56f1a869\" y=\"173.574545\"/>\n     <use style=\"fill:#1f77b4;stroke:#1f77b4;\" x=\"273.468162\" xlink:href=\"#m1d56f1a869\" y=\"155.925195\"/>\n     <use style=\"fill:#1f77b4;stroke:#1f77b4;\" x=\"235.717633\" xlink:href=\"#m1d56f1a869\" y=\"138.275844\"/>\n     <use style=\"fill:#1f77b4;stroke:#1f77b4;\" x=\"248.301143\" xlink:href=\"#m1d56f1a869\" y=\"161.808312\"/>\n     <use style=\"fill:#1f77b4;stroke:#1f77b4;\" x=\"335.59924\" xlink:href=\"#m1d56f1a869\" y=\"173.574545\"/>\n     <use style=\"fill:#1f77b4;stroke:#1f77b4;\" x=\"312.791629\" xlink:href=\"#m1d56f1a869\" y=\"167.691429\"/>\n     <use style=\"fill:#1f77b4;stroke:#1f77b4;\" x=\"274.254631\" xlink:href=\"#m1d56f1a869\" y=\"155.925195\"/>\n     <use style=\"fill:#1f77b4;stroke:#1f77b4;\" x=\"248.301143\" xlink:href=\"#m1d56f1a869\" y=\"138.275844\"/>\n     <use style=\"fill:#1f77b4;stroke:#1f77b4;\" x=\"344.250403\" xlink:href=\"#m1d56f1a869\" y=\"179.457662\"/>\n     <use style=\"fill:#1f77b4;stroke:#1f77b4;\" x=\"356.047443\" xlink:href=\"#m1d56f1a869\" y=\"179.457662\"/>\n     <use style=\"fill:#1f77b4;stroke:#1f77b4;\" x=\"281.332855\" xlink:href=\"#m1d56f1a869\" y=\"179.457662\"/>\n     <use style=\"fill:#1f77b4;stroke:#1f77b4;\" x=\"175.159494\" xlink:href=\"#m1d56f1a869\" y=\"114.743377\"/>\n     <use style=\"fill:#1f77b4;stroke:#1f77b4;\" x=\"194.821228\" xlink:href=\"#m1d56f1a869\" y=\"97.094026\"/>\n     <use style=\"fill:#1f77b4;stroke:#1f77b4;\" x=\"180.664779\" xlink:href=\"#m1d56f1a869\" y=\"120.626494\"/>\n     <use style=\"fill:#1f77b4;stroke:#1f77b4;\" x=\"194.821228\" xlink:href=\"#m1d56f1a869\" y=\"114.743377\"/>\n     <use style=\"fill:#1f77b4;stroke:#1f77b4;\" x=\"153.924822\" xlink:href=\"#m1d56f1a869\" y=\"120.626494\"/>\n     <use style=\"fill:#1f77b4;stroke:#1f77b4;\" x=\"74.491418\" xlink:href=\"#m1d56f1a869\" y=\"61.795325\"/>\n     <use style=\"fill:#1f77b4;stroke:#1f77b4;\" x=\"312.791629\" xlink:href=\"#m1d56f1a869\" y=\"144.158961\"/>\n     <use style=\"fill:#1f77b4;stroke:#1f77b4;\" x=\"312.791629\" xlink:href=\"#m1d56f1a869\" y=\"161.808312\"/>\n     <use style=\"fill:#1f77b4;stroke:#1f77b4;\" x=\"281.332855\" xlink:href=\"#m1d56f1a869\" y=\"155.925195\"/>\n     <use style=\"fill:#1f77b4;stroke:#1f77b4;\" x=\"273.468162\" xlink:href=\"#m1d56f1a869\" y=\"161.808312\"/>\n     <use style=\"fill:#1f77b4;stroke:#1f77b4;\" x=\"180.664779\" xlink:href=\"#m1d56f1a869\" y=\"132.392727\"/>\n     <use style=\"fill:#1f77b4;stroke:#1f77b4;\" x=\"74.491418\" xlink:href=\"#m1d56f1a869\" y=\"85.327792\"/>\n     <use style=\"fill:#1f77b4;stroke:#1f77b4;\" x=\"108.3096\" xlink:href=\"#m1d56f1a869\" y=\"79.444675\"/>\n     <use style=\"fill:#1f77b4;stroke:#1f77b4;\" x=\"83.142581\" xlink:href=\"#m1d56f1a869\" y=\"114.743377\"/>\n     <use style=\"fill:#1f77b4;stroke:#1f77b4;\" x=\"53.256746\" xlink:href=\"#m1d56f1a869\" y=\"150.042078\"/>\n     <use style=\"fill:#1f77b4;stroke:#1f77b4;\" x=\"94.153151\" xlink:href=\"#m1d56f1a869\" y=\"91.210909\"/>\n     <use style=\"fill:#1f77b4;stroke:#1f77b4;\" x=\"120.10664\" xlink:href=\"#m1d56f1a869\" y=\"144.158961\"/>\n     <use style=\"fill:#1f77b4;stroke:#1f77b4;\" x=\"75.277887\" xlink:href=\"#m1d56f1a869\" y=\"126.50961\"/>\n     <use style=\"fill:#1f77b4;stroke:#1f77b4;\" x=\"273.468162\" xlink:href=\"#m1d56f1a869\" y=\"155.925195\"/>\n     <use style=\"fill:#1f77b4;stroke:#1f77b4;\" x=\"312.791629\" xlink:href=\"#m1d56f1a869\" y=\"197.107013\"/>\n     <use style=\"fill:#1f77b4;stroke:#1f77b4;\" x=\"51.683807\" xlink:href=\"#m1d56f1a869\" y=\"79.444675\"/>\n     <use style=\"fill:#1f77b4;stroke:#1f77b4;\" x=\"89.434335\" xlink:href=\"#m1d56f1a869\" y=\"126.50961\"/>\n     <use style=\"fill:#1f77b4;stroke:#1f77b4;\" x=\"87.861397\" xlink:href=\"#m1d56f1a869\" y=\"144.158961\"/>\n     <use style=\"fill:#1f77b4;stroke:#1f77b4;\" x=\"93.366682\" xlink:href=\"#m1d56f1a869\" y=\"126.50961\"/>\n     <use style=\"fill:#1f77b4;stroke:#1f77b4;\" x=\"248.301143\" xlink:href=\"#m1d56f1a869\" y=\"179.457662\"/>\n     <use style=\"fill:#1f77b4;stroke:#1f77b4;\" x=\"93.366682\" xlink:href=\"#m1d56f1a869\" y=\"144.158961\"/>\n     <use style=\"fill:#1f77b4;stroke:#1f77b4;\" x=\"120.893109\" xlink:href=\"#m1d56f1a869\" y=\"150.042078\"/>\n     <use style=\"fill:#1f77b4;stroke:#1f77b4;\" x=\"273.468162\" xlink:href=\"#m1d56f1a869\" y=\"179.457662\"/>\n     <use style=\"fill:#1f77b4;stroke:#1f77b4;\" x=\"153.924822\" xlink:href=\"#m1d56f1a869\" y=\"114.743377\"/>\n     <use style=\"fill:#1f77b4;stroke:#1f77b4;\" x=\"155.49776\" xlink:href=\"#m1d56f1a869\" y=\"108.86026\"/>\n     <use style=\"fill:#1f77b4;stroke:#1f77b4;\" x=\"180.664779\" xlink:href=\"#m1d56f1a869\" y=\"120.626494\"/>\n     <use style=\"fill:#1f77b4;stroke:#1f77b4;\" x=\"194.821228\" xlink:href=\"#m1d56f1a869\" y=\"108.86026\"/>\n     <use style=\"fill:#1f77b4;stroke:#1f77b4;\" x=\"60.33497\" xlink:href=\"#m1d56f1a869\" y=\"85.327792\"/>\n     <use style=\"fill:#1f77b4;stroke:#1f77b4;\" x=\"94.153151\" xlink:href=\"#m1d56f1a869\" y=\"114.743377\"/>\n     <use style=\"fill:#1f77b4;stroke:#1f77b4;\" x=\"54.043215\" xlink:href=\"#m1d56f1a869\" y=\"61.795325\"/>\n     <use style=\"fill:#1f77b4;stroke:#1f77b4;\" x=\"108.3096\" xlink:href=\"#m1d56f1a869\" y=\"108.86026\"/>\n     <use style=\"fill:#1f77b4;stroke:#1f77b4;\" x=\"194.821228\" xlink:href=\"#m1d56f1a869\" y=\"108.86026\"/>\n     <use style=\"fill:#1f77b4;stroke:#1f77b4;\" x=\"201.112982\" xlink:href=\"#m1d56f1a869\" y=\"97.094026\"/>\n     <use style=\"fill:#1f77b4;stroke:#1f77b4;\" x=\"175.159494\" xlink:href=\"#m1d56f1a869\" y=\"114.743377\"/>\n     <use style=\"fill:#1f77b4;stroke:#1f77b4;\" x=\"235.717633\" xlink:href=\"#m1d56f1a869\" y=\"144.158961\"/>\n     <use style=\"fill:#1f77b4;stroke:#1f77b4;\" x=\"273.468162\" xlink:href=\"#m1d56f1a869\" y=\"138.275844\"/>\n     <use style=\"fill:#1f77b4;stroke:#1f77b4;\" x=\"248.301143\" xlink:href=\"#m1d56f1a869\" y=\"150.042078\"/>\n     <use style=\"fill:#1f77b4;stroke:#1f77b4;\" x=\"235.717633\" xlink:href=\"#m1d56f1a869\" y=\"120.626494\"/>\n     <use style=\"fill:#1f77b4;stroke:#1f77b4;\" x=\"237.290572\" xlink:href=\"#m1d56f1a869\" y=\"126.50961\"/>\n     <use style=\"fill:#1f77b4;stroke:#1f77b4;\" x=\"75.277887\" xlink:href=\"#m1d56f1a869\" y=\"114.743377\"/>\n     <use style=\"fill:#1f77b4;stroke:#1f77b4;\" x=\"60.33497\" xlink:href=\"#m1d56f1a869\" y=\"126.50961\"/>\n     <use style=\"fill:#1f77b4;stroke:#1f77b4;\" x=\"74.491418\" xlink:href=\"#m1d56f1a869\" y=\"138.275844\"/>\n     <use style=\"fill:#1f77b4;stroke:#1f77b4;\" x=\"57.975562\" xlink:href=\"#m1d56f1a869\" y=\"114.743377\"/>\n     <use style=\"fill:#1f77b4;stroke:#1f77b4;\" x=\"63.480847\" xlink:href=\"#m1d56f1a869\" y=\"85.327792\"/>\n     <use style=\"fill:#1f77b4;stroke:#1f77b4;\" x=\"68.986132\" xlink:href=\"#m1d56f1a869\" y=\"138.275844\"/>\n     <use style=\"fill:#1f77b4;stroke:#1f77b4;\" x=\"68.986132\" xlink:href=\"#m1d56f1a869\" y=\"126.50961\"/>\n     <use style=\"fill:#1f77b4;stroke:#1f77b4;\" x=\"89.434335\" xlink:href=\"#m1d56f1a869\" y=\"144.158961\"/>\n     <use style=\"fill:#1f77b4;stroke:#1f77b4;\" x=\"92.580213\" xlink:href=\"#m1d56f1a869\" y=\"132.392727\"/>\n     <use style=\"fill:#1f77b4;stroke:#1f77b4;\" x=\"83.142581\" xlink:href=\"#m1d56f1a869\" y=\"126.50961\"/>\n     <use style=\"fill:#1f77b4;stroke:#1f77b4;\" x=\"60.33497\" xlink:href=\"#m1d56f1a869\" y=\"120.626494\"/>\n     <use style=\"fill:#1f77b4;stroke:#1f77b4;\" x=\"175.159494\" xlink:href=\"#m1d56f1a869\" y=\"120.626494\"/>\n     <use style=\"fill:#1f77b4;stroke:#1f77b4;\" x=\"194.821228\" xlink:href=\"#m1d56f1a869\" y=\"120.626494\"/>\n     <use style=\"fill:#1f77b4;stroke:#1f77b4;\" x=\"194.821228\" xlink:href=\"#m1d56f1a869\" y=\"61.795325\"/>\n     <use style=\"fill:#1f77b4;stroke:#1f77b4;\" x=\"194.821228\" xlink:href=\"#m1d56f1a869\" y=\"79.444675\"/>\n     <use style=\"fill:#1f77b4;stroke:#1f77b4;\" x=\"312.791629\" xlink:href=\"#m1d56f1a869\" y=\"173.574545\"/>\n     <use style=\"fill:#1f77b4;stroke:#1f77b4;\" x=\"273.468162\" xlink:href=\"#m1d56f1a869\" y=\"144.158961\"/>\n     <use style=\"fill:#1f77b4;stroke:#1f77b4;\" x=\"248.301143\" xlink:href=\"#m1d56f1a869\" y=\"138.275844\"/>\n     <use style=\"fill:#1f77b4;stroke:#1f77b4;\" x=\"274.254631\" xlink:href=\"#m1d56f1a869\" y=\"150.042078\"/>\n     <use style=\"fill:#1f77b4;stroke:#1f77b4;\" x=\"179.87831\" xlink:href=\"#m1d56f1a869\" y=\"61.795325\"/>\n     <use style=\"fill:#1f77b4;stroke:#1f77b4;\" x=\"194.821228\" xlink:href=\"#m1d56f1a869\" y=\"91.210909\"/>\n     <use style=\"fill:#1f77b4;stroke:#1f77b4;\" x=\"201.112982\" xlink:href=\"#m1d56f1a869\" y=\"85.327792\"/>\n     <use style=\"fill:#1f77b4;stroke:#1f77b4;\" x=\"175.159494\" xlink:href=\"#m1d56f1a869\" y=\"85.327792\"/>\n     <use style=\"fill:#1f77b4;stroke:#1f77b4;\" x=\"179.87831\" xlink:href=\"#m1d56f1a869\" y=\"132.392727\"/>\n     <use style=\"fill:#1f77b4;stroke:#1f77b4;\" x=\"204.25886\" xlink:href=\"#m1d56f1a869\" y=\"150.042078\"/>\n     <use style=\"fill:#1f77b4;stroke:#1f77b4;\" x=\"235.717633\" xlink:href=\"#m1d56f1a869\" y=\"167.691429\"/>\n     <use style=\"fill:#1f77b4;stroke:#1f77b4;\" x=\"74.491418\" xlink:href=\"#m1d56f1a869\" y=\"120.626494\"/>\n     <use style=\"fill:#1f77b4;stroke:#1f77b4;\" x=\"108.3096\" xlink:href=\"#m1d56f1a869\" y=\"108.86026\"/>\n     <use style=\"fill:#1f77b4;stroke:#1f77b4;\" x=\"180.664779\" xlink:href=\"#m1d56f1a869\" y=\"120.626494\"/>\n     <use style=\"fill:#1f77b4;stroke:#1f77b4;\" x=\"108.3096\" xlink:href=\"#m1d56f1a869\" y=\"91.210909\"/>\n     <use style=\"fill:#1f77b4;stroke:#1f77b4;\" x=\"103.590784\" xlink:href=\"#m1d56f1a869\" y=\"150.042078\"/>\n     <use style=\"fill:#1f77b4;stroke:#1f77b4;\" x=\"68.986132\" xlink:href=\"#m1d56f1a869\" y=\"114.743377\"/>\n     <use style=\"fill:#1f77b4;stroke:#1f77b4;\" x=\"91.793743\" xlink:href=\"#m1d56f1a869\" y=\"108.86026\"/>\n     <use style=\"fill:#1f77b4;stroke:#1f77b4;\" x=\"132.690149\" xlink:href=\"#m1d56f1a869\" y=\"138.275844\"/>\n     <use style=\"fill:#1f77b4;stroke:#1f77b4;\" x=\"68.986132\" xlink:href=\"#m1d56f1a869\" y=\"144.158961\"/>\n     <use style=\"fill:#1f77b4;stroke:#1f77b4;\" x=\"180.664779\" xlink:href=\"#m1d56f1a869\" y=\"108.86026\"/>\n     <use style=\"fill:#1f77b4;stroke:#1f77b4;\" x=\"88.647866\" xlink:href=\"#m1d56f1a869\" y=\"132.392727\"/>\n     <use style=\"fill:#1f77b4;stroke:#1f77b4;\" x=\"92.580213\" xlink:href=\"#m1d56f1a869\" y=\"108.86026\"/>\n     <use style=\"fill:#1f77b4;stroke:#1f77b4;\" x=\"93.366682\" xlink:href=\"#m1d56f1a869\" y=\"138.275844\"/>\n     <use style=\"fill:#1f77b4;stroke:#1f77b4;\" x=\"93.366682\" xlink:href=\"#m1d56f1a869\" y=\"150.042078\"/>\n     <use style=\"fill:#1f77b4;stroke:#1f77b4;\" x=\"69.772602\" xlink:href=\"#m1d56f1a869\" y=\"102.977143\"/>\n     <use style=\"fill:#1f77b4;stroke:#1f77b4;\" x=\"82.356111\" xlink:href=\"#m1d56f1a869\" y=\"126.50961\"/>\n     <use style=\"fill:#1f77b4;stroke:#1f77b4;\" x=\"89.434335\" xlink:href=\"#m1d56f1a869\" y=\"110.036883\"/>\n     <use style=\"fill:#1f77b4;stroke:#1f77b4;\" x=\"108.3096\" xlink:href=\"#m1d56f1a869\" y=\"133.569351\"/>\n     <use style=\"fill:#1f77b4;stroke:#1f77b4;\" x=\"75.277887\" xlink:href=\"#m1d56f1a869\" y=\"100.623896\"/>\n     <use style=\"fill:#1f77b4;stroke:#1f77b4;\" x=\"77.637295\" xlink:href=\"#m1d56f1a869\" y=\"128.862857\"/>\n     <use style=\"fill:#1f77b4;stroke:#1f77b4;\" x=\"238.077041\" xlink:href=\"#m1d56f1a869\" y=\"155.925195\"/>\n     <use style=\"fill:#1f77b4;stroke:#1f77b4;\" x=\"248.301143\" xlink:href=\"#m1d56f1a869\" y=\"155.925195\"/>\n     <use style=\"fill:#1f77b4;stroke:#1f77b4;\" x=\"237.290572\" xlink:href=\"#m1d56f1a869\" y=\"145.335584\"/>\n     <use style=\"fill:#1f77b4;stroke:#1f77b4;\" x=\"274.254631\" xlink:href=\"#m1d56f1a869\" y=\"158.278442\"/>\n     <use style=\"fill:#1f77b4;stroke:#1f77b4;\" x=\"175.159494\" xlink:href=\"#m1d56f1a869\" y=\"127.686234\"/>\n     <use style=\"fill:#1f77b4;stroke:#1f77b4;\" x=\"194.821228\" xlink:href=\"#m1d56f1a869\" y=\"138.275844\"/>\n     <use style=\"fill:#1f77b4;stroke:#1f77b4;\" x=\"155.49776\" xlink:href=\"#m1d56f1a869\" y=\"101.800519\"/>\n     <use style=\"fill:#1f77b4;stroke:#1f77b4;\" x=\"180.664779\" xlink:href=\"#m1d56f1a869\" y=\"101.800519\"/>\n     <use style=\"fill:#1f77b4;stroke:#1f77b4;\" x=\"65.053786\" xlink:href=\"#m1d56f1a869\" y=\"47.675844\"/>\n     <use style=\"fill:#1f77b4;stroke:#1f77b4;\" x=\"75.277887\" xlink:href=\"#m1d56f1a869\" y=\"48.852468\"/>\n     <use style=\"fill:#1f77b4;stroke:#1f77b4;\" x=\"68.986132\" xlink:href=\"#m1d56f1a869\" y=\"141.805714\"/>\n     <use style=\"fill:#1f77b4;stroke:#1f77b4;\" x=\"69.772602\" xlink:href=\"#m1d56f1a869\" y=\"104.153766\"/>\n     <use style=\"fill:#1f77b4;stroke:#1f77b4;\" x=\"175.159494\" xlink:href=\"#m1d56f1a869\" y=\"100.623896\"/>\n     <use style=\"fill:#1f77b4;stroke:#1f77b4;\" x=\"194.821228\" xlink:href=\"#m1d56f1a869\" y=\"61.795325\"/>\n     <use style=\"fill:#1f77b4;stroke:#1f77b4;\" x=\"194.821228\" xlink:href=\"#m1d56f1a869\" y=\"118.273247\"/>\n     <use style=\"fill:#1f77b4;stroke:#1f77b4;\" x=\"201.112982\" xlink:href=\"#m1d56f1a869\" y=\"99.447273\"/>\n     <use style=\"fill:#1f77b4;stroke:#1f77b4;\" x=\"74.491418\" xlink:href=\"#m1d56f1a869\" y=\"165.338182\"/>\n     <use style=\"fill:#1f77b4;stroke:#1f77b4;\" x=\"65.053786\" xlink:href=\"#m1d56f1a869\" y=\"108.86026\"/>\n     <use style=\"fill:#1f77b4;stroke:#1f77b4;\" x=\"74.491418\" xlink:href=\"#m1d56f1a869\" y=\"115.92\"/>\n     <use style=\"fill:#1f77b4;stroke:#1f77b4;\" x=\"108.3096\" xlink:href=\"#m1d56f1a869\" y=\"148.865455\"/>\n     <use style=\"fill:#1f77b4;stroke:#1f77b4;\" x=\"100.444906\" xlink:href=\"#m1d56f1a869\" y=\"124.156364\"/>\n     <use style=\"fill:#1f77b4;stroke:#1f77b4;\" x=\"248.301143\" xlink:href=\"#m1d56f1a869\" y=\"153.571948\"/>\n     <use style=\"fill:#1f77b4;stroke:#1f77b4;\" x=\"92.580213\" xlink:href=\"#m1d56f1a869\" y=\"51.205714\"/>\n     <use style=\"fill:#1f77b4;stroke:#1f77b4;\" x=\"120.893109\" xlink:href=\"#m1d56f1a869\" y=\"126.50961\"/>\n     <use style=\"fill:#1f77b4;stroke:#1f77b4;\" x=\"130.330741\" xlink:href=\"#m1d56f1a869\" y=\"112.39013\"/>\n     <use style=\"fill:#1f77b4;stroke:#1f77b4;\" x=\"273.468162\" xlink:href=\"#m1d56f1a869\" y=\"166.514805\"/>\n     <use style=\"fill:#1f77b4;stroke:#1f77b4;\" x=\"273.468162\" xlink:href=\"#m1d56f1a869\" y=\"167.691429\"/>\n     <use style=\"fill:#1f77b4;stroke:#1f77b4;\" x=\"235.717633\" xlink:href=\"#m1d56f1a869\" y=\"132.392727\"/>\n     <use style=\"fill:#1f77b4;stroke:#1f77b4;\" x=\"248.301143\" xlink:href=\"#m1d56f1a869\" y=\"144.158961\"/>\n     <use style=\"fill:#1f77b4;stroke:#1f77b4;\" x=\"75.277887\" xlink:href=\"#m1d56f1a869\" y=\"91.210909\"/>\n     <use style=\"fill:#1f77b4;stroke:#1f77b4;\" x=\"85.501989\" xlink:href=\"#m1d56f1a869\" y=\"134.745974\"/>\n     <use style=\"fill:#1f77b4;stroke:#1f77b4;\" x=\"60.33497\" xlink:href=\"#m1d56f1a869\" y=\"90.034286\"/>\n     <use style=\"fill:#1f77b4;stroke:#1f77b4;\" x=\"94.153151\" xlink:href=\"#m1d56f1a869\" y=\"126.50961\"/>\n     <use style=\"fill:#1f77b4;stroke:#1f77b4;\" x=\"65.053786\" xlink:href=\"#m1d56f1a869\" y=\"111.213506\"/>\n     <use style=\"fill:#1f77b4;stroke:#1f77b4;\" x=\"238.077041\" xlink:href=\"#m1d56f1a869\" y=\"161.808312\"/>\n     <use style=\"fill:#1f77b4;stroke:#1f77b4;\" x=\"202.685921\" xlink:href=\"#m1d56f1a869\" y=\"85.327792\"/>\n     <use style=\"fill:#1f77b4;stroke:#1f77b4;\" x=\"248.301143\" xlink:href=\"#m1d56f1a869\" y=\"147.688831\"/>\n     <use style=\"fill:#1f77b4;stroke:#1f77b4;\" x=\"235.717633\" xlink:href=\"#m1d56f1a869\" y=\"133.569351\"/>\n     <use style=\"fill:#1f77b4;stroke:#1f77b4;\" x=\"194.821228\" xlink:href=\"#m1d56f1a869\" y=\"115.92\"/>\n     <use style=\"fill:#1f77b4;stroke:#1f77b4;\" x=\"179.87831\" xlink:href=\"#m1d56f1a869\" y=\"110.036883\"/>\n     <use style=\"fill:#1f77b4;stroke:#1f77b4;\" x=\"175.159494\" xlink:href=\"#m1d56f1a869\" y=\"100.623896\"/>\n     <use style=\"fill:#1f77b4;stroke:#1f77b4;\" x=\"194.821228\" xlink:href=\"#m1d56f1a869\" y=\"85.327792\"/>\n     <use style=\"fill:#1f77b4;stroke:#1f77b4;\" x=\"312.791629\" xlink:href=\"#m1d56f1a869\" y=\"178.281039\"/>\n     <use style=\"fill:#1f77b4;stroke:#1f77b4;\" x=\"273.468162\" xlink:href=\"#m1d56f1a869\" y=\"174.751169\"/>\n     <use style=\"fill:#1f77b4;stroke:#1f77b4;\" x=\"312.791629\" xlink:href=\"#m1d56f1a869\" y=\"165.338182\"/>\n     <use style=\"fill:#1f77b4;stroke:#1f77b4;\" x=\"274.254631\" xlink:href=\"#m1d56f1a869\" y=\"138.275844\"/>\n     <use style=\"fill:#1f77b4;stroke:#1f77b4;\" x=\"74.491418\" xlink:href=\"#m1d56f1a869\" y=\"138.275844\"/>\n     <use style=\"fill:#1f77b4;stroke:#1f77b4;\" x=\"116.960762\" xlink:href=\"#m1d56f1a869\" y=\"120.626494\"/>\n     <use style=\"fill:#1f77b4;stroke:#1f77b4;\" x=\"74.491418\" xlink:href=\"#m1d56f1a869\" y=\"94.740779\"/>\n     <use style=\"fill:#1f77b4;stroke:#1f77b4;\" x=\"108.3096\" xlink:href=\"#m1d56f1a869\" y=\"122.97974\"/>\n     <use style=\"fill:#1f77b4;stroke:#1f77b4;\" x=\"75.277887\" xlink:href=\"#m1d56f1a869\" y=\"108.86026\"/>\n     <use style=\"fill:#1f77b4;stroke:#1f77b4;\" x=\"75.277887\" xlink:href=\"#m1d56f1a869\" y=\"121.803117\"/>\n     <use style=\"fill:#1f77b4;stroke:#1f77b4;\" x=\"74.491418\" xlink:href=\"#m1d56f1a869\" y=\"115.92\"/>\n     <use style=\"fill:#1f77b4;stroke:#1f77b4;\" x=\"74.491418\" xlink:href=\"#m1d56f1a869\" y=\"142.982338\"/>\n     <use style=\"fill:#1f77b4;stroke:#1f77b4;\" x=\"113.028416\" xlink:href=\"#m1d56f1a869\" y=\"138.275844\"/>\n     <use style=\"fill:#1f77b4;stroke:#1f77b4;\" x=\"93.366682\" xlink:href=\"#m1d56f1a869\" y=\"158.278442\"/>\n     <use style=\"fill:#1f77b4;stroke:#1f77b4;\" x=\"61.121439\" xlink:href=\"#m1d56f1a869\" y=\"150.042078\"/>\n     <use style=\"fill:#1f77b4;stroke:#1f77b4;\" x=\"68.986132\" xlink:href=\"#m1d56f1a869\" y=\"55.912208\"/>\n     <use style=\"fill:#1f77b4;stroke:#1f77b4;\" x=\"75.277887\" xlink:href=\"#m1d56f1a869\" y=\"139.452468\"/>\n     <use style=\"fill:#1f77b4;stroke:#1f77b4;\" x=\"59.5485\" xlink:href=\"#m1d56f1a869\" y=\"80.621299\"/>\n     <use style=\"fill:#1f77b4;stroke:#1f77b4;\" x=\"65.053786\" xlink:href=\"#m1d56f1a869\" y=\"90.034286\"/>\n     <use style=\"fill:#1f77b4;stroke:#1f77b4;\" x=\"69.772602\" xlink:href=\"#m1d56f1a869\" y=\"115.92\"/>\n     <use style=\"fill:#1f77b4;stroke:#1f77b4;\" x=\"202.685921\" xlink:href=\"#m1d56f1a869\" y=\"126.50961\"/>\n     <use style=\"fill:#1f77b4;stroke:#1f77b4;\" x=\"248.301143\" xlink:href=\"#m1d56f1a869\" y=\"153.571948\"/>\n     <use style=\"fill:#1f77b4;stroke:#1f77b4;\" x=\"235.717633\" xlink:href=\"#m1d56f1a869\" y=\"158.278442\"/>\n     <use style=\"fill:#1f77b4;stroke:#1f77b4;\" x=\"179.87831\" xlink:href=\"#m1d56f1a869\" y=\"82.974545\"/>\n     <use style=\"fill:#1f77b4;stroke:#1f77b4;\" x=\"155.49776\" xlink:href=\"#m1d56f1a869\" y=\"94.740779\"/>\n     <use style=\"fill:#1f77b4;stroke:#1f77b4;\" x=\"155.49776\" xlink:href=\"#m1d56f1a869\" y=\"122.97974\"/>\n     <use style=\"fill:#1f77b4;stroke:#1f77b4;\" x=\"108.3096\" xlink:href=\"#m1d56f1a869\" y=\"127.686234\"/>\n     <use style=\"fill:#1f77b4;stroke:#1f77b4;\" x=\"175.159494\" xlink:href=\"#m1d56f1a869\" y=\"106.507013\"/>\n     <use style=\"fill:#1f77b4;stroke:#1f77b4;\" x=\"180.664779\" xlink:href=\"#m1d56f1a869\" y=\"106.507013\"/>\n     <use style=\"fill:#1f77b4;stroke:#1f77b4;\" x=\"179.87831\" xlink:href=\"#m1d56f1a869\" y=\"122.97974\"/>\n     <use style=\"fill:#1f77b4;stroke:#1f77b4;\" x=\"155.49776\" xlink:href=\"#m1d56f1a869\" y=\"112.39013\"/>\n     <use style=\"fill:#1f77b4;stroke:#1f77b4;\" x=\"175.159494\" xlink:href=\"#m1d56f1a869\" y=\"88.857662\"/>\n     <use style=\"fill:#1f77b4;stroke:#1f77b4;\" x=\"201.112982\" xlink:href=\"#m1d56f1a869\" y=\"131.216104\"/>\n     <use style=\"fill:#1f77b4;stroke:#1f77b4;\" x=\"238.077041\" xlink:href=\"#m1d56f1a869\" y=\"153.571948\"/>\n     <use style=\"fill:#1f77b4;stroke:#1f77b4;\" x=\"179.87831\" xlink:href=\"#m1d56f1a869\" y=\"151.218701\"/>\n     <use style=\"fill:#1f77b4;stroke:#1f77b4;\" x=\"235.717633\" xlink:href=\"#m1d56f1a869\" y=\"177.104416\"/>\n     <use style=\"fill:#1f77b4;stroke:#1f77b4;\" x=\"248.301143\" xlink:href=\"#m1d56f1a869\" y=\"147.688831\"/>\n     <use style=\"fill:#1f77b4;stroke:#1f77b4;\" x=\"75.277887\" xlink:href=\"#m1d56f1a869\" y=\"114.743377\"/>\n     <use style=\"fill:#1f77b4;stroke:#1f77b4;\" x=\"103.590784\" xlink:href=\"#m1d56f1a869\" y=\"141.805714\"/>\n     <use style=\"fill:#1f77b4;stroke:#1f77b4;\" x=\"91.793743\" xlink:href=\"#m1d56f1a869\" y=\"135.922597\"/>\n     <use style=\"fill:#1f77b4;stroke:#1f77b4;\" x=\"80.783173\" xlink:href=\"#m1d56f1a869\" y=\"138.275844\"/>\n     <use style=\"fill:#1f77b4;stroke:#1f77b4;\" x=\"103.590784\" xlink:href=\"#m1d56f1a869\" y=\"134.745974\"/>\n     <use style=\"fill:#1f77b4;stroke:#1f77b4;\" x=\"120.893109\" xlink:href=\"#m1d56f1a869\" y=\"112.39013\"/>\n     <use style=\"fill:#1f77b4;stroke:#1f77b4;\" x=\"116.960762\" xlink:href=\"#m1d56f1a869\" y=\"101.800519\"/>\n     <use style=\"fill:#1f77b4;stroke:#1f77b4;\" x=\"91.793743\" xlink:href=\"#m1d56f1a869\" y=\"133.569351\"/>\n     <use style=\"fill:#1f77b4;stroke:#1f77b4;\" x=\"101.231376\" xlink:href=\"#m1d56f1a869\" y=\"121.803117\"/>\n     <use style=\"fill:#1f77b4;stroke:#1f77b4;\" x=\"126.398395\" xlink:href=\"#m1d56f1a869\" y=\"148.865455\"/>\n     <use style=\"fill:#1f77b4;stroke:#1f77b4;\" x=\"93.366682\" xlink:href=\"#m1d56f1a869\" y=\"124.156364\"/>\n     <use style=\"fill:#1f77b4;stroke:#1f77b4;\" x=\"126.398395\" xlink:href=\"#m1d56f1a869\" y=\"122.97974\"/>\n     <use style=\"fill:#1f77b4;stroke:#1f77b4;\" x=\"68.199663\" xlink:href=\"#m1d56f1a869\" y=\"133.569351\"/>\n     <use style=\"fill:#1f77b4;stroke:#1f77b4;\" x=\"75.277887\" xlink:href=\"#m1d56f1a869\" y=\"113.566753\"/>\n     <use style=\"fill:#1f77b4;stroke:#1f77b4;\" x=\"179.87831\" xlink:href=\"#m1d56f1a869\" y=\"127.686234\"/>\n     <use style=\"fill:#1f77b4;stroke:#1f77b4;\" x=\"155.49776\" xlink:href=\"#m1d56f1a869\" y=\"94.740779\"/>\n     <use style=\"fill:#1f77b4;stroke:#1f77b4;\" x=\"108.3096\" xlink:href=\"#m1d56f1a869\" y=\"105.33039\"/>\n     <use style=\"fill:#1f77b4;stroke:#1f77b4;\" x=\"180.664779\" xlink:href=\"#m1d56f1a869\" y=\"94.740779\"/>\n     <use style=\"fill:#1f77b4;stroke:#1f77b4;\" x=\"175.159494\" xlink:href=\"#m1d56f1a869\" y=\"113.566753\"/>\n     <use style=\"fill:#1f77b4;stroke:#1f77b4;\" x=\"238.077041\" xlink:href=\"#m1d56f1a869\" y=\"127.686234\"/>\n     <use style=\"fill:#1f77b4;stroke:#1f77b4;\" x=\"235.717633\" xlink:href=\"#m1d56f1a869\" y=\"151.218701\"/>\n     <use style=\"fill:#1f77b4;stroke:#1f77b4;\" x=\"274.254631\" xlink:href=\"#m1d56f1a869\" y=\"153.571948\"/>\n     <use style=\"fill:#1f77b4;stroke:#1f77b4;\" x=\"248.301143\" xlink:href=\"#m1d56f1a869\" y=\"130.039481\"/>\n     <use style=\"fill:#1f77b4;stroke:#1f77b4;\" x=\"273.468162\" xlink:href=\"#m1d56f1a869\" y=\"133.569351\"/>\n     <use style=\"fill:#1f77b4;stroke:#1f77b4;\" x=\"274.254631\" xlink:href=\"#m1d56f1a869\" y=\"140.629091\"/>\n     <use style=\"fill:#1f77b4;stroke:#1f77b4;\" x=\"208.191206\" xlink:href=\"#m1d56f1a869\" y=\"132.392727\"/>\n     <use style=\"fill:#1f77b4;stroke:#1f77b4;\" x=\"281.332855\" xlink:href=\"#m1d56f1a869\" y=\"155.925195\"/>\n     <use style=\"fill:#1f77b4;stroke:#1f77b4;\" x=\"68.199663\" xlink:href=\"#m1d56f1a869\" y=\"144.158961\"/>\n     <use style=\"fill:#1f77b4;stroke:#1f77b4;\" x=\"65.840255\" xlink:href=\"#m1d56f1a869\" y=\"130.039481\"/>\n     <use style=\"fill:#1f77b4;stroke:#1f77b4;\" x=\"75.277887\" xlink:href=\"#m1d56f1a869\" y=\"139.452468\"/>\n     <use style=\"fill:#1f77b4;stroke:#1f77b4;\" x=\"93.366682\" xlink:href=\"#m1d56f1a869\" y=\"132.392727\"/>\n     <use style=\"fill:#1f77b4;stroke:#1f77b4;\" x=\"142.127781\" xlink:href=\"#m1d56f1a869\" y=\"72.384935\"/>\n     <use style=\"fill:#1f77b4;stroke:#1f77b4;\" x=\"273.468162\" xlink:href=\"#m1d56f1a869\" y=\"104.153766\"/>\n     <use style=\"fill:#1f77b4;stroke:#1f77b4;\" x=\"109.096069\" xlink:href=\"#m1d56f1a869\" y=\"17.083636\"/>\n     <use style=\"fill:#1f77b4;stroke:#1f77b4;\" x=\"202.685921\" xlink:href=\"#m1d56f1a869\" y=\"47.675844\"/>\n     <use style=\"fill:#1f77b4;stroke:#1f77b4;\" x=\"80.783173\" xlink:href=\"#m1d56f1a869\" y=\"153.571948\"/>\n     <use style=\"fill:#1f77b4;stroke:#1f77b4;\" x=\"80.783173\" xlink:href=\"#m1d56f1a869\" y=\"133.569351\"/>\n     <use style=\"fill:#1f77b4;stroke:#1f77b4;\" x=\"65.053786\" xlink:href=\"#m1d56f1a869\" y=\"82.974545\"/>\n     <use style=\"fill:#1f77b4;stroke:#1f77b4;\" x=\"69.772602\" xlink:href=\"#m1d56f1a869\" y=\"135.922597\"/>\n     <use style=\"fill:#1f77b4;stroke:#1f77b4;\" x=\"116.960762\" xlink:href=\"#m1d56f1a869\" y=\"120.626494\"/>\n     <use style=\"fill:#1f77b4;stroke:#1f77b4;\" x=\"134.263088\" xlink:href=\"#m1d56f1a869\" y=\"175.927792\"/>\n     <use style=\"fill:#1f77b4;stroke:#1f77b4;\" x=\"134.263088\" xlink:href=\"#m1d56f1a869\" y=\"157.101818\"/>\n     <use style=\"fill:#1f77b4;stroke:#1f77b4;\" x=\"116.960762\" xlink:href=\"#m1d56f1a869\" y=\"153.571948\"/>\n     <use style=\"fill:#1f77b4;stroke:#1f77b4;\" x=\"75.277887\" xlink:href=\"#m1d56f1a869\" y=\"135.922597\"/>\n     <use style=\"fill:#1f77b4;stroke:#1f77b4;\" x=\"68.199663\" xlink:href=\"#m1d56f1a869\" y=\"87.681039\"/>\n     <use style=\"fill:#1f77b4;stroke:#1f77b4;\" x=\"75.277887\" xlink:href=\"#m1d56f1a869\" y=\"126.50961\"/>\n     <use style=\"fill:#1f77b4;stroke:#1f77b4;\" x=\"65.840255\" xlink:href=\"#m1d56f1a869\" y=\"115.92\"/>\n     <use style=\"fill:#1f77b4;stroke:#1f77b4;\" x=\"116.960762\" xlink:href=\"#m1d56f1a869\" y=\"114.743377\"/>\n     <use style=\"fill:#1f77b4;stroke:#1f77b4;\" x=\"108.3096\" xlink:href=\"#m1d56f1a869\" y=\"95.917403\"/>\n     <use style=\"fill:#1f77b4;stroke:#1f77b4;\" x=\"116.960762\" xlink:href=\"#m1d56f1a869\" y=\"72.384935\"/>\n     <use style=\"fill:#1f77b4;stroke:#1f77b4;\" x=\"175.159494\" xlink:href=\"#m1d56f1a869\" y=\"88.857662\"/>\n     <use style=\"fill:#1f77b4;stroke:#1f77b4;\" x=\"74.491418\" xlink:href=\"#m1d56f1a869\" y=\"122.97974\"/>\n     <use style=\"fill:#1f77b4;stroke:#1f77b4;\" x=\"103.590784\" xlink:href=\"#m1d56f1a869\" y=\"126.50961\"/>\n     <use style=\"fill:#1f77b4;stroke:#1f77b4;\" x=\"92.580213\" xlink:href=\"#m1d56f1a869\" y=\"102.977143\"/>\n     <use style=\"fill:#1f77b4;stroke:#1f77b4;\" x=\"91.793743\" xlink:href=\"#m1d56f1a869\" y=\"132.392727\"/>\n     <use style=\"fill:#1f77b4;stroke:#1f77b4;\" x=\"83.142581\" xlink:href=\"#m1d56f1a869\" y=\"130.039481\"/>\n     <use style=\"fill:#1f77b4;stroke:#1f77b4;\" x=\"65.840255\" xlink:href=\"#m1d56f1a869\" y=\"98.270649\"/>\n     <use style=\"fill:#1f77b4;stroke:#1f77b4;\" x=\"120.893109\" xlink:href=\"#m1d56f1a869\" y=\"139.452468\"/>\n     <use style=\"fill:#1f77b4;stroke:#1f77b4;\" x=\"65.053786\" xlink:href=\"#m1d56f1a869\" y=\"82.974545\"/>\n     <use style=\"fill:#1f77b4;stroke:#1f77b4;\" x=\"68.986132\" xlink:href=\"#m1d56f1a869\" y=\"53.558961\"/>\n     <use style=\"fill:#1f77b4;stroke:#1f77b4;\" x=\"68.986132\" xlink:href=\"#m1d56f1a869\" y=\"30.026494\"/>\n     <use style=\"fill:#1f77b4;stroke:#1f77b4;\" x=\"93.366682\" xlink:href=\"#m1d56f1a869\" y=\"74.738182\"/>\n     <use style=\"fill:#1f77b4;stroke:#1f77b4;\" x=\"113.028416\" xlink:href=\"#m1d56f1a869\" y=\"52.382338\"/>\n     <use style=\"fill:#1f77b4;stroke:#1f77b4;\" x=\"69.772602\" xlink:href=\"#m1d56f1a869\" y=\"146.512208\"/>\n     <use style=\"fill:#1f77b4;stroke:#1f77b4;\" x=\"65.053786\" xlink:href=\"#m1d56f1a869\" y=\"105.33039\"/>\n     <use style=\"fill:#1f77b4;stroke:#1f77b4;\" x=\"74.491418\" xlink:href=\"#m1d56f1a869\" y=\"97.094026\"/>\n     <use style=\"fill:#1f77b4;stroke:#1f77b4;\" x=\"68.199663\" xlink:href=\"#m1d56f1a869\" y=\"128.862857\"/>\n     <use style=\"fill:#1f77b4;stroke:#1f77b4;\" x=\"130.330741\" xlink:href=\"#m1d56f1a869\" y=\"174.751169\"/>\n     <use style=\"fill:#1f77b4;stroke:#1f77b4;\" x=\"53.256746\" xlink:href=\"#m1d56f1a869\" y=\"161.808312\"/>\n     <use style=\"fill:#1f77b4;stroke:#1f77b4;\" x=\"94.153151\" xlink:href=\"#m1d56f1a869\" y=\"131.216104\"/>\n     <use style=\"fill:#1f77b4;stroke:#1f77b4;\" x=\"108.3096\" xlink:href=\"#m1d56f1a869\" y=\"140.629091\"/>\n     <use style=\"fill:#1f77b4;stroke:#1f77b4;\" x=\"82.356111\" xlink:href=\"#m1d56f1a869\" y=\"108.86026\"/>\n     <use style=\"fill:#1f77b4;stroke:#1f77b4;\" x=\"104.377253\" xlink:href=\"#m1d56f1a869\" y=\"124.156364\"/>\n     <use style=\"fill:#1f77b4;stroke:#1f77b4;\" x=\"116.960762\" xlink:href=\"#m1d56f1a869\" y=\"115.92\"/>\n     <use style=\"fill:#1f77b4;stroke:#1f77b4;\" x=\"120.893109\" xlink:href=\"#m1d56f1a869\" y=\"139.452468\"/>\n     <use style=\"fill:#1f77b4;stroke:#1f77b4;\" x=\"134.263088\" xlink:href=\"#m1d56f1a869\" y=\"160.631688\"/>\n     <use style=\"fill:#1f77b4;stroke:#1f77b4;\" x=\"104.377253\" xlink:href=\"#m1d56f1a869\" y=\"157.101818\"/>\n     <use style=\"fill:#1f77b4;stroke:#1f77b4;\" x=\"60.33497\" xlink:href=\"#m1d56f1a869\" y=\"110.036883\"/>\n     <use style=\"fill:#1f77b4;stroke:#1f77b4;\" x=\"65.840255\" xlink:href=\"#m1d56f1a869\" y=\"115.92\"/>\n     <use style=\"fill:#1f77b4;stroke:#1f77b4;\" x=\"61.907908\" xlink:href=\"#m1d56f1a869\" y=\"119.44987\"/>\n     <use style=\"fill:#1f77b4;stroke:#1f77b4;\" x=\"74.491418\" xlink:href=\"#m1d56f1a869\" y=\"99.447273\"/>\n     <use style=\"fill:#1f77b4;stroke:#1f77b4;\" x=\"65.053786\" xlink:href=\"#m1d56f1a869\" y=\"80.621299\"/>\n     <use style=\"fill:#1f77b4;stroke:#1f77b4;\" x=\"68.199663\" xlink:href=\"#m1d56f1a869\" y=\"105.33039\"/>\n     <use style=\"fill:#1f77b4;stroke:#1f77b4;\" x=\"69.772602\" xlink:href=\"#m1d56f1a869\" y=\"120.626494\"/>\n     <use style=\"fill:#1f77b4;stroke:#1f77b4;\" x=\"80.783173\" xlink:href=\"#m1d56f1a869\" y=\"133.569351\"/>\n     <use style=\"fill:#1f77b4;stroke:#1f77b4;\" x=\"75.277887\" xlink:href=\"#m1d56f1a869\" y=\"118.273247\"/>\n     <use style=\"fill:#1f77b4;stroke:#1f77b4;\" x=\"75.277887\" xlink:href=\"#m1d56f1a869\" y=\"65.325195\"/>\n     <use style=\"fill:#1f77b4;stroke:#1f77b4;\" x=\"80.783173\" xlink:href=\"#m1d56f1a869\" y=\"141.805714\"/>\n     <use style=\"fill:#1f77b4;stroke:#1f77b4;\" x=\"76.850826\" xlink:href=\"#m1d56f1a869\" y=\"122.97974\"/>\n     <use style=\"fill:#1f77b4;stroke:#1f77b4;\" x=\"82.356111\" xlink:href=\"#m1d56f1a869\" y=\"139.452468\"/>\n     <use style=\"fill:#1f77b4;stroke:#1f77b4;\" x=\"83.142581\" xlink:href=\"#m1d56f1a869\" y=\"111.213506\"/>\n     <use style=\"fill:#1f77b4;stroke:#1f77b4;\" x=\"91.793743\" xlink:href=\"#m1d56f1a869\" y=\"134.745974\"/>\n     <use style=\"fill:#1f77b4;stroke:#1f77b4;\" x=\"92.580213\" xlink:href=\"#m1d56f1a869\" y=\"93.564156\"/>\n     <use style=\"fill:#1f77b4;stroke:#1f77b4;\" x=\"109.096069\" xlink:href=\"#m1d56f1a869\" y=\"68.855065\"/>\n     <use style=\"fill:#1f77b4;stroke:#1f77b4;\" x=\"112.241946\" xlink:href=\"#m1d56f1a869\" y=\"78.268052\"/>\n     <use style=\"fill:#1f77b4;stroke:#1f77b4;\" x=\"130.330741\" xlink:href=\"#m1d56f1a869\" y=\"160.631688\"/>\n     <use style=\"fill:#1f77b4;stroke:#1f77b4;\" x=\"113.028416\" xlink:href=\"#m1d56f1a869\" y=\"146.512208\"/>\n     <use style=\"fill:#1f77b4;stroke:#1f77b4;\" x=\"179.87831\" xlink:href=\"#m1d56f1a869\" y=\"122.97974\"/>\n     <use style=\"fill:#1f77b4;stroke:#1f77b4;\" x=\"273.468162\" xlink:href=\"#m1d56f1a869\" y=\"85.327792\"/>\n     <use style=\"fill:#1f77b4;stroke:#1f77b4;\" x=\"155.49776\" xlink:href=\"#m1d56f1a869\" y=\"107.683636\"/>\n     <use style=\"fill:#1f77b4;stroke:#1f77b4;\" x=\"175.159494\" xlink:href=\"#m1d56f1a869\" y=\"113.566753\"/>\n     <use style=\"fill:#1f77b4;stroke:#1f77b4;\" x=\"86.288458\" xlink:href=\"#m1d56f1a869\" y=\"78.268052\"/>\n     <use style=\"fill:#1f77b4;stroke:#1f77b4;\" x=\"86.288458\" xlink:href=\"#m1d56f1a869\" y=\"90.034286\"/>\n     <use style=\"fill:#1f77b4;stroke:#1f77b4;\" x=\"86.288458\" xlink:href=\"#m1d56f1a869\" y=\"97.094026\"/>\n     <use style=\"fill:#1f77b4;stroke:#1f77b4;\" x=\"86.288458\" xlink:href=\"#m1d56f1a869\" y=\"118.273247\"/>\n     <use style=\"fill:#1f77b4;stroke:#1f77b4;\" x=\"104.377253\" xlink:href=\"#m1d56f1a869\" y=\"120.626494\"/>\n     <use style=\"fill:#1f77b4;stroke:#1f77b4;\" x=\"116.960762\" xlink:href=\"#m1d56f1a869\" y=\"97.094026\"/>\n     <use style=\"fill:#1f77b4;stroke:#1f77b4;\" x=\"108.3096\" xlink:href=\"#m1d56f1a869\" y=\"115.92\"/>\n     <use style=\"fill:#1f77b4;stroke:#1f77b4;\" x=\"116.960762\" xlink:href=\"#m1d56f1a869\" y=\"67.678442\"/>\n     <use style=\"fill:#1f77b4;stroke:#1f77b4;\" x=\"80.783173\" xlink:href=\"#m1d56f1a869\" y=\"128.862857\"/>\n     <use style=\"fill:#1f77b4;stroke:#1f77b4;\" x=\"69.772602\" xlink:href=\"#m1d56f1a869\" y=\"94.740779\"/>\n     <use style=\"fill:#1f77b4;stroke:#1f77b4;\" x=\"69.772602\" xlink:href=\"#m1d56f1a869\" y=\"101.800519\"/>\n     <use style=\"fill:#1f77b4;stroke:#1f77b4;\" x=\"80.783173\" xlink:href=\"#m1d56f1a869\" y=\"135.922597\"/>\n     <use style=\"fill:#1f77b4;stroke:#1f77b4;\" x=\"75.277887\" xlink:href=\"#m1d56f1a869\" y=\"105.33039\"/>\n     <use style=\"fill:#1f77b4;stroke:#1f77b4;\" x=\"92.580213\" xlink:href=\"#m1d56f1a869\" y=\"138.275844\"/>\n     <use style=\"fill:#1f77b4;stroke:#1f77b4;\" x=\"82.356111\" xlink:href=\"#m1d56f1a869\" y=\"138.275844\"/>\n     <use style=\"fill:#1f77b4;stroke:#1f77b4;\" x=\"83.142581\" xlink:href=\"#m1d56f1a869\" y=\"110.036883\"/>\n     <use style=\"fill:#1f77b4;stroke:#1f77b4;\" x=\"69.772602\" xlink:href=\"#m1d56f1a869\" y=\"132.392727\"/>\n     <use style=\"fill:#1f77b4;stroke:#1f77b4;\" x=\"69.772602\" xlink:href=\"#m1d56f1a869\" y=\"124.156364\"/>\n     <use style=\"fill:#1f77b4;stroke:#1f77b4;\" x=\"69.772602\" xlink:href=\"#m1d56f1a869\" y=\"118.273247\"/>\n     <use style=\"fill:#1f77b4;stroke:#1f77b4;\" x=\"140.554843\" xlink:href=\"#m1d56f1a869\" y=\"115.92\"/>\n     <use style=\"fill:#1f77b4;stroke:#1f77b4;\" x=\"204.25886\" xlink:href=\"#m1d56f1a869\" y=\"108.86026\"/>\n     <use style=\"fill:#1f77b4;stroke:#1f77b4;\" x=\"120.893109\" xlink:href=\"#m1d56f1a869\" y=\"138.275844\"/>\n     <use style=\"fill:#1f77b4;stroke:#1f77b4;\" x=\"180.664779\" xlink:href=\"#m1d56f1a869\" y=\"135.922597\"/>\n     <use style=\"fill:#1f77b4;stroke:#1f77b4;\" x=\"111.455477\" xlink:href=\"#m1d56f1a869\" y=\"145.335584\"/>\n     <use style=\"fill:#1f77b4;stroke:#1f77b4;\" x=\"104.377253\" xlink:href=\"#m1d56f1a869\" y=\"155.925195\"/>\n     <use style=\"fill:#1f77b4;stroke:#1f77b4;\" x=\"116.960762\" xlink:href=\"#m1d56f1a869\" y=\"105.33039\"/>\n     <use style=\"fill:#1f77b4;stroke:#1f77b4;\" x=\"108.3096\" xlink:href=\"#m1d56f1a869\" y=\"125.332987\"/>\n     <use style=\"fill:#1f77b4;stroke:#1f77b4;\" x=\"74.491418\" xlink:href=\"#m1d56f1a869\" y=\"19.436883\"/>\n     <use style=\"fill:#1f77b4;stroke:#1f77b4;\" x=\"104.377253\" xlink:href=\"#m1d56f1a869\" y=\"172.397922\"/>\n     <use style=\"fill:#1f77b4;stroke:#1f77b4;\" x=\"92.580213\" xlink:href=\"#m1d56f1a869\" y=\"90.034286\"/>\n     <use style=\"fill:#1f77b4;stroke:#1f77b4;\" x=\"91.793743\" xlink:href=\"#m1d56f1a869\" y=\"80.621299\"/>\n    </g>\n   </g>\n   <g id=\"matplotlib.axis_1\">\n    <g id=\"xtick_1\">\n     <g id=\"line2d_1\">\n      <defs>\n       <path d=\"M 0 0 \nL 0 3.5 \n\" id=\"m24d9c6e9d0\" style=\"stroke:#000000;stroke-width:0.8;\"/>\n      </defs>\n      <g>\n       <use style=\"stroke:#000000;stroke-width:0.8;\" x=\"37.527359\" xlink:href=\"#m24d9c6e9d0\" y=\"224.64\"/>\n      </g>\n     </g>\n     <g id=\"text_1\">\n      <!-- 50 -->\n      <defs>\n       <path d=\"M 10.796875 72.90625 \nL 49.515625 72.90625 \nL 49.515625 64.59375 \nL 19.828125 64.59375 \nL 19.828125 46.734375 \nQ 21.96875 47.46875 24.109375 47.828125 \nQ 26.265625 48.1875 28.421875 48.1875 \nQ 40.625 48.1875 47.75 41.5 \nQ 54.890625 34.8125 54.890625 23.390625 \nQ 54.890625 11.625 47.5625 5.09375 \nQ 40.234375 -1.421875 26.90625 -1.421875 \nQ 22.3125 -1.421875 17.546875 -0.640625 \nQ 12.796875 0.140625 7.71875 1.703125 \nL 7.71875 11.625 \nQ 12.109375 9.234375 16.796875 8.0625 \nQ 21.484375 6.890625 26.703125 6.890625 \nQ 35.15625 6.890625 40.078125 11.328125 \nQ 45.015625 15.765625 45.015625 23.390625 \nQ 45.015625 31 40.078125 35.4375 \nQ 35.15625 39.890625 26.703125 39.890625 \nQ 22.75 39.890625 18.8125 39.015625 \nQ 14.890625 38.140625 10.796875 36.28125 \nz\n\" id=\"DejaVuSans-53\"/>\n       <path d=\"M 31.78125 66.40625 \nQ 24.171875 66.40625 20.328125 58.90625 \nQ 16.5 51.421875 16.5 36.375 \nQ 16.5 21.390625 20.328125 13.890625 \nQ 24.171875 6.390625 31.78125 6.390625 \nQ 39.453125 6.390625 43.28125 13.890625 \nQ 47.125 21.390625 47.125 36.375 \nQ 47.125 51.421875 43.28125 58.90625 \nQ 39.453125 66.40625 31.78125 66.40625 \nz\nM 31.78125 74.21875 \nQ 44.046875 74.21875 50.515625 64.515625 \nQ 56.984375 54.828125 56.984375 36.375 \nQ 56.984375 17.96875 50.515625 8.265625 \nQ 44.046875 -1.421875 31.78125 -1.421875 \nQ 19.53125 -1.421875 13.0625 8.265625 \nQ 6.59375 17.96875 6.59375 36.375 \nQ 6.59375 54.828125 13.0625 64.515625 \nQ 19.53125 74.21875 31.78125 74.21875 \nz\n\" id=\"DejaVuSans-48\"/>\n      </defs>\n      <g transform=\"translate(31.164859 239.238438)scale(0.1 -0.1)\">\n       <use xlink:href=\"#DejaVuSans-53\"/>\n       <use x=\"63.623047\" xlink:href=\"#DejaVuSans-48\"/>\n      </g>\n     </g>\n    </g>\n    <g id=\"xtick_2\">\n     <g id=\"line2d_2\">\n      <g>\n       <use style=\"stroke:#000000;stroke-width:0.8;\" x=\"76.850826\" xlink:href=\"#m24d9c6e9d0\" y=\"224.64\"/>\n      </g>\n     </g>\n     <g id=\"text_2\">\n      <!-- 100 -->\n      <defs>\n       <path d=\"M 12.40625 8.296875 \nL 28.515625 8.296875 \nL 28.515625 63.921875 \nL 10.984375 60.40625 \nL 10.984375 69.390625 \nL 28.421875 72.90625 \nL 38.28125 72.90625 \nL 38.28125 8.296875 \nL 54.390625 8.296875 \nL 54.390625 0 \nL 12.40625 0 \nz\n\" id=\"DejaVuSans-49\"/>\n      </defs>\n      <g transform=\"translate(67.307076 239.238438)scale(0.1 -0.1)\">\n       <use xlink:href=\"#DejaVuSans-49\"/>\n       <use x=\"63.623047\" xlink:href=\"#DejaVuSans-48\"/>\n       <use x=\"127.246094\" xlink:href=\"#DejaVuSans-48\"/>\n      </g>\n     </g>\n    </g>\n    <g id=\"xtick_3\">\n     <g id=\"line2d_3\">\n      <g>\n       <use style=\"stroke:#000000;stroke-width:0.8;\" x=\"116.174293\" xlink:href=\"#m24d9c6e9d0\" y=\"224.64\"/>\n      </g>\n     </g>\n     <g id=\"text_3\">\n      <!-- 150 -->\n      <g transform=\"translate(106.630543 239.238438)scale(0.1 -0.1)\">\n       <use xlink:href=\"#DejaVuSans-49\"/>\n       <use x=\"63.623047\" xlink:href=\"#DejaVuSans-53\"/>\n       <use x=\"127.246094\" xlink:href=\"#DejaVuSans-48\"/>\n      </g>\n     </g>\n    </g>\n    <g id=\"xtick_4\">\n     <g id=\"line2d_4\">\n      <g>\n       <use style=\"stroke:#000000;stroke-width:0.8;\" x=\"155.49776\" xlink:href=\"#m24d9c6e9d0\" y=\"224.64\"/>\n      </g>\n     </g>\n     <g id=\"text_4\">\n      <!-- 200 -->\n      <defs>\n       <path d=\"M 19.1875 8.296875 \nL 53.609375 8.296875 \nL 53.609375 0 \nL 7.328125 0 \nL 7.328125 8.296875 \nQ 12.9375 14.109375 22.625 23.890625 \nQ 32.328125 33.6875 34.8125 36.53125 \nQ 39.546875 41.84375 41.421875 45.53125 \nQ 43.3125 49.21875 43.3125 52.78125 \nQ 43.3125 58.59375 39.234375 62.25 \nQ 35.15625 65.921875 28.609375 65.921875 \nQ 23.96875 65.921875 18.8125 64.3125 \nQ 13.671875 62.703125 7.8125 59.421875 \nL 7.8125 69.390625 \nQ 13.765625 71.78125 18.9375 73 \nQ 24.125 74.21875 28.421875 74.21875 \nQ 39.75 74.21875 46.484375 68.546875 \nQ 53.21875 62.890625 53.21875 53.421875 \nQ 53.21875 48.921875 51.53125 44.890625 \nQ 49.859375 40.875 45.40625 35.40625 \nQ 44.1875 33.984375 37.640625 27.21875 \nQ 31.109375 20.453125 19.1875 8.296875 \nz\n\" id=\"DejaVuSans-50\"/>\n      </defs>\n      <g transform=\"translate(145.95401 239.238438)scale(0.1 -0.1)\">\n       <use xlink:href=\"#DejaVuSans-50\"/>\n       <use x=\"63.623047\" xlink:href=\"#DejaVuSans-48\"/>\n       <use x=\"127.246094\" xlink:href=\"#DejaVuSans-48\"/>\n      </g>\n     </g>\n    </g>\n    <g id=\"xtick_5\">\n     <g id=\"line2d_5\">\n      <g>\n       <use style=\"stroke:#000000;stroke-width:0.8;\" x=\"194.821228\" xlink:href=\"#m24d9c6e9d0\" y=\"224.64\"/>\n      </g>\n     </g>\n     <g id=\"text_5\">\n      <!-- 250 -->\n      <g transform=\"translate(185.277478 239.238438)scale(0.1 -0.1)\">\n       <use xlink:href=\"#DejaVuSans-50\"/>\n       <use x=\"63.623047\" xlink:href=\"#DejaVuSans-53\"/>\n       <use x=\"127.246094\" xlink:href=\"#DejaVuSans-48\"/>\n      </g>\n     </g>\n    </g>\n    <g id=\"xtick_6\">\n     <g id=\"line2d_6\">\n      <g>\n       <use style=\"stroke:#000000;stroke-width:0.8;\" x=\"234.144695\" xlink:href=\"#m24d9c6e9d0\" y=\"224.64\"/>\n      </g>\n     </g>\n     <g id=\"text_6\">\n      <!-- 300 -->\n      <defs>\n       <path d=\"M 40.578125 39.3125 \nQ 47.65625 37.796875 51.625 33 \nQ 55.609375 28.21875 55.609375 21.1875 \nQ 55.609375 10.40625 48.1875 4.484375 \nQ 40.765625 -1.421875 27.09375 -1.421875 \nQ 22.515625 -1.421875 17.65625 -0.515625 \nQ 12.796875 0.390625 7.625 2.203125 \nL 7.625 11.71875 \nQ 11.71875 9.328125 16.59375 8.109375 \nQ 21.484375 6.890625 26.8125 6.890625 \nQ 36.078125 6.890625 40.9375 10.546875 \nQ 45.796875 14.203125 45.796875 21.1875 \nQ 45.796875 27.640625 41.28125 31.265625 \nQ 36.765625 34.90625 28.71875 34.90625 \nL 20.21875 34.90625 \nL 20.21875 43.015625 \nL 29.109375 43.015625 \nQ 36.375 43.015625 40.234375 45.921875 \nQ 44.09375 48.828125 44.09375 54.296875 \nQ 44.09375 59.90625 40.109375 62.90625 \nQ 36.140625 65.921875 28.71875 65.921875 \nQ 24.65625 65.921875 20.015625 65.03125 \nQ 15.375 64.15625 9.8125 62.3125 \nL 9.8125 71.09375 \nQ 15.4375 72.65625 20.34375 73.4375 \nQ 25.25 74.21875 29.59375 74.21875 \nQ 40.828125 74.21875 47.359375 69.109375 \nQ 53.90625 64.015625 53.90625 55.328125 \nQ 53.90625 49.265625 50.4375 45.09375 \nQ 46.96875 40.921875 40.578125 39.3125 \nz\n\" id=\"DejaVuSans-51\"/>\n      </defs>\n      <g transform=\"translate(224.600945 239.238438)scale(0.1 -0.1)\">\n       <use xlink:href=\"#DejaVuSans-51\"/>\n       <use x=\"63.623047\" xlink:href=\"#DejaVuSans-48\"/>\n       <use x=\"127.246094\" xlink:href=\"#DejaVuSans-48\"/>\n      </g>\n     </g>\n    </g>\n    <g id=\"xtick_7\">\n     <g id=\"line2d_7\">\n      <g>\n       <use style=\"stroke:#000000;stroke-width:0.8;\" x=\"273.468162\" xlink:href=\"#m24d9c6e9d0\" y=\"224.64\"/>\n      </g>\n     </g>\n     <g id=\"text_7\">\n      <!-- 350 -->\n      <g transform=\"translate(263.924412 239.238438)scale(0.1 -0.1)\">\n       <use xlink:href=\"#DejaVuSans-51\"/>\n       <use x=\"63.623047\" xlink:href=\"#DejaVuSans-53\"/>\n       <use x=\"127.246094\" xlink:href=\"#DejaVuSans-48\"/>\n      </g>\n     </g>\n    </g>\n    <g id=\"xtick_8\">\n     <g id=\"line2d_8\">\n      <g>\n       <use style=\"stroke:#000000;stroke-width:0.8;\" x=\"312.791629\" xlink:href=\"#m24d9c6e9d0\" y=\"224.64\"/>\n      </g>\n     </g>\n     <g id=\"text_8\">\n      <!-- 400 -->\n      <defs>\n       <path d=\"M 37.796875 64.3125 \nL 12.890625 25.390625 \nL 37.796875 25.390625 \nz\nM 35.203125 72.90625 \nL 47.609375 72.90625 \nL 47.609375 25.390625 \nL 58.015625 25.390625 \nL 58.015625 17.1875 \nL 47.609375 17.1875 \nL 47.609375 0 \nL 37.796875 0 \nL 37.796875 17.1875 \nL 4.890625 17.1875 \nL 4.890625 26.703125 \nz\n\" id=\"DejaVuSans-52\"/>\n      </defs>\n      <g transform=\"translate(303.247879 239.238438)scale(0.1 -0.1)\">\n       <use xlink:href=\"#DejaVuSans-52\"/>\n       <use x=\"63.623047\" xlink:href=\"#DejaVuSans-48\"/>\n       <use x=\"127.246094\" xlink:href=\"#DejaVuSans-48\"/>\n      </g>\n     </g>\n    </g>\n    <g id=\"xtick_9\">\n     <g id=\"line2d_9\">\n      <g>\n       <use style=\"stroke:#000000;stroke-width:0.8;\" x=\"352.115096\" xlink:href=\"#m24d9c6e9d0\" y=\"224.64\"/>\n      </g>\n     </g>\n     <g id=\"text_9\">\n      <!-- 450 -->\n      <g transform=\"translate(342.571346 239.238438)scale(0.1 -0.1)\">\n       <use xlink:href=\"#DejaVuSans-52\"/>\n       <use x=\"63.623047\" xlink:href=\"#DejaVuSans-53\"/>\n       <use x=\"127.246094\" xlink:href=\"#DejaVuSans-48\"/>\n      </g>\n     </g>\n    </g>\n   </g>\n   <g id=\"matplotlib.axis_2\">\n    <g id=\"ytick_1\">\n     <g id=\"line2d_10\">\n      <defs>\n       <path d=\"M 0 0 \nL -3.5 0 \n\" id=\"m5112abbebc\" style=\"stroke:#000000;stroke-width:0.8;\"/>\n      </defs>\n      <g>\n       <use style=\"stroke:#000000;stroke-width:0.8;\" x=\"36.465625\" xlink:href=\"#m5112abbebc\" y=\"220.639481\"/>\n      </g>\n     </g>\n     <g id=\"text_10\">\n      <!-- 7.5 -->\n      <defs>\n       <path d=\"M 8.203125 72.90625 \nL 55.078125 72.90625 \nL 55.078125 68.703125 \nL 28.609375 0 \nL 18.3125 0 \nL 43.21875 64.59375 \nL 8.203125 64.59375 \nz\n\" id=\"DejaVuSans-55\"/>\n       <path d=\"M 10.6875 12.40625 \nL 21 12.40625 \nL 21 0 \nL 10.6875 0 \nz\n\" id=\"DejaVuSans-46\"/>\n      </defs>\n      <g transform=\"translate(13.5625 224.438699)scale(0.1 -0.1)\">\n       <use xlink:href=\"#DejaVuSans-55\"/>\n       <use x=\"63.623047\" xlink:href=\"#DejaVuSans-46\"/>\n       <use x=\"95.410156\" xlink:href=\"#DejaVuSans-53\"/>\n      </g>\n     </g>\n    </g>\n    <g id=\"ytick_2\">\n     <g id=\"line2d_11\">\n      <g>\n       <use style=\"stroke:#000000;stroke-width:0.8;\" x=\"36.465625\" xlink:href=\"#m5112abbebc\" y=\"191.223896\"/>\n      </g>\n     </g>\n     <g id=\"text_11\">\n      <!-- 10.0 -->\n      <g transform=\"translate(7.2 195.023115)scale(0.1 -0.1)\">\n       <use xlink:href=\"#DejaVuSans-49\"/>\n       <use x=\"63.623047\" xlink:href=\"#DejaVuSans-48\"/>\n       <use x=\"127.246094\" xlink:href=\"#DejaVuSans-46\"/>\n       <use x=\"159.033203\" xlink:href=\"#DejaVuSans-48\"/>\n      </g>\n     </g>\n    </g>\n    <g id=\"ytick_3\">\n     <g id=\"line2d_12\">\n      <g>\n       <use style=\"stroke:#000000;stroke-width:0.8;\" x=\"36.465625\" xlink:href=\"#m5112abbebc\" y=\"161.808312\"/>\n      </g>\n     </g>\n     <g id=\"text_12\">\n      <!-- 12.5 -->\n      <g transform=\"translate(7.2 165.60753)scale(0.1 -0.1)\">\n       <use xlink:href=\"#DejaVuSans-49\"/>\n       <use x=\"63.623047\" xlink:href=\"#DejaVuSans-50\"/>\n       <use x=\"127.246094\" xlink:href=\"#DejaVuSans-46\"/>\n       <use x=\"159.033203\" xlink:href=\"#DejaVuSans-53\"/>\n      </g>\n     </g>\n    </g>\n    <g id=\"ytick_4\">\n     <g id=\"line2d_13\">\n      <g>\n       <use style=\"stroke:#000000;stroke-width:0.8;\" x=\"36.465625\" xlink:href=\"#m5112abbebc\" y=\"132.392727\"/>\n      </g>\n     </g>\n     <g id=\"text_13\">\n      <!-- 15.0 -->\n      <g transform=\"translate(7.2 136.191946)scale(0.1 -0.1)\">\n       <use xlink:href=\"#DejaVuSans-49\"/>\n       <use x=\"63.623047\" xlink:href=\"#DejaVuSans-53\"/>\n       <use x=\"127.246094\" xlink:href=\"#DejaVuSans-46\"/>\n       <use x=\"159.033203\" xlink:href=\"#DejaVuSans-48\"/>\n      </g>\n     </g>\n    </g>\n    <g id=\"ytick_5\">\n     <g id=\"line2d_14\">\n      <g>\n       <use style=\"stroke:#000000;stroke-width:0.8;\" x=\"36.465625\" xlink:href=\"#m5112abbebc\" y=\"102.977143\"/>\n      </g>\n     </g>\n     <g id=\"text_14\">\n      <!-- 17.5 -->\n      <g transform=\"translate(7.2 106.776362)scale(0.1 -0.1)\">\n       <use xlink:href=\"#DejaVuSans-49\"/>\n       <use x=\"63.623047\" xlink:href=\"#DejaVuSans-55\"/>\n       <use x=\"127.246094\" xlink:href=\"#DejaVuSans-46\"/>\n       <use x=\"159.033203\" xlink:href=\"#DejaVuSans-53\"/>\n      </g>\n     </g>\n    </g>\n    <g id=\"ytick_6\">\n     <g id=\"line2d_15\">\n      <g>\n       <use style=\"stroke:#000000;stroke-width:0.8;\" x=\"36.465625\" xlink:href=\"#m5112abbebc\" y=\"73.561558\"/>\n      </g>\n     </g>\n     <g id=\"text_15\">\n      <!-- 20.0 -->\n      <g transform=\"translate(7.2 77.360777)scale(0.1 -0.1)\">\n       <use xlink:href=\"#DejaVuSans-50\"/>\n       <use x=\"63.623047\" xlink:href=\"#DejaVuSans-48\"/>\n       <use x=\"127.246094\" xlink:href=\"#DejaVuSans-46\"/>\n       <use x=\"159.033203\" xlink:href=\"#DejaVuSans-48\"/>\n      </g>\n     </g>\n    </g>\n    <g id=\"ytick_7\">\n     <g id=\"line2d_16\">\n      <g>\n       <use style=\"stroke:#000000;stroke-width:0.8;\" x=\"36.465625\" xlink:href=\"#m5112abbebc\" y=\"44.145974\"/>\n      </g>\n     </g>\n     <g id=\"text_16\">\n      <!-- 22.5 -->\n      <g transform=\"translate(7.2 47.945193)scale(0.1 -0.1)\">\n       <use xlink:href=\"#DejaVuSans-50\"/>\n       <use x=\"63.623047\" xlink:href=\"#DejaVuSans-50\"/>\n       <use x=\"127.246094\" xlink:href=\"#DejaVuSans-46\"/>\n       <use x=\"159.033203\" xlink:href=\"#DejaVuSans-53\"/>\n      </g>\n     </g>\n    </g>\n    <g id=\"ytick_8\">\n     <g id=\"line2d_17\">\n      <g>\n       <use style=\"stroke:#000000;stroke-width:0.8;\" x=\"36.465625\" xlink:href=\"#m5112abbebc\" y=\"14.73039\"/>\n      </g>\n     </g>\n     <g id=\"text_17\">\n      <!-- 25.0 -->\n      <g transform=\"translate(7.2 18.529608)scale(0.1 -0.1)\">\n       <use xlink:href=\"#DejaVuSans-50\"/>\n       <use x=\"63.623047\" xlink:href=\"#DejaVuSans-53\"/>\n       <use x=\"127.246094\" xlink:href=\"#DejaVuSans-46\"/>\n       <use x=\"159.033203\" xlink:href=\"#DejaVuSans-48\"/>\n      </g>\n     </g>\n    </g>\n   </g>\n   <g id=\"patch_3\">\n    <path d=\"M 36.465625 224.64 \nL 36.465625 7.2 \n\" style=\"fill:none;stroke:#000000;stroke-linecap:square;stroke-linejoin:miter;stroke-width:0.8;\"/>\n   </g>\n   <g id=\"patch_4\">\n    <path d=\"M 371.265625 224.64 \nL 371.265625 7.2 \n\" style=\"fill:none;stroke:#000000;stroke-linecap:square;stroke-linejoin:miter;stroke-width:0.8;\"/>\n   </g>\n   <g id=\"patch_5\">\n    <path d=\"M 36.465625 224.64 \nL 371.265625 224.64 \n\" style=\"fill:none;stroke:#000000;stroke-linecap:square;stroke-linejoin:miter;stroke-width:0.8;\"/>\n   </g>\n   <g id=\"patch_6\">\n    <path d=\"M 36.465625 7.2 \nL 371.265625 7.2 \n\" style=\"fill:none;stroke:#000000;stroke-linecap:square;stroke-linejoin:miter;stroke-width:0.8;\"/>\n   </g>\n  </g>\n </g>\n <defs>\n  <clipPath id=\"pefc97a09fa\">\n   <rect height=\"217.44\" width=\"334.8\" x=\"36.465625\" y=\"7.2\"/>\n  </clipPath>\n </defs>\n</svg>\n",
      "image/png": "[encoded data removed]"
     },
     "metadata": {
      "needs_background": "light"
     }
    }
   ],
   "source": [
    "plt.scatter(x, y)"
   ]
  },
  {
   "cell_type": "code",
   "execution_count": 197,
   "metadata": {},
   "outputs": [
    {
     "output_type": "execute_result",
     "data": {
      "text/plain": [
       "      mpg  cylinders  displacement horsepower  weight  acceleration  \\\n",
       "244  43.1          4          90.0      48.00  1985.0          21.5   \n",
       "245  36.1          4          98.0      66.00  1800.0          14.4   \n",
       "246  32.8          4          78.0      52.00  1985.0          19.4   \n",
       "247  39.4          4          85.0      70.00  2070.0          18.6   \n",
       "248  36.1          4          91.0      60.00  1800.0          16.4   \n",
       "249  19.9          8         260.0      110.0  3365.0          15.5   \n",
       "250  19.4          8         318.0      140.0  3735.0          13.2   \n",
       "251  20.2          8         302.0      139.0  3570.0          12.8   \n",
       "252  19.2          6         231.0      105.0  3535.0          19.2   \n",
       "253  20.5          6         200.0      95.00  3155.0          18.2   \n",
       "254  20.2          6         200.0      85.00  2965.0          15.8   \n",
       "255  25.1          4         140.0      88.00  2720.0          15.4   \n",
       "256  20.5          6         225.0      100.0  3430.0          17.2   \n",
       "257  19.4          6         232.0      90.00  3210.0          17.2   \n",
       "258  20.6          6         231.0      105.0  3380.0          15.8   \n",
       "259  20.8          6         200.0      85.00  3070.0          16.7   \n",
       "260  18.6          6         225.0      110.0  3620.0          18.7   \n",
       "261  18.1          6         258.0      120.0  3410.0          15.1   \n",
       "262  19.2          8         305.0      145.0  3425.0          13.2   \n",
       "263  17.7          6         231.0      165.0  3445.0          13.4   \n",
       "264  18.1          8         302.0      139.0  3205.0          11.2   \n",
       "265  17.5          8         318.0      140.0  4080.0          13.7   \n",
       "266  30.0          4          98.0      68.00  2155.0          16.5   \n",
       "267  27.5          4         134.0      95.00  2560.0          14.2   \n",
       "268  27.2          4         119.0      97.00  2300.0          14.7   \n",
       "269  30.9          4         105.0      75.00  2230.0          14.5   \n",
       "270  21.1          4         134.0      95.00  2515.0          14.8   \n",
       "271  23.2          4         156.0      105.0  2745.0          16.7   \n",
       "272  23.8          4         151.0      85.00  2855.0          17.6   \n",
       "273  23.9          4         119.0      97.00  2405.0          14.9   \n",
       "274  20.3          5         131.0      103.0  2830.0          15.9   \n",
       "275  17.0          6         163.0      125.0  3140.0          13.6   \n",
       "276  21.6          4         121.0      115.0  2795.0          15.7   \n",
       "277  16.2          6         163.0      133.0  3410.0          15.8   \n",
       "278  31.5          4          89.0      71.00  1990.0          14.9   \n",
       "279  29.5          4          98.0      68.00  2135.0          16.6   \n",
       "\n",
       "     model_year  origin                           car_name  \n",
       "244          78       2    volkswagen rabbit custom diesel  \n",
       "245          78       1                        ford fiesta  \n",
       "246          78       3                   mazda glc deluxe  \n",
       "247          78       3                     datsun b210 gx  \n",
       "248          78       3                   honda civic cvcc  \n",
       "249          78       1  oldsmobile cutlass salon brougham  \n",
       "250          78       1                     dodge diplomat  \n",
       "251          78       1               mercury monarch ghia  \n",
       "252          78       1                 pontiac phoenix lj  \n",
       "253          78       1                   chevrolet malibu  \n",
       "254          78       1               ford fairmont (auto)  \n",
       "255          78       1                ford fairmont (man)  \n",
       "256          78       1                    plymouth volare  \n",
       "257          78       1                        amc concord  \n",
       "258          78       1              buick century special  \n",
       "259          78       1                     mercury zephyr  \n",
       "260          78       1                        dodge aspen  \n",
       "261          78       1                    amc concord d/l  \n",
       "262          78       1       chevrolet monte carlo landau  \n",
       "263          78       1    buick regal sport coupe (turbo)  \n",
       "264          78       1                        ford futura  \n",
       "265          78       1                    dodge magnum xe  \n",
       "266          78       1                 chevrolet chevette  \n",
       "267          78       3                      toyota corona  \n",
       "268          78       3                         datsun 510  \n",
       "269          78       1                         dodge omni  \n",
       "270          78       3          toyota celica gt liftback  \n",
       "271          78       1                   plymouth sapporo  \n",
       "272          78       1             oldsmobile starfire sx  \n",
       "273          78       3                      datsun 200-sx  \n",
       "274          78       2                          audi 5000  \n",
       "275          78       2                        volvo 264gl  \n",
       "276          78       2                         saab 99gle  \n",
       "277          78       2                      peugeot 604sl  \n",
       "278          78       2                volkswagen scirocco  \n",
       "279          78       3                    honda accord lx  "
      ],
      "text/html": "<div>\n<style scoped>\n    .dataframe tbody tr th:only-of-type {\n        vertical-align: middle;\n    }\n\n    .dataframe tbody tr th {\n        vertical-align: top;\n    }\n\n    .dataframe thead th {\n        text-align: right;\n    }\n</style>\n<table border=\"1\" class=\"dataframe\">\n  <thead>\n    <tr style=\"text-align: right;\">\n      <th></th>\n      <th>mpg</th>\n      <th>cylinders</th>\n      <th>displacement</th>\n      <th>horsepower</th>\n      <th>weight</th>\n      <th>acceleration</th>\n      <th>model_year</th>\n      <th>origin</th>\n      <th>car_name</th>\n    </tr>\n  </thead>\n  <tbody>\n    <tr>\n      <th>244</th>\n      <td>43.1</td>\n      <td>4</td>\n      <td>90.0</td>\n      <td>48.00</td>\n      <td>1985.0</td>\n      <td>21.5</td>\n      <td>78</td>\n      <td>2</td>\n      <td>volkswagen rabbit custom diesel</td>\n    </tr>\n    <tr>\n      <th>245</th>\n      <td>36.1</td>\n      <td>4</td>\n      <td>98.0</td>\n      <td>66.00</td>\n      <td>1800.0</td>\n      <td>14.4</td>\n      <td>78</td>\n      <td>1</td>\n      <td>ford fiesta</td>\n    </tr>\n    <tr>\n      <th>246</th>\n      <td>32.8</td>\n      <td>4</td>\n      <td>78.0</td>\n      <td>52.00</td>\n      <td>1985.0</td>\n      <td>19.4</td>\n      <td>78</td>\n      <td>3</td>\n      <td>mazda glc deluxe</td>\n    </tr>\n    <tr>\n      <th>247</th>\n      <td>39.4</td>\n      <td>4</td>\n      <td>85.0</td>\n      <td>70.00</td>\n      <td>2070.0</td>\n      <td>18.6</td>\n      <td>78</td>\n      <td>3</td>\n      <td>datsun b210 gx</td>\n    </tr>\n    <tr>\n      <th>248</th>\n      <td>36.1</td>\n      <td>4</td>\n      <td>91.0</td>\n      <td>60.00</td>\n      <td>1800.0</td>\n      <td>16.4</td>\n      <td>78</td>\n      <td>3</td>\n      <td>honda civic cvcc</td>\n    </tr>\n    <tr>\n      <th>249</th>\n      <td>19.9</td>\n      <td>8</td>\n      <td>260.0</td>\n      <td>110.0</td>\n      <td>3365.0</td>\n      <td>15.5</td>\n      <td>78</td>\n      <td>1</td>\n      <td>oldsmobile cutlass salon brougham</td>\n    </tr>\n    <tr>\n      <th>250</th>\n      <td>19.4</td>\n      <td>8</td>\n      <td>318.0</td>\n      <td>140.0</td>\n      <td>3735.0</td>\n      <td>13.2</td>\n      <td>78</td>\n      <td>1</td>\n      <td>dodge diplomat</td>\n    </tr>\n    <tr>\n      <th>251</th>\n      <td>20.2</td>\n      <td>8</td>\n      <td>302.0</td>\n      <td>139.0</td>\n      <td>3570.0</td>\n      <td>12.8</td>\n      <td>78</td>\n      <td>1</td>\n      <td>mercury monarch ghia</td>\n    </tr>\n    <tr>\n      <th>252</th>\n      <td>19.2</td>\n      <td>6</td>\n      <td>231.0</td>\n      <td>105.0</td>\n      <td>3535.0</td>\n      <td>19.2</td>\n      <td>78</td>\n      <td>1</td>\n      <td>pontiac phoenix lj</td>\n    </tr>\n    <tr>\n      <th>253</th>\n      <td>20.5</td>\n      <td>6</td>\n      <td>200.0</td>\n      <td>95.00</td>\n      <td>3155.0</td>\n      <td>18.2</td>\n      <td>78</td>\n      <td>1</td>\n      <td>chevrolet malibu</td>\n    </tr>\n    <tr>\n      <th>254</th>\n      <td>20.2</td>\n      <td>6</td>\n      <td>200.0</td>\n      <td>85.00</td>\n      <td>2965.0</td>\n      <td>15.8</td>\n      <td>78</td>\n      <td>1</td>\n      <td>ford fairmont (auto)</td>\n    </tr>\n    <tr>\n      <th>255</th>\n      <td>25.1</td>\n      <td>4</td>\n      <td>140.0</td>\n      <td>88.00</td>\n      <td>2720.0</td>\n      <td>15.4</td>\n      <td>78</td>\n      <td>1</td>\n      <td>ford fairmont (man)</td>\n    </tr>\n    <tr>\n      <th>256</th>\n      <td>20.5</td>\n      <td>6</td>\n      <td>225.0</td>\n      <td>100.0</td>\n      <td>3430.0</td>\n      <td>17.2</td>\n      <td>78</td>\n      <td>1</td>\n      <td>plymouth volare</td>\n    </tr>\n    <tr>\n      <th>257</th>\n      <td>19.4</td>\n      <td>6</td>\n      <td>232.0</td>\n      <td>90.00</td>\n      <td>3210.0</td>\n      <td>17.2</td>\n      <td>78</td>\n      <td>1</td>\n      <td>amc concord</td>\n    </tr>\n    <tr>\n      <th>258</th>\n      <td>20.6</td>\n      <td>6</td>\n      <td>231.0</td>\n      <td>105.0</td>\n      <td>3380.0</td>\n      <td>15.8</td>\n      <td>78</td>\n      <td>1</td>\n      <td>buick century special</td>\n    </tr>\n    <tr>\n      <th>259</th>\n      <td>20.8</td>\n      <td>6</td>\n      <td>200.0</td>\n      <td>85.00</td>\n      <td>3070.0</td>\n      <td>16.7</td>\n      <td>78</td>\n      <td>1</td>\n      <td>mercury zephyr</td>\n    </tr>\n    <tr>\n      <th>260</th>\n      <td>18.6</td>\n      <td>6</td>\n      <td>225.0</td>\n      <td>110.0</td>\n      <td>3620.0</td>\n      <td>18.7</td>\n      <td>78</td>\n      <td>1</td>\n      <td>dodge aspen</td>\n    </tr>\n    <tr>\n      <th>261</th>\n      <td>18.1</td>\n      <td>6</td>\n      <td>258.0</td>\n      <td>120.0</td>\n      <td>3410.0</td>\n      <td>15.1</td>\n      <td>78</td>\n      <td>1</td>\n      <td>amc concord d/l</td>\n    </tr>\n    <tr>\n      <th>262</th>\n      <td>19.2</td>\n      <td>8</td>\n      <td>305.0</td>\n      <td>145.0</td>\n      <td>3425.0</td>\n      <td>13.2</td>\n      <td>78</td>\n      <td>1</td>\n      <td>chevrolet monte carlo landau</td>\n    </tr>\n    <tr>\n      <th>263</th>\n      <td>17.7</td>\n      <td>6</td>\n      <td>231.0</td>\n      <td>165.0</td>\n      <td>3445.0</td>\n      <td>13.4</td>\n      <td>78</td>\n      <td>1</td>\n      <td>buick regal sport coupe (turbo)</td>\n    </tr>\n    <tr>\n      <th>264</th>\n      <td>18.1</td>\n      <td>8</td>\n      <td>302.0</td>\n      <td>139.0</td>\n      <td>3205.0</td>\n      <td>11.2</td>\n      <td>78</td>\n      <td>1</td>\n      <td>ford futura</td>\n    </tr>\n    <tr>\n      <th>265</th>\n      <td>17.5</td>\n      <td>8</td>\n      <td>318.0</td>\n      <td>140.0</td>\n      <td>4080.0</td>\n      <td>13.7</td>\n      <td>78</td>\n      <td>1</td>\n      <td>dodge magnum xe</td>\n    </tr>\n    <tr>\n      <th>266</th>\n      <td>30.0</td>\n      <td>4</td>\n      <td>98.0</td>\n      <td>68.00</td>\n      <td>2155.0</td>\n      <td>16.5</td>\n      <td>78</td>\n      <td>1</td>\n      <td>chevrolet chevette</td>\n    </tr>\n    <tr>\n      <th>267</th>\n      <td>27.5</td>\n      <td>4</td>\n      <td>134.0</td>\n      <td>95.00</td>\n      <td>2560.0</td>\n      <td>14.2</td>\n      <td>78</td>\n      <td>3</td>\n      <td>toyota corona</td>\n    </tr>\n    <tr>\n      <th>268</th>\n      <td>27.2</td>\n      <td>4</td>\n      <td>119.0</td>\n      <td>97.00</td>\n      <td>2300.0</td>\n      <td>14.7</td>\n      <td>78</td>\n      <td>3</td>\n      <td>datsun 510</td>\n    </tr>\n    <tr>\n      <th>269</th>\n      <td>30.9</td>\n      <td>4</td>\n      <td>105.0</td>\n      <td>75.00</td>\n      <td>2230.0</td>\n      <td>14.5</td>\n      <td>78</td>\n      <td>1</td>\n      <td>dodge omni</td>\n    </tr>\n    <tr>\n      <th>270</th>\n      <td>21.1</td>\n      <td>4</td>\n      <td>134.0</td>\n      <td>95.00</td>\n      <td>2515.0</td>\n      <td>14.8</td>\n      <td>78</td>\n      <td>3</td>\n      <td>toyota celica gt liftback</td>\n    </tr>\n    <tr>\n      <th>271</th>\n      <td>23.2</td>\n      <td>4</td>\n      <td>156.0</td>\n      <td>105.0</td>\n      <td>2745.0</td>\n      <td>16.7</td>\n      <td>78</td>\n      <td>1</td>\n      <td>plymouth sapporo</td>\n    </tr>\n    <tr>\n      <th>272</th>\n      <td>23.8</td>\n      <td>4</td>\n      <td>151.0</td>\n      <td>85.00</td>\n      <td>2855.0</td>\n      <td>17.6</td>\n      <td>78</td>\n      <td>1</td>\n      <td>oldsmobile starfire sx</td>\n    </tr>\n    <tr>\n      <th>273</th>\n      <td>23.9</td>\n      <td>4</td>\n      <td>119.0</td>\n      <td>97.00</td>\n      <td>2405.0</td>\n      <td>14.9</td>\n      <td>78</td>\n      <td>3</td>\n      <td>datsun 200-sx</td>\n    </tr>\n    <tr>\n      <th>274</th>\n      <td>20.3</td>\n      <td>5</td>\n      <td>131.0</td>\n      <td>103.0</td>\n      <td>2830.0</td>\n      <td>15.9</td>\n      <td>78</td>\n      <td>2</td>\n      <td>audi 5000</td>\n    </tr>\n    <tr>\n      <th>275</th>\n      <td>17.0</td>\n      <td>6</td>\n      <td>163.0</td>\n      <td>125.0</td>\n      <td>3140.0</td>\n      <td>13.6</td>\n      <td>78</td>\n      <td>2</td>\n      <td>volvo 264gl</td>\n    </tr>\n    <tr>\n      <th>276</th>\n      <td>21.6</td>\n      <td>4</td>\n      <td>121.0</td>\n      <td>115.0</td>\n      <td>2795.0</td>\n      <td>15.7</td>\n      <td>78</td>\n      <td>2</td>\n      <td>saab 99gle</td>\n    </tr>\n    <tr>\n      <th>277</th>\n      <td>16.2</td>\n      <td>6</td>\n      <td>163.0</td>\n      <td>133.0</td>\n      <td>3410.0</td>\n      <td>15.8</td>\n      <td>78</td>\n      <td>2</td>\n      <td>peugeot 604sl</td>\n    </tr>\n    <tr>\n      <th>278</th>\n      <td>31.5</td>\n      <td>4</td>\n      <td>89.0</td>\n      <td>71.00</td>\n      <td>1990.0</td>\n      <td>14.9</td>\n      <td>78</td>\n      <td>2</td>\n      <td>volkswagen scirocco</td>\n    </tr>\n    <tr>\n      <th>279</th>\n      <td>29.5</td>\n      <td>4</td>\n      <td>98.0</td>\n      <td>68.00</td>\n      <td>2135.0</td>\n      <td>16.6</td>\n      <td>78</td>\n      <td>3</td>\n      <td>honda accord lx</td>\n    </tr>\n  </tbody>\n</table>\n</div>"
     },
     "metadata": {},
     "execution_count": 197
    }
   ],
   "source": [
    "df_mpg[df_mpg.model_year==78]"
   ]
  },
  {
   "cell_type": "code",
   "execution_count": 201,
   "metadata": {},
   "outputs": [],
   "source": [
    "toyota_78 = df_mpg[(df_mpg.model_year==78) & (df_mpg.car_name.str.contains('toyota'))]"
   ]
  },
  {
   "cell_type": "code",
   "execution_count": 202,
   "metadata": {},
   "outputs": [
    {
     "output_type": "execute_result",
     "data": {
      "text/plain": [
       "267    4\n",
       "270    4\n",
       "Name: cylinders, dtype: int64"
      ]
     },
     "metadata": {},
     "execution_count": 202
    }
   ],
   "source": [
    "toyota_78['cylinders']"
   ]
  },
  {
   "cell_type": "code",
   "execution_count": 204,
   "metadata": {},
   "outputs": [
    {
     "output_type": "execute_result",
     "data": {
      "text/plain": [
       "<BarContainer object of 1 artists>"
      ]
     },
     "metadata": {},
     "execution_count": 204
    },
    {
     "output_type": "display_data",
     "data": {
      "text/plain": "<Figure size 432x288 with 1 Axes>",
      "image/svg+xml": "<?xml version=\"1.0\" encoding=\"utf-8\" standalone=\"no\"?>\n<!DOCTYPE svg PUBLIC \"-//W3C//DTD SVG 1.1//EN\"\n  \"http://www.w3.org/Graphics/SVG/1.1/DTD/svg11.dtd\">\n<!-- Created with matplotlib (https://matplotlib.org/) -->\n<svg height=\"248.619687pt\" version=\"1.1\" viewBox=\"0 0 372.103125 248.619687\" width=\"372.103125pt\" xmlns=\"http://www.w3.org/2000/svg\" xmlns:xlink=\"http://www.w3.org/1999/xlink\">\n <defs>\n  <style type=\"text/css\">\n*{stroke-linecap:butt;stroke-linejoin:round;}\n  </style>\n </defs>\n <g id=\"figure_1\">\n  <g id=\"patch_1\">\n   <path d=\"M 0 248.619687 \nL 372.103125 248.619687 \nL 372.103125 0 \nL 0 0 \nz\n\" style=\"fill:none;\"/>\n  </g>\n  <g id=\"axes_1\">\n   <g id=\"patch_2\">\n    <path d=\"M 30.103125 224.64 \nL 364.903125 224.64 \nL 364.903125 7.2 \nL 30.103125 7.2 \nz\n\" style=\"fill:#ffffff;\"/>\n   </g>\n   <g id=\"patch_3\">\n    <path clip-path=\"url(#p950974c73c)\" d=\"M 45.321307 224.64 \nL 349.684943 224.64 \nL 349.684943 17.554286 \nL 45.321307 17.554286 \nz\n\" style=\"fill:#1f77b4;\"/>\n   </g>\n   <g id=\"matplotlib.axis_1\">\n    <g id=\"xtick_1\">\n     <g id=\"line2d_1\">\n      <defs>\n       <path d=\"M 0 0 \nL 0 3.5 \n\" id=\"m94f9a2f03f\" style=\"stroke:#000000;stroke-width:0.8;\"/>\n      </defs>\n      <g>\n       <use style=\"stroke:#000000;stroke-width:0.8;\" x=\"197.503125\" xlink:href=\"#m94f9a2f03f\" y=\"224.64\"/>\n      </g>\n     </g>\n     <g id=\"text_1\">\n      <!-- toyota_78 -->\n      <defs>\n       <path d=\"M 18.3125 70.21875 \nL 18.3125 54.6875 \nL 36.8125 54.6875 \nL 36.8125 47.703125 \nL 18.3125 47.703125 \nL 18.3125 18.015625 \nQ 18.3125 11.328125 20.140625 9.421875 \nQ 21.96875 7.515625 27.59375 7.515625 \nL 36.8125 7.515625 \nL 36.8125 0 \nL 27.59375 0 \nQ 17.1875 0 13.234375 3.875 \nQ 9.28125 7.765625 9.28125 18.015625 \nL 9.28125 47.703125 \nL 2.6875 47.703125 \nL 2.6875 54.6875 \nL 9.28125 54.6875 \nL 9.28125 70.21875 \nz\n\" id=\"DejaVuSans-116\"/>\n       <path d=\"M 30.609375 48.390625 \nQ 23.390625 48.390625 19.1875 42.75 \nQ 14.984375 37.109375 14.984375 27.296875 \nQ 14.984375 17.484375 19.15625 11.84375 \nQ 23.34375 6.203125 30.609375 6.203125 \nQ 37.796875 6.203125 41.984375 11.859375 \nQ 46.1875 17.53125 46.1875 27.296875 \nQ 46.1875 37.015625 41.984375 42.703125 \nQ 37.796875 48.390625 30.609375 48.390625 \nz\nM 30.609375 56 \nQ 42.328125 56 49.015625 48.375 \nQ 55.71875 40.765625 55.71875 27.296875 \nQ 55.71875 13.875 49.015625 6.21875 \nQ 42.328125 -1.421875 30.609375 -1.421875 \nQ 18.84375 -1.421875 12.171875 6.21875 \nQ 5.515625 13.875 5.515625 27.296875 \nQ 5.515625 40.765625 12.171875 48.375 \nQ 18.84375 56 30.609375 56 \nz\n\" id=\"DejaVuSans-111\"/>\n       <path d=\"M 32.171875 -5.078125 \nQ 28.375 -14.84375 24.75 -17.8125 \nQ 21.140625 -20.796875 15.09375 -20.796875 \nL 7.90625 -20.796875 \nL 7.90625 -13.28125 \nL 13.1875 -13.28125 \nQ 16.890625 -13.28125 18.9375 -11.515625 \nQ 21 -9.765625 23.484375 -3.21875 \nL 25.09375 0.875 \nL 2.984375 54.6875 \nL 12.5 54.6875 \nL 29.59375 11.921875 \nL 46.6875 54.6875 \nL 56.203125 54.6875 \nz\n\" id=\"DejaVuSans-121\"/>\n       <path d=\"M 34.28125 27.484375 \nQ 23.390625 27.484375 19.1875 25 \nQ 14.984375 22.515625 14.984375 16.5 \nQ 14.984375 11.71875 18.140625 8.90625 \nQ 21.296875 6.109375 26.703125 6.109375 \nQ 34.1875 6.109375 38.703125 11.40625 \nQ 43.21875 16.703125 43.21875 25.484375 \nL 43.21875 27.484375 \nz\nM 52.203125 31.203125 \nL 52.203125 0 \nL 43.21875 0 \nL 43.21875 8.296875 \nQ 40.140625 3.328125 35.546875 0.953125 \nQ 30.953125 -1.421875 24.3125 -1.421875 \nQ 15.921875 -1.421875 10.953125 3.296875 \nQ 6 8.015625 6 15.921875 \nQ 6 25.140625 12.171875 29.828125 \nQ 18.359375 34.515625 30.609375 34.515625 \nL 43.21875 34.515625 \nL 43.21875 35.40625 \nQ 43.21875 41.609375 39.140625 45 \nQ 35.0625 48.390625 27.6875 48.390625 \nQ 23 48.390625 18.546875 47.265625 \nQ 14.109375 46.140625 10.015625 43.890625 \nL 10.015625 52.203125 \nQ 14.9375 54.109375 19.578125 55.046875 \nQ 24.21875 56 28.609375 56 \nQ 40.484375 56 46.34375 49.84375 \nQ 52.203125 43.703125 52.203125 31.203125 \nz\n\" id=\"DejaVuSans-97\"/>\n       <path d=\"M 50.984375 -16.609375 \nL 50.984375 -23.578125 \nL -0.984375 -23.578125 \nL -0.984375 -16.609375 \nz\n\" id=\"DejaVuSans-95\"/>\n       <path d=\"M 8.203125 72.90625 \nL 55.078125 72.90625 \nL 55.078125 68.703125 \nL 28.609375 0 \nL 18.3125 0 \nL 43.21875 64.59375 \nL 8.203125 64.59375 \nz\n\" id=\"DejaVuSans-55\"/>\n       <path d=\"M 31.78125 34.625 \nQ 24.75 34.625 20.71875 30.859375 \nQ 16.703125 27.09375 16.703125 20.515625 \nQ 16.703125 13.921875 20.71875 10.15625 \nQ 24.75 6.390625 31.78125 6.390625 \nQ 38.8125 6.390625 42.859375 10.171875 \nQ 46.921875 13.96875 46.921875 20.515625 \nQ 46.921875 27.09375 42.890625 30.859375 \nQ 38.875 34.625 31.78125 34.625 \nz\nM 21.921875 38.8125 \nQ 15.578125 40.375 12.03125 44.71875 \nQ 8.5 49.078125 8.5 55.328125 \nQ 8.5 64.0625 14.71875 69.140625 \nQ 20.953125 74.21875 31.78125 74.21875 \nQ 42.671875 74.21875 48.875 69.140625 \nQ 55.078125 64.0625 55.078125 55.328125 \nQ 55.078125 49.078125 51.53125 44.71875 \nQ 48 40.375 41.703125 38.8125 \nQ 48.828125 37.15625 52.796875 32.3125 \nQ 56.78125 27.484375 56.78125 20.515625 \nQ 56.78125 9.90625 50.3125 4.234375 \nQ 43.84375 -1.421875 31.78125 -1.421875 \nQ 19.734375 -1.421875 13.25 4.234375 \nQ 6.78125 9.90625 6.78125 20.515625 \nQ 6.78125 27.484375 10.78125 32.3125 \nQ 14.796875 37.15625 21.921875 38.8125 \nz\nM 18.3125 54.390625 \nQ 18.3125 48.734375 21.84375 45.5625 \nQ 25.390625 42.390625 31.78125 42.390625 \nQ 38.140625 42.390625 41.71875 45.5625 \nQ 45.3125 48.734375 45.3125 54.390625 \nQ 45.3125 60.0625 41.71875 63.234375 \nQ 38.140625 66.40625 31.78125 66.40625 \nQ 25.390625 66.40625 21.84375 63.234375 \nQ 18.3125 60.0625 18.3125 54.390625 \nz\n\" id=\"DejaVuSans-56\"/>\n      </defs>\n      <g transform=\"translate(172.578125 239.061875)scale(0.1 -0.1)\">\n       <use xlink:href=\"#DejaVuSans-116\"/>\n       <use x=\"39.208984\" xlink:href=\"#DejaVuSans-111\"/>\n       <use x=\"100.390625\" xlink:href=\"#DejaVuSans-121\"/>\n       <use x=\"159.570312\" xlink:href=\"#DejaVuSans-111\"/>\n       <use x=\"220.751953\" xlink:href=\"#DejaVuSans-116\"/>\n       <use x=\"259.960938\" xlink:href=\"#DejaVuSans-97\"/>\n       <use x=\"321.240234\" xlink:href=\"#DejaVuSans-95\"/>\n       <use x=\"371.240234\" xlink:href=\"#DejaVuSans-55\"/>\n       <use x=\"434.863281\" xlink:href=\"#DejaVuSans-56\"/>\n      </g>\n     </g>\n    </g>\n   </g>\n   <g id=\"matplotlib.axis_2\">\n    <g id=\"ytick_1\">\n     <g id=\"line2d_2\">\n      <defs>\n       <path d=\"M 0 0 \nL -3.5 0 \n\" id=\"m5a43099269\" style=\"stroke:#000000;stroke-width:0.8;\"/>\n      </defs>\n      <g>\n       <use style=\"stroke:#000000;stroke-width:0.8;\" x=\"30.103125\" xlink:href=\"#m5a43099269\" y=\"224.64\"/>\n      </g>\n     </g>\n     <g id=\"text_2\">\n      <!-- 0.0 -->\n      <defs>\n       <path d=\"M 31.78125 66.40625 \nQ 24.171875 66.40625 20.328125 58.90625 \nQ 16.5 51.421875 16.5 36.375 \nQ 16.5 21.390625 20.328125 13.890625 \nQ 24.171875 6.390625 31.78125 6.390625 \nQ 39.453125 6.390625 43.28125 13.890625 \nQ 47.125 21.390625 47.125 36.375 \nQ 47.125 51.421875 43.28125 58.90625 \nQ 39.453125 66.40625 31.78125 66.40625 \nz\nM 31.78125 74.21875 \nQ 44.046875 74.21875 50.515625 64.515625 \nQ 56.984375 54.828125 56.984375 36.375 \nQ 56.984375 17.96875 50.515625 8.265625 \nQ 44.046875 -1.421875 31.78125 -1.421875 \nQ 19.53125 -1.421875 13.0625 8.265625 \nQ 6.59375 17.96875 6.59375 36.375 \nQ 6.59375 54.828125 13.0625 64.515625 \nQ 19.53125 74.21875 31.78125 74.21875 \nz\n\" id=\"DejaVuSans-48\"/>\n       <path d=\"M 10.6875 12.40625 \nL 21 12.40625 \nL 21 0 \nL 10.6875 0 \nz\n\" id=\"DejaVuSans-46\"/>\n      </defs>\n      <g transform=\"translate(7.2 228.439219)scale(0.1 -0.1)\">\n       <use xlink:href=\"#DejaVuSans-48\"/>\n       <use x=\"63.623047\" xlink:href=\"#DejaVuSans-46\"/>\n       <use x=\"95.410156\" xlink:href=\"#DejaVuSans-48\"/>\n      </g>\n     </g>\n    </g>\n    <g id=\"ytick_2\">\n     <g id=\"line2d_3\">\n      <g>\n       <use style=\"stroke:#000000;stroke-width:0.8;\" x=\"30.103125\" xlink:href=\"#m5a43099269\" y=\"183.222857\"/>\n      </g>\n     </g>\n     <g id=\"text_3\">\n      <!-- 0.2 -->\n      <defs>\n       <path d=\"M 19.1875 8.296875 \nL 53.609375 8.296875 \nL 53.609375 0 \nL 7.328125 0 \nL 7.328125 8.296875 \nQ 12.9375 14.109375 22.625 23.890625 \nQ 32.328125 33.6875 34.8125 36.53125 \nQ 39.546875 41.84375 41.421875 45.53125 \nQ 43.3125 49.21875 43.3125 52.78125 \nQ 43.3125 58.59375 39.234375 62.25 \nQ 35.15625 65.921875 28.609375 65.921875 \nQ 23.96875 65.921875 18.8125 64.3125 \nQ 13.671875 62.703125 7.8125 59.421875 \nL 7.8125 69.390625 \nQ 13.765625 71.78125 18.9375 73 \nQ 24.125 74.21875 28.421875 74.21875 \nQ 39.75 74.21875 46.484375 68.546875 \nQ 53.21875 62.890625 53.21875 53.421875 \nQ 53.21875 48.921875 51.53125 44.890625 \nQ 49.859375 40.875 45.40625 35.40625 \nQ 44.1875 33.984375 37.640625 27.21875 \nQ 31.109375 20.453125 19.1875 8.296875 \nz\n\" id=\"DejaVuSans-50\"/>\n      </defs>\n      <g transform=\"translate(7.2 187.022076)scale(0.1 -0.1)\">\n       <use xlink:href=\"#DejaVuSans-48\"/>\n       <use x=\"63.623047\" xlink:href=\"#DejaVuSans-46\"/>\n       <use x=\"95.410156\" xlink:href=\"#DejaVuSans-50\"/>\n      </g>\n     </g>\n    </g>\n    <g id=\"ytick_3\">\n     <g id=\"line2d_4\">\n      <g>\n       <use style=\"stroke:#000000;stroke-width:0.8;\" x=\"30.103125\" xlink:href=\"#m5a43099269\" y=\"141.805714\"/>\n      </g>\n     </g>\n     <g id=\"text_4\">\n      <!-- 0.4 -->\n      <defs>\n       <path d=\"M 37.796875 64.3125 \nL 12.890625 25.390625 \nL 37.796875 25.390625 \nz\nM 35.203125 72.90625 \nL 47.609375 72.90625 \nL 47.609375 25.390625 \nL 58.015625 25.390625 \nL 58.015625 17.1875 \nL 47.609375 17.1875 \nL 47.609375 0 \nL 37.796875 0 \nL 37.796875 17.1875 \nL 4.890625 17.1875 \nL 4.890625 26.703125 \nz\n\" id=\"DejaVuSans-52\"/>\n      </defs>\n      <g transform=\"translate(7.2 145.604933)scale(0.1 -0.1)\">\n       <use xlink:href=\"#DejaVuSans-48\"/>\n       <use x=\"63.623047\" xlink:href=\"#DejaVuSans-46\"/>\n       <use x=\"95.410156\" xlink:href=\"#DejaVuSans-52\"/>\n      </g>\n     </g>\n    </g>\n    <g id=\"ytick_4\">\n     <g id=\"line2d_5\">\n      <g>\n       <use style=\"stroke:#000000;stroke-width:0.8;\" x=\"30.103125\" xlink:href=\"#m5a43099269\" y=\"100.388571\"/>\n      </g>\n     </g>\n     <g id=\"text_5\">\n      <!-- 0.6 -->\n      <defs>\n       <path d=\"M 33.015625 40.375 \nQ 26.375 40.375 22.484375 35.828125 \nQ 18.609375 31.296875 18.609375 23.390625 \nQ 18.609375 15.53125 22.484375 10.953125 \nQ 26.375 6.390625 33.015625 6.390625 \nQ 39.65625 6.390625 43.53125 10.953125 \nQ 47.40625 15.53125 47.40625 23.390625 \nQ 47.40625 31.296875 43.53125 35.828125 \nQ 39.65625 40.375 33.015625 40.375 \nz\nM 52.59375 71.296875 \nL 52.59375 62.3125 \nQ 48.875 64.0625 45.09375 64.984375 \nQ 41.3125 65.921875 37.59375 65.921875 \nQ 27.828125 65.921875 22.671875 59.328125 \nQ 17.53125 52.734375 16.796875 39.40625 \nQ 19.671875 43.65625 24.015625 45.921875 \nQ 28.375 48.1875 33.59375 48.1875 \nQ 44.578125 48.1875 50.953125 41.515625 \nQ 57.328125 34.859375 57.328125 23.390625 \nQ 57.328125 12.15625 50.6875 5.359375 \nQ 44.046875 -1.421875 33.015625 -1.421875 \nQ 20.359375 -1.421875 13.671875 8.265625 \nQ 6.984375 17.96875 6.984375 36.375 \nQ 6.984375 53.65625 15.1875 63.9375 \nQ 23.390625 74.21875 37.203125 74.21875 \nQ 40.921875 74.21875 44.703125 73.484375 \nQ 48.484375 72.75 52.59375 71.296875 \nz\n\" id=\"DejaVuSans-54\"/>\n      </defs>\n      <g transform=\"translate(7.2 104.18779)scale(0.1 -0.1)\">\n       <use xlink:href=\"#DejaVuSans-48\"/>\n       <use x=\"63.623047\" xlink:href=\"#DejaVuSans-46\"/>\n       <use x=\"95.410156\" xlink:href=\"#DejaVuSans-54\"/>\n      </g>\n     </g>\n    </g>\n    <g id=\"ytick_5\">\n     <g id=\"line2d_6\">\n      <g>\n       <use style=\"stroke:#000000;stroke-width:0.8;\" x=\"30.103125\" xlink:href=\"#m5a43099269\" y=\"58.971429\"/>\n      </g>\n     </g>\n     <g id=\"text_6\">\n      <!-- 0.8 -->\n      <g transform=\"translate(7.2 62.770647)scale(0.1 -0.1)\">\n       <use xlink:href=\"#DejaVuSans-48\"/>\n       <use x=\"63.623047\" xlink:href=\"#DejaVuSans-46\"/>\n       <use x=\"95.410156\" xlink:href=\"#DejaVuSans-56\"/>\n      </g>\n     </g>\n    </g>\n    <g id=\"ytick_6\">\n     <g id=\"line2d_7\">\n      <g>\n       <use style=\"stroke:#000000;stroke-width:0.8;\" x=\"30.103125\" xlink:href=\"#m5a43099269\" y=\"17.554286\"/>\n      </g>\n     </g>\n     <g id=\"text_7\">\n      <!-- 1.0 -->\n      <defs>\n       <path d=\"M 12.40625 8.296875 \nL 28.515625 8.296875 \nL 28.515625 63.921875 \nL 10.984375 60.40625 \nL 10.984375 69.390625 \nL 28.421875 72.90625 \nL 38.28125 72.90625 \nL 38.28125 8.296875 \nL 54.390625 8.296875 \nL 54.390625 0 \nL 12.40625 0 \nz\n\" id=\"DejaVuSans-49\"/>\n      </defs>\n      <g transform=\"translate(7.2 21.353504)scale(0.1 -0.1)\">\n       <use xlink:href=\"#DejaVuSans-49\"/>\n       <use x=\"63.623047\" xlink:href=\"#DejaVuSans-46\"/>\n       <use x=\"95.410156\" xlink:href=\"#DejaVuSans-48\"/>\n      </g>\n     </g>\n    </g>\n   </g>\n   <g id=\"patch_4\">\n    <path d=\"M 30.103125 224.64 \nL 30.103125 7.2 \n\" style=\"fill:none;stroke:#000000;stroke-linecap:square;stroke-linejoin:miter;stroke-width:0.8;\"/>\n   </g>\n   <g id=\"patch_5\">\n    <path d=\"M 364.903125 224.64 \nL 364.903125 7.2 \n\" style=\"fill:none;stroke:#000000;stroke-linecap:square;stroke-linejoin:miter;stroke-width:0.8;\"/>\n   </g>\n   <g id=\"patch_6\">\n    <path d=\"M 30.103125 224.64 \nL 364.903125 224.64 \n\" style=\"fill:none;stroke:#000000;stroke-linecap:square;stroke-linejoin:miter;stroke-width:0.8;\"/>\n   </g>\n   <g id=\"patch_7\">\n    <path d=\"M 30.103125 7.2 \nL 364.903125 7.2 \n\" style=\"fill:none;stroke:#000000;stroke-linecap:square;stroke-linejoin:miter;stroke-width:0.8;\"/>\n   </g>\n  </g>\n </g>\n <defs>\n  <clipPath id=\"p950974c73c\">\n   <rect height=\"217.44\" width=\"334.8\" x=\"30.103125\" y=\"7.2\"/>\n  </clipPath>\n </defs>\n</svg>\n",
      "image/png": "[encoded data removed]"
     },
     "metadata": {
      "needs_background": "light"
     }
    }
   ],
   "source": [
    "plt.bar('toyota_78', height =1 )"
   ]
  },
  {
   "cell_type": "code",
   "execution_count": 209,
   "metadata": {},
   "outputs": [],
   "source": [
    "x=np.ones((3,3))"
   ]
  },
  {
   "cell_type": "code",
   "execution_count": 210,
   "metadata": {},
   "outputs": [
    {
     "output_type": "execute_result",
     "data": {
      "text/plain": [
       "array([[1, 1, 1],\n",
       "       [1, 1, 1],\n",
       "       [1, 1, 1]])"
      ]
     },
     "metadata": {},
     "execution_count": 210
    }
   ],
   "source": [
    "x.astype(int)"
   ]
  },
  {
   "cell_type": "code",
   "execution_count": 211,
   "metadata": {},
   "outputs": [],
   "source": [
    "admins = pd.DataFrame({'Name': {0: 'Megane', 1: 'Yonah', 2: 'Avner'}, \n",
    "                   'Course': {0: 'Masters', 1: 'Bachelors', 2: 'Graduate'}, \n",
    "                   'Nationality': {0: \"FR\", 1: \"US\", 2: \"FR\"}})"
   ]
  },
  {
   "cell_type": "code",
   "execution_count": 212,
   "metadata": {},
   "outputs": [
    {
     "output_type": "execute_result",
     "data": {
      "text/plain": [
       "     Name     Course Nationality\n",
       "0  Megane    Masters          FR\n",
       "1   Yonah  Bachelors          US\n",
       "2   Avner   Graduate          FR"
      ],
      "text/html": "<div>\n<style scoped>\n    .dataframe tbody tr th:only-of-type {\n        vertical-align: middle;\n    }\n\n    .dataframe tbody tr th {\n        vertical-align: top;\n    }\n\n    .dataframe thead th {\n        text-align: right;\n    }\n</style>\n<table border=\"1\" class=\"dataframe\">\n  <thead>\n    <tr style=\"text-align: right;\">\n      <th></th>\n      <th>Name</th>\n      <th>Course</th>\n      <th>Nationality</th>\n    </tr>\n  </thead>\n  <tbody>\n    <tr>\n      <th>0</th>\n      <td>Megane</td>\n      <td>Masters</td>\n      <td>FR</td>\n    </tr>\n    <tr>\n      <th>1</th>\n      <td>Yonah</td>\n      <td>Bachelors</td>\n      <td>US</td>\n    </tr>\n    <tr>\n      <th>2</th>\n      <td>Avner</td>\n      <td>Graduate</td>\n      <td>FR</td>\n    </tr>\n  </tbody>\n</table>\n</div>"
     },
     "metadata": {},
     "execution_count": 212
    }
   ],
   "source": [
    "admins"
   ]
  },
  {
   "cell_type": "code",
   "execution_count": 213,
   "metadata": {},
   "outputs": [
    {
     "output_type": "execute_result",
     "data": {
      "text/plain": [
       "      variable      value\n",
       "0         Name     Megane\n",
       "1         Name      Yonah\n",
       "2         Name      Avner\n",
       "3       Course    Masters\n",
       "4       Course  Bachelors\n",
       "5       Course   Graduate\n",
       "6  Nationality         FR\n",
       "7  Nationality         US\n",
       "8  Nationality         FR"
      ],
      "text/html": "<div>\n<style scoped>\n    .dataframe tbody tr th:only-of-type {\n        vertical-align: middle;\n    }\n\n    .dataframe tbody tr th {\n        vertical-align: top;\n    }\n\n    .dataframe thead th {\n        text-align: right;\n    }\n</style>\n<table border=\"1\" class=\"dataframe\">\n  <thead>\n    <tr style=\"text-align: right;\">\n      <th></th>\n      <th>variable</th>\n      <th>value</th>\n    </tr>\n  </thead>\n  <tbody>\n    <tr>\n      <th>0</th>\n      <td>Name</td>\n      <td>Megane</td>\n    </tr>\n    <tr>\n      <th>1</th>\n      <td>Name</td>\n      <td>Yonah</td>\n    </tr>\n    <tr>\n      <th>2</th>\n      <td>Name</td>\n      <td>Avner</td>\n    </tr>\n    <tr>\n      <th>3</th>\n      <td>Course</td>\n      <td>Masters</td>\n    </tr>\n    <tr>\n      <th>4</th>\n      <td>Course</td>\n      <td>Bachelors</td>\n    </tr>\n    <tr>\n      <th>5</th>\n      <td>Course</td>\n      <td>Graduate</td>\n    </tr>\n    <tr>\n      <th>6</th>\n      <td>Nationality</td>\n      <td>FR</td>\n    </tr>\n    <tr>\n      <th>7</th>\n      <td>Nationality</td>\n      <td>US</td>\n    </tr>\n    <tr>\n      <th>8</th>\n      <td>Nationality</td>\n      <td>FR</td>\n    </tr>\n  </tbody>\n</table>\n</div>"
     },
     "metadata": {},
     "execution_count": 213
    }
   ],
   "source": [
    "pd.melt(admins)"
   ]
  },
  {
   "cell_type": "code",
   "execution_count": 214,
   "metadata": {},
   "outputs": [],
   "source": [
    "tips = pd.read_csv('https://raw.githubusercontent.com/mwaskom/seaborn-data/master/tips.csv')"
   ]
  },
  {
   "cell_type": "code",
   "execution_count": 215,
   "metadata": {},
   "outputs": [
    {
     "output_type": "execute_result",
     "data": {
      "text/plain": [
       "   total_bill   tip     sex smoker  day    time  size\n",
       "0       16.99  1.01  Female     No  Sun  Dinner     2\n",
       "1       10.34  1.66    Male     No  Sun  Dinner     3\n",
       "2       21.01  3.50    Male     No  Sun  Dinner     3\n",
       "3       23.68  3.31    Male     No  Sun  Dinner     2\n",
       "4       24.59  3.61  Female     No  Sun  Dinner     4"
      ],
      "text/html": "<div>\n<style scoped>\n    .dataframe tbody tr th:only-of-type {\n        vertical-align: middle;\n    }\n\n    .dataframe tbody tr th {\n        vertical-align: top;\n    }\n\n    .dataframe thead th {\n        text-align: right;\n    }\n</style>\n<table border=\"1\" class=\"dataframe\">\n  <thead>\n    <tr style=\"text-align: right;\">\n      <th></th>\n      <th>total_bill</th>\n      <th>tip</th>\n      <th>sex</th>\n      <th>smoker</th>\n      <th>day</th>\n      <th>time</th>\n      <th>size</th>\n    </tr>\n  </thead>\n  <tbody>\n    <tr>\n      <th>0</th>\n      <td>16.99</td>\n      <td>1.01</td>\n      <td>Female</td>\n      <td>No</td>\n      <td>Sun</td>\n      <td>Dinner</td>\n      <td>2</td>\n    </tr>\n    <tr>\n      <th>1</th>\n      <td>10.34</td>\n      <td>1.66</td>\n      <td>Male</td>\n      <td>No</td>\n      <td>Sun</td>\n      <td>Dinner</td>\n      <td>3</td>\n    </tr>\n    <tr>\n      <th>2</th>\n      <td>21.01</td>\n      <td>3.50</td>\n      <td>Male</td>\n      <td>No</td>\n      <td>Sun</td>\n      <td>Dinner</td>\n      <td>3</td>\n    </tr>\n    <tr>\n      <th>3</th>\n      <td>23.68</td>\n      <td>3.31</td>\n      <td>Male</td>\n      <td>No</td>\n      <td>Sun</td>\n      <td>Dinner</td>\n      <td>2</td>\n    </tr>\n    <tr>\n      <th>4</th>\n      <td>24.59</td>\n      <td>3.61</td>\n      <td>Female</td>\n      <td>No</td>\n      <td>Sun</td>\n      <td>Dinner</td>\n      <td>4</td>\n    </tr>\n  </tbody>\n</table>\n</div>"
     },
     "metadata": {},
     "execution_count": 215
    }
   ],
   "source": [
    "tips.head()"
   ]
  },
  {
   "cell_type": "code",
   "execution_count": 222,
   "metadata": {},
   "outputs": [],
   "source": [
    "tips.groupby('sex')"
   ]
  }
 ]
}